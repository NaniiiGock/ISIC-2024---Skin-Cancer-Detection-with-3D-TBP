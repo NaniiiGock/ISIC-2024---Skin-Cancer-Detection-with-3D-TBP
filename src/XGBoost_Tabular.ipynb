{
  "nbformat": 4,
  "nbformat_minor": 0,
  "metadata": {
    "colab": {
      "provenance": [],
      "collapsed_sections": [
        "VmZVm8E__Y2Y",
        "ajKZTTZPDYvf",
        "G79fi1lsDSfw"
      ]
    },
    "kernelspec": {
      "name": "python3",
      "display_name": "Python 3"
    },
    "language_info": {
      "name": "python"
    }
  },
  "cells": [
    {
      "cell_type": "code",
      "execution_count": 1,
      "metadata": {
        "id": "qvZzt0utfcoO"
      },
      "outputs": [],
      "source": [
        "import pandas as pd\n",
        "import numpy as np"
      ]
    },
    {
      "cell_type": "code",
      "source": [
        "from google.colab import drive\n",
        "drive.mount('/content/drive')"
      ],
      "metadata": {
        "colab": {
          "base_uri": "https://localhost:8080/"
        },
        "id": "Bv2IrbBNfxKM",
        "outputId": "2fb98926-cbd6-4cc1-ac08-5721f88be7cc"
      },
      "execution_count": 2,
      "outputs": [
        {
          "output_type": "stream",
          "name": "stdout",
          "text": [
            "Mounted at /content/drive\n"
          ]
        }
      ]
    },
    {
      "cell_type": "markdown",
      "source": [
        "# Load data"
      ],
      "metadata": {
        "id": "tnJThnYM_UcW"
      }
    },
    {
      "cell_type": "code",
      "source": [
        "train_data = pd.read_csv('/content/drive/MyDrive/ML Project - Skin Cancer/train-metadata.csv', low_memory=False)\n",
        "test_data = pd.read_csv('/content/drive/MyDrive/ML Project - Skin Cancer/test-metadata.csv', low_memory=False)"
      ],
      "metadata": {
        "id": "V7Pq9lDigDeW"
      },
      "execution_count": 3,
      "outputs": []
    },
    {
      "cell_type": "markdown",
      "source": [
        "# Drop useless columns in training metadata"
      ],
      "metadata": {
        "id": "VmZVm8E__Y2Y"
      }
    },
    {
      "cell_type": "code",
      "source": [
        "useless_cols = set(train_data.columns) - set(test_data.columns)\n",
        "useless_cols.remove('target')\n",
        "useless_cols = list(useless_cols)\n",
        "train_data = train_data.drop(columns=useless_cols)"
      ],
      "metadata": {
        "id": "x5uCllA5gOnP"
      },
      "execution_count": 4,
      "outputs": []
    },
    {
      "cell_type": "code",
      "source": [
        "useless_cols"
      ],
      "metadata": {
        "colab": {
          "base_uri": "https://localhost:8080/"
        },
        "id": "w4Dn2kFCcRqn",
        "outputId": "28549355-6944-47a0-9af8-583f2fad14d9"
      },
      "execution_count": 5,
      "outputs": [
        {
          "output_type": "execute_result",
          "data": {
            "text/plain": [
              "['mel_mitotic_index',\n",
              " 'tbp_lv_dnn_lesion_confidence',\n",
              " 'iddx_3',\n",
              " 'iddx_1',\n",
              " 'iddx_2',\n",
              " 'iddx_5',\n",
              " 'mel_thick_mm',\n",
              " 'iddx_full',\n",
              " 'lesion_id',\n",
              " 'iddx_4']"
            ]
          },
          "metadata": {},
          "execution_count": 5
        }
      ]
    },
    {
      "cell_type": "code",
      "source": [
        "train_size = train_data.shape[0]\n",
        "train_size"
      ],
      "metadata": {
        "colab": {
          "base_uri": "https://localhost:8080/"
        },
        "id": "rwxwN3g7kO0W",
        "outputId": "8bc982fd-6753-4216-d530-860d2b829e17"
      },
      "execution_count": 6,
      "outputs": [
        {
          "output_type": "execute_result",
          "data": {
            "text/plain": [
              "401059"
            ]
          },
          "metadata": {},
          "execution_count": 6
        }
      ]
    },
    {
      "cell_type": "markdown",
      "source": [
        "# Extract the target for training"
      ],
      "metadata": {
        "id": "aEtZi9Eu_niC"
      }
    },
    {
      "cell_type": "code",
      "source": [
        "X_train = train_data.drop(columns='target')\n",
        "y_train = train_data['target']"
      ],
      "metadata": {
        "id": "XkEAI0cnqS_5"
      },
      "execution_count": 7,
      "outputs": []
    },
    {
      "cell_type": "markdown",
      "source": [
        "# Fill absent values"
      ],
      "metadata": {
        "id": "4uK6zxoB_vgk"
      }
    },
    {
      "cell_type": "code",
      "source": [
        "X_train.fillna({'age_approx': X_train['age_approx'].mean(),'anatom_site_general':'NA','sex':'NA'}, inplace=True)"
      ],
      "metadata": {
        "id": "-iMYrvY_6Sz3"
      },
      "execution_count": 8,
      "outputs": []
    },
    {
      "cell_type": "markdown",
      "source": [
        "# Combine the test and training set, after normalization will be split again"
      ],
      "metadata": {
        "id": "RC2s--NRAHkL"
      }
    },
    {
      "cell_type": "code",
      "source": [
        "all_data = pd.concat([X_train, test_data])\n",
        "all_data.reset_index(drop=True, inplace=True)\n",
        "all_data.shape[0]"
      ],
      "metadata": {
        "colab": {
          "base_uri": "https://localhost:8080/"
        },
        "collapsed": true,
        "id": "n-mD46Cj3dOj",
        "outputId": "28e75c97-70f1-4d96-b352-0d9ff8d704eb"
      },
      "execution_count": 9,
      "outputs": [
        {
          "output_type": "execute_result",
          "data": {
            "text/plain": [
              "401062"
            ]
          },
          "metadata": {},
          "execution_count": 9
        }
      ]
    },
    {
      "cell_type": "code",
      "source": [
        "all_data.dtypes"
      ],
      "metadata": {
        "colab": {
          "base_uri": "https://localhost:8080/",
          "height": 1000
        },
        "collapsed": true,
        "id": "Fl6Cuzya-nwj",
        "outputId": "bb73ec94-e80d-4781-d93d-e2d518e7c966"
      },
      "execution_count": null,
      "outputs": [
        {
          "output_type": "execute_result",
          "data": {
            "text/plain": [
              "isic_id                         object\n",
              "patient_id                      object\n",
              "age_approx                     float64\n",
              "sex                             object\n",
              "anatom_site_general             object\n",
              "clin_size_long_diam_mm         float64\n",
              "image_type                      object\n",
              "tbp_tile_type                   object\n",
              "tbp_lv_A                       float64\n",
              "tbp_lv_Aext                    float64\n",
              "tbp_lv_B                       float64\n",
              "tbp_lv_Bext                    float64\n",
              "tbp_lv_C                       float64\n",
              "tbp_lv_Cext                    float64\n",
              "tbp_lv_H                       float64\n",
              "tbp_lv_Hext                    float64\n",
              "tbp_lv_L                       float64\n",
              "tbp_lv_Lext                    float64\n",
              "tbp_lv_areaMM2                 float64\n",
              "tbp_lv_area_perim_ratio        float64\n",
              "tbp_lv_color_std_mean          float64\n",
              "tbp_lv_deltaA                  float64\n",
              "tbp_lv_deltaB                  float64\n",
              "tbp_lv_deltaL                  float64\n",
              "tbp_lv_deltaLB                 float64\n",
              "tbp_lv_deltaLBnorm             float64\n",
              "tbp_lv_eccentricity            float64\n",
              "tbp_lv_location                 object\n",
              "tbp_lv_location_simple          object\n",
              "tbp_lv_minorAxisMM             float64\n",
              "tbp_lv_nevi_confidence         float64\n",
              "tbp_lv_norm_border             float64\n",
              "tbp_lv_norm_color              float64\n",
              "tbp_lv_perimeterMM             float64\n",
              "tbp_lv_radial_color_std_max    float64\n",
              "tbp_lv_stdL                    float64\n",
              "tbp_lv_stdLExt                 float64\n",
              "tbp_lv_symm_2axis              float64\n",
              "tbp_lv_symm_2axis_angle          int64\n",
              "tbp_lv_x                       float64\n",
              "tbp_lv_y                       float64\n",
              "tbp_lv_z                       float64\n",
              "attribution                     object\n",
              "copyright_license               object\n",
              "dtype: object"
            ],
            "text/html": [
              "<div>\n",
              "<style scoped>\n",
              "    .dataframe tbody tr th:only-of-type {\n",
              "        vertical-align: middle;\n",
              "    }\n",
              "\n",
              "    .dataframe tbody tr th {\n",
              "        vertical-align: top;\n",
              "    }\n",
              "\n",
              "    .dataframe thead th {\n",
              "        text-align: right;\n",
              "    }\n",
              "</style>\n",
              "<table border=\"1\" class=\"dataframe\">\n",
              "  <thead>\n",
              "    <tr style=\"text-align: right;\">\n",
              "      <th></th>\n",
              "      <th>0</th>\n",
              "    </tr>\n",
              "  </thead>\n",
              "  <tbody>\n",
              "    <tr>\n",
              "      <th>isic_id</th>\n",
              "      <td>object</td>\n",
              "    </tr>\n",
              "    <tr>\n",
              "      <th>patient_id</th>\n",
              "      <td>object</td>\n",
              "    </tr>\n",
              "    <tr>\n",
              "      <th>age_approx</th>\n",
              "      <td>float64</td>\n",
              "    </tr>\n",
              "    <tr>\n",
              "      <th>sex</th>\n",
              "      <td>object</td>\n",
              "    </tr>\n",
              "    <tr>\n",
              "      <th>anatom_site_general</th>\n",
              "      <td>object</td>\n",
              "    </tr>\n",
              "    <tr>\n",
              "      <th>clin_size_long_diam_mm</th>\n",
              "      <td>float64</td>\n",
              "    </tr>\n",
              "    <tr>\n",
              "      <th>image_type</th>\n",
              "      <td>object</td>\n",
              "    </tr>\n",
              "    <tr>\n",
              "      <th>tbp_tile_type</th>\n",
              "      <td>object</td>\n",
              "    </tr>\n",
              "    <tr>\n",
              "      <th>tbp_lv_A</th>\n",
              "      <td>float64</td>\n",
              "    </tr>\n",
              "    <tr>\n",
              "      <th>tbp_lv_Aext</th>\n",
              "      <td>float64</td>\n",
              "    </tr>\n",
              "    <tr>\n",
              "      <th>tbp_lv_B</th>\n",
              "      <td>float64</td>\n",
              "    </tr>\n",
              "    <tr>\n",
              "      <th>tbp_lv_Bext</th>\n",
              "      <td>float64</td>\n",
              "    </tr>\n",
              "    <tr>\n",
              "      <th>tbp_lv_C</th>\n",
              "      <td>float64</td>\n",
              "    </tr>\n",
              "    <tr>\n",
              "      <th>tbp_lv_Cext</th>\n",
              "      <td>float64</td>\n",
              "    </tr>\n",
              "    <tr>\n",
              "      <th>tbp_lv_H</th>\n",
              "      <td>float64</td>\n",
              "    </tr>\n",
              "    <tr>\n",
              "      <th>tbp_lv_Hext</th>\n",
              "      <td>float64</td>\n",
              "    </tr>\n",
              "    <tr>\n",
              "      <th>tbp_lv_L</th>\n",
              "      <td>float64</td>\n",
              "    </tr>\n",
              "    <tr>\n",
              "      <th>tbp_lv_Lext</th>\n",
              "      <td>float64</td>\n",
              "    </tr>\n",
              "    <tr>\n",
              "      <th>tbp_lv_areaMM2</th>\n",
              "      <td>float64</td>\n",
              "    </tr>\n",
              "    <tr>\n",
              "      <th>tbp_lv_area_perim_ratio</th>\n",
              "      <td>float64</td>\n",
              "    </tr>\n",
              "    <tr>\n",
              "      <th>tbp_lv_color_std_mean</th>\n",
              "      <td>float64</td>\n",
              "    </tr>\n",
              "    <tr>\n",
              "      <th>tbp_lv_deltaA</th>\n",
              "      <td>float64</td>\n",
              "    </tr>\n",
              "    <tr>\n",
              "      <th>tbp_lv_deltaB</th>\n",
              "      <td>float64</td>\n",
              "    </tr>\n",
              "    <tr>\n",
              "      <th>tbp_lv_deltaL</th>\n",
              "      <td>float64</td>\n",
              "    </tr>\n",
              "    <tr>\n",
              "      <th>tbp_lv_deltaLB</th>\n",
              "      <td>float64</td>\n",
              "    </tr>\n",
              "    <tr>\n",
              "      <th>tbp_lv_deltaLBnorm</th>\n",
              "      <td>float64</td>\n",
              "    </tr>\n",
              "    <tr>\n",
              "      <th>tbp_lv_eccentricity</th>\n",
              "      <td>float64</td>\n",
              "    </tr>\n",
              "    <tr>\n",
              "      <th>tbp_lv_location</th>\n",
              "      <td>object</td>\n",
              "    </tr>\n",
              "    <tr>\n",
              "      <th>tbp_lv_location_simple</th>\n",
              "      <td>object</td>\n",
              "    </tr>\n",
              "    <tr>\n",
              "      <th>tbp_lv_minorAxisMM</th>\n",
              "      <td>float64</td>\n",
              "    </tr>\n",
              "    <tr>\n",
              "      <th>tbp_lv_nevi_confidence</th>\n",
              "      <td>float64</td>\n",
              "    </tr>\n",
              "    <tr>\n",
              "      <th>tbp_lv_norm_border</th>\n",
              "      <td>float64</td>\n",
              "    </tr>\n",
              "    <tr>\n",
              "      <th>tbp_lv_norm_color</th>\n",
              "      <td>float64</td>\n",
              "    </tr>\n",
              "    <tr>\n",
              "      <th>tbp_lv_perimeterMM</th>\n",
              "      <td>float64</td>\n",
              "    </tr>\n",
              "    <tr>\n",
              "      <th>tbp_lv_radial_color_std_max</th>\n",
              "      <td>float64</td>\n",
              "    </tr>\n",
              "    <tr>\n",
              "      <th>tbp_lv_stdL</th>\n",
              "      <td>float64</td>\n",
              "    </tr>\n",
              "    <tr>\n",
              "      <th>tbp_lv_stdLExt</th>\n",
              "      <td>float64</td>\n",
              "    </tr>\n",
              "    <tr>\n",
              "      <th>tbp_lv_symm_2axis</th>\n",
              "      <td>float64</td>\n",
              "    </tr>\n",
              "    <tr>\n",
              "      <th>tbp_lv_symm_2axis_angle</th>\n",
              "      <td>int64</td>\n",
              "    </tr>\n",
              "    <tr>\n",
              "      <th>tbp_lv_x</th>\n",
              "      <td>float64</td>\n",
              "    </tr>\n",
              "    <tr>\n",
              "      <th>tbp_lv_y</th>\n",
              "      <td>float64</td>\n",
              "    </tr>\n",
              "    <tr>\n",
              "      <th>tbp_lv_z</th>\n",
              "      <td>float64</td>\n",
              "    </tr>\n",
              "    <tr>\n",
              "      <th>attribution</th>\n",
              "      <td>object</td>\n",
              "    </tr>\n",
              "    <tr>\n",
              "      <th>copyright_license</th>\n",
              "      <td>object</td>\n",
              "    </tr>\n",
              "  </tbody>\n",
              "</table>\n",
              "</div><br><label><b>dtype:</b> object</label>"
            ]
          },
          "metadata": {},
          "execution_count": 12
        }
      ]
    },
    {
      "cell_type": "code",
      "source": [
        "print(all_data['sex'].dtype)"
      ],
      "metadata": {
        "colab": {
          "base_uri": "https://localhost:8080/"
        },
        "id": "CF6zwRLf4ws8",
        "outputId": "dd176e95-90f0-4f4f-e78b-e635a94701e5"
      },
      "execution_count": 10,
      "outputs": [
        {
          "output_type": "stream",
          "name": "stdout",
          "text": [
            "object\n"
          ]
        }
      ]
    },
    {
      "cell_type": "markdown",
      "source": [
        "# Drop useless columns in both sets"
      ],
      "metadata": {
        "id": "IdKEa9ERAQnD"
      }
    },
    {
      "cell_type": "code",
      "source": [
        "all_data = all_data.drop(columns=['copyright_license', 'attribution', 'image_type', 'patient_id'])"
      ],
      "metadata": {
        "id": "SmWYFjje-Diy"
      },
      "execution_count": 10,
      "outputs": []
    },
    {
      "cell_type": "markdown",
      "source": [
        "# Get the names of numeric and categorical columns"
      ],
      "metadata": {
        "id": "hkwzwJmVAW56"
      }
    },
    {
      "cell_type": "code",
      "source": [
        "from imblearn.over_sampling import SMOTE\n",
        "from sklearn.preprocessing import StandardScaler, OneHotEncoder\n",
        "col_num = []\n",
        "col_cat = []\n",
        "for col in all_data:\n",
        "  if col in ['isic_id']: continue;\n",
        "  if all_data[col].dtype == 'object':\n",
        "    col_cat.append(col)\n",
        "    all_data[col] = all_data[col].astype('category')\n",
        "  else:\n",
        "    col_num.append(col)\n",
        "    all_data[col] = all_data[col].astype('float64')"
      ],
      "metadata": {
        "id": "IudSFi8P2_ew"
      },
      "execution_count": 11,
      "outputs": []
    },
    {
      "cell_type": "markdown",
      "source": [
        "# Normalization for numeric columns"
      ],
      "metadata": {
        "id": "sd1w6WyC_Ipr"
      }
    },
    {
      "cell_type": "code",
      "source": [
        "# Normalization for numeric values\n",
        "numeric_transformer = StandardScaler()\n",
        "all_data.loc[:,col_num] = numeric_transformer.fit_transform(all_data[col_num])"
      ],
      "metadata": {
        "id": "ibvNB7xT533X"
      },
      "execution_count": 12,
      "outputs": []
    },
    {
      "cell_type": "markdown",
      "source": [
        "# One hot encoding for categorical columns."
      ],
      "metadata": {
        "id": "SnpMqPmG_Bhu"
      }
    },
    {
      "cell_type": "code",
      "source": [
        "categorical_transformer = OneHotEncoder(sparse_output=False)\n",
        "X_cat = categorical_transformer.fit_transform(all_data[col_cat])\n",
        "new_cat_col = categorical_transformer.get_feature_names_out(col_cat)"
      ],
      "metadata": {
        "collapsed": true,
        "id": "MEFBzgkt8usk"
      },
      "execution_count": 13,
      "outputs": []
    },
    {
      "cell_type": "code",
      "source": [
        "all_data = all_data.drop(columns=col_cat)"
      ],
      "metadata": {
        "id": "n9jvonRoB66N"
      },
      "execution_count": 14,
      "outputs": []
    },
    {
      "cell_type": "code",
      "source": [
        "all_data = pd.concat([all_data,pd.DataFrame(X_cat, columns=new_cat_col)],axis=1)"
      ],
      "metadata": {
        "id": "L1cF-CHd367Z"
      },
      "execution_count": 15,
      "outputs": []
    },
    {
      "cell_type": "markdown",
      "source": [
        "# Return the data to test and training set"
      ],
      "metadata": {
        "id": "a3CLLtsNAzFN"
      }
    },
    {
      "cell_type": "code",
      "source": [
        "X_train = all_data.iloc[0:train_size,:]\n",
        "X_test = all_data.iloc[train_size:,:]"
      ],
      "metadata": {
        "id": "imD52v5A6J5y"
      },
      "execution_count": 16,
      "outputs": []
    },
    {
      "cell_type": "code",
      "source": [
        "X_test.reset_index(drop=True, inplace=True)"
      ],
      "metadata": {
        "id": "U2x_wYc7KB6S"
      },
      "execution_count": 17,
      "outputs": []
    },
    {
      "cell_type": "markdown",
      "source": [
        "# Take out the id for test and training set"
      ],
      "metadata": {
        "id": "KPjwWI7sBA16"
      }
    },
    {
      "cell_type": "code",
      "source": [
        "col_id = ['isic_id']\n",
        "X_train_id = X_train[col_id]\n",
        "X_train_data = X_train.drop(columns=col_id)\n",
        "X_test_id = X_test[col_id]\n",
        "X_test_data = X_test.drop(columns=col_id)"
      ],
      "metadata": {
        "id": "SLwHChE7r_xo"
      },
      "execution_count": 18,
      "outputs": []
    },
    {
      "cell_type": "markdown",
      "source": [
        "# Some statistics"
      ],
      "metadata": {
        "id": "ajKZTTZPDYvf"
      }
    },
    {
      "cell_type": "code",
      "source": [
        "import matplotlib.pyplot as plt\n",
        "import seaborn as sns\n",
        "\n",
        "data_updated = X_train[col_num]\n",
        "correlation= data_updated.corr()\n",
        "\n",
        "# axis_corr = sns.heatmap(\n",
        "#   correlation,\n",
        "#   vmin=-1, vmax=1, center=0,\n",
        "#   cmap=sns.diverging_palette(100, 500, n=500, as_cmap=True),\n",
        "#   square=True\n",
        "# )\n",
        "\n",
        "axis_corr = sns.heatmap(\n",
        "    correlation,\n",
        "    vmin=-1, vmax=1, center=0,\n",
        "    cmap=sns.diverging_palette(240, 10, n=500, as_cmap=True),  # Blue to red diverging palette\n",
        "    square=True,\n",
        "    linewidths=0.5,  # Optional: spacing between cells\n",
        ")\n",
        "\n",
        "plt.show()\n",
        "\n"
      ],
      "metadata": {
        "colab": {
          "base_uri": "https://localhost:8080/",
          "height": 617
        },
        "id": "yvGffkDYjPvx",
        "outputId": "2e93128c-fa4a-454f-b926-7d77fc2559f4"
      },
      "execution_count": 19,
      "outputs": [
        {
          "output_type": "display_data",
          "data": {
            "text/plain": [
              "<Figure size 640x480 with 2 Axes>"
            ],
            "image/png": "[encoded data removed]"
          },
          "metadata": {}
        }
      ]
    },
    {
      "cell_type": "code",
      "source": [
        "type(correlation)"
      ],
      "metadata": {
        "colab": {
          "base_uri": "https://localhost:8080/",
          "height": 203
        },
        "id": "QvZiQbKtolkE",
        "outputId": "4d780bab-b28e-4df4-93c3-9a227442d359"
      },
      "execution_count": null,
      "outputs": [
        {
          "output_type": "execute_result",
          "data": {
            "text/plain": [
              "pandas.core.frame.DataFrame"
            ],
            "text/html": [
              "<div style=\"max-width:800px; border: 1px solid var(--colab-border-color);\"><style>\n",
              "      pre.function-repr-contents {\n",
              "        overflow-x: auto;\n",
              "        padding: 8px 12px;\n",
              "        max-height: 500px;\n",
              "      }\n",
              "\n",
              "      pre.function-repr-contents.function-repr-contents-collapsed {\n",
              "        cursor: pointer;\n",
              "        max-height: 100px;\n",
              "      }\n",
              "    </style>\n",
              "    <pre style=\"white-space: initial; background:\n",
              "         var(--colab-secondary-surface-color); padding: 8px 12px;\n",
              "         border-bottom: 1px solid var(--colab-border-color);\"><b>pandas.core.frame.DataFrame</b><br/>def __init__(data=None, index: Axes | None=None, columns: Axes | None=None, dtype: Dtype | None=None, copy: bool | None=None) -&gt; None</pre><pre class=\"function-repr-contents function-repr-contents-collapsed\" style=\"\"><a class=\"filepath\" style=\"display:none\" href=\"#\">/usr/local/lib/python3.10/dist-packages/pandas/core/frame.py</a>Two-dimensional, size-mutable, potentially heterogeneous tabular data.\n",
              "\n",
              "Data structure also contains labeled axes (rows and columns).\n",
              "Arithmetic operations align on both row and column labels. Can be\n",
              "thought of as a dict-like container for Series objects. The primary\n",
              "pandas data structure.\n",
              "\n",
              "Parameters\n",
              "----------\n",
              "data : ndarray (structured or homogeneous), Iterable, dict, or DataFrame\n",
              "    Dict can contain Series, arrays, constants, dataclass or list-like objects. If\n",
              "    data is a dict, column order follows insertion-order. If a dict contains Series\n",
              "    which have an index defined, it is aligned by its index. This alignment also\n",
              "    occurs if data is a Series or a DataFrame itself. Alignment is done on\n",
              "    Series/DataFrame inputs.\n",
              "\n",
              "    If data is a list of dicts, column order follows insertion-order.\n",
              "\n",
              "index : Index or array-like\n",
              "    Index to use for resulting frame. Will default to RangeIndex if\n",
              "    no indexing information part of input data and no index provided.\n",
              "columns : Index or array-like\n",
              "    Column labels to use for resulting frame when data does not have them,\n",
              "    defaulting to RangeIndex(0, 1, 2, ..., n). If data contains column labels,\n",
              "    will perform column selection instead.\n",
              "dtype : dtype, default None\n",
              "    Data type to force. Only a single dtype is allowed. If None, infer.\n",
              "copy : bool or None, default None\n",
              "    Copy data from inputs.\n",
              "    For dict data, the default of None behaves like ``copy=True``.  For DataFrame\n",
              "    or 2d ndarray input, the default of None behaves like ``copy=False``.\n",
              "    If data is a dict containing one or more Series (possibly of different dtypes),\n",
              "    ``copy=False`` will ensure that these inputs are not copied.\n",
              "\n",
              "    .. versionchanged:: 1.3.0\n",
              "\n",
              "See Also\n",
              "--------\n",
              "DataFrame.from_records : Constructor from tuples, also record arrays.\n",
              "DataFrame.from_dict : From dicts of Series, arrays, or dicts.\n",
              "read_csv : Read a comma-separated values (csv) file into DataFrame.\n",
              "read_table : Read general delimited file into DataFrame.\n",
              "read_clipboard : Read text from clipboard into DataFrame.\n",
              "\n",
              "Notes\n",
              "-----\n",
              "Please reference the :ref:`User Guide &lt;basics.dataframe&gt;` for more information.\n",
              "\n",
              "Examples\n",
              "--------\n",
              "Constructing DataFrame from a dictionary.\n",
              "\n",
              "&gt;&gt;&gt; d = {&#x27;col1&#x27;: [1, 2], &#x27;col2&#x27;: [3, 4]}\n",
              "&gt;&gt;&gt; df = pd.DataFrame(data=d)\n",
              "&gt;&gt;&gt; df\n",
              "   col1  col2\n",
              "0     1     3\n",
              "1     2     4\n",
              "\n",
              "Notice that the inferred dtype is int64.\n",
              "\n",
              "&gt;&gt;&gt; df.dtypes\n",
              "col1    int64\n",
              "col2    int64\n",
              "dtype: object\n",
              "\n",
              "To enforce a single dtype:\n",
              "\n",
              "&gt;&gt;&gt; df = pd.DataFrame(data=d, dtype=np.int8)\n",
              "&gt;&gt;&gt; df.dtypes\n",
              "col1    int8\n",
              "col2    int8\n",
              "dtype: object\n",
              "\n",
              "Constructing DataFrame from a dictionary including Series:\n",
              "\n",
              "&gt;&gt;&gt; d = {&#x27;col1&#x27;: [0, 1, 2, 3], &#x27;col2&#x27;: pd.Series([2, 3], index=[2, 3])}\n",
              "&gt;&gt;&gt; pd.DataFrame(data=d, index=[0, 1, 2, 3])\n",
              "   col1  col2\n",
              "0     0   NaN\n",
              "1     1   NaN\n",
              "2     2   2.0\n",
              "3     3   3.0\n",
              "\n",
              "Constructing DataFrame from numpy ndarray:\n",
              "\n",
              "&gt;&gt;&gt; df2 = pd.DataFrame(np.array([[1, 2, 3], [4, 5, 6], [7, 8, 9]]),\n",
              "...                    columns=[&#x27;a&#x27;, &#x27;b&#x27;, &#x27;c&#x27;])\n",
              "&gt;&gt;&gt; df2\n",
              "   a  b  c\n",
              "0  1  2  3\n",
              "1  4  5  6\n",
              "2  7  8  9\n",
              "\n",
              "Constructing DataFrame from a numpy ndarray that has labeled columns:\n",
              "\n",
              "&gt;&gt;&gt; data = np.array([(1, 2, 3), (4, 5, 6), (7, 8, 9)],\n",
              "...                 dtype=[(&quot;a&quot;, &quot;i4&quot;), (&quot;b&quot;, &quot;i4&quot;), (&quot;c&quot;, &quot;i4&quot;)])\n",
              "&gt;&gt;&gt; df3 = pd.DataFrame(data, columns=[&#x27;c&#x27;, &#x27;a&#x27;])\n",
              "...\n",
              "&gt;&gt;&gt; df3\n",
              "   c  a\n",
              "0  3  1\n",
              "1  6  4\n",
              "2  9  7\n",
              "\n",
              "Constructing DataFrame from dataclass:\n",
              "\n",
              "&gt;&gt;&gt; from dataclasses import make_dataclass\n",
              "&gt;&gt;&gt; Point = make_dataclass(&quot;Point&quot;, [(&quot;x&quot;, int), (&quot;y&quot;, int)])\n",
              "&gt;&gt;&gt; pd.DataFrame([Point(0, 0), Point(0, 3), Point(2, 3)])\n",
              "   x  y\n",
              "0  0  0\n",
              "1  0  3\n",
              "2  2  3\n",
              "\n",
              "Constructing DataFrame from Series/DataFrame:\n",
              "\n",
              "&gt;&gt;&gt; ser = pd.Series([1, 2, 3], index=[&quot;a&quot;, &quot;b&quot;, &quot;c&quot;])\n",
              "&gt;&gt;&gt; df = pd.DataFrame(data=ser, index=[&quot;a&quot;, &quot;c&quot;])\n",
              "&gt;&gt;&gt; df\n",
              "   0\n",
              "a  1\n",
              "c  3\n",
              "\n",
              "&gt;&gt;&gt; df1 = pd.DataFrame([1, 2, 3], index=[&quot;a&quot;, &quot;b&quot;, &quot;c&quot;], columns=[&quot;x&quot;])\n",
              "&gt;&gt;&gt; df2 = pd.DataFrame(data=df1, index=[&quot;a&quot;, &quot;c&quot;])\n",
              "&gt;&gt;&gt; df2\n",
              "   x\n",
              "a  1\n",
              "c  3</pre>\n",
              "      <script>\n",
              "      if (google.colab.kernel.accessAllowed && google.colab.files && google.colab.files.view) {\n",
              "        for (const element of document.querySelectorAll('.filepath')) {\n",
              "          element.style.display = 'block'\n",
              "          element.onclick = (event) => {\n",
              "            event.preventDefault();\n",
              "            event.stopPropagation();\n",
              "            google.colab.files.view(element.textContent, 509);\n",
              "          };\n",
              "        }\n",
              "      }\n",
              "      for (const element of document.querySelectorAll('.function-repr-contents')) {\n",
              "        element.onclick = (event) => {\n",
              "          event.preventDefault();\n",
              "          event.stopPropagation();\n",
              "          element.classList.toggle('function-repr-contents-collapsed');\n",
              "        };\n",
              "      }\n",
              "      </script>\n",
              "      </div>"
            ]
          },
          "metadata": {},
          "execution_count": 24
        }
      ]
    },
    {
      "cell_type": "code",
      "source": [
        "high_corr = correlation.where(np.abs(correlation) > 0.85).stack().reset_index()\n",
        "high_corr = high_corr[high_corr['level_0'] != high_corr['level_1']]\n",
        "high_corr.columns = ['Feature 1', 'Feature 2', 'Correlation']\n",
        "\n",
        "# Display the result\n",
        "high_corr"
      ],
      "metadata": {
        "colab": {
          "base_uri": "https://localhost:8080/",
          "height": 1000
        },
        "id": "gC3va-A_rvxJ",
        "outputId": "d943672b-6357-4526-cd12-05d384ef85f8",
        "collapsed": true
      },
      "execution_count": 21,
      "outputs": [
        {
          "output_type": "execute_result",
          "data": {
            "text/plain": [
              "                      Feature 1                    Feature 2  Correlation\n",
              "2        clin_size_long_diam_mm               tbp_lv_areaMM2     0.902768\n",
              "3        clin_size_long_diam_mm           tbp_lv_minorAxisMM     0.858842\n",
              "4        clin_size_long_diam_mm           tbp_lv_perimeterMM     0.965004\n",
              "8                      tbp_lv_B                  tbp_lv_Bext     0.909632\n",
              "9                      tbp_lv_B                     tbp_lv_C     0.920575\n",
              "10                  tbp_lv_Bext                     tbp_lv_B     0.909632\n",
              "12                  tbp_lv_Bext                     tbp_lv_C     0.885437\n",
              "13                  tbp_lv_Bext                  tbp_lv_Cext     0.939995\n",
              "14                     tbp_lv_C                     tbp_lv_B     0.920575\n",
              "15                     tbp_lv_C                  tbp_lv_Bext     0.885437\n",
              "17                     tbp_lv_C                  tbp_lv_Cext     0.900188\n",
              "18                  tbp_lv_Cext                  tbp_lv_Bext     0.939995\n",
              "19                  tbp_lv_Cext                     tbp_lv_C     0.900188\n",
              "24                     tbp_lv_L                  tbp_lv_Lext     0.960190\n",
              "25                  tbp_lv_Lext                     tbp_lv_L     0.960190\n",
              "27               tbp_lv_areaMM2       clin_size_long_diam_mm     0.902768\n",
              "29               tbp_lv_areaMM2           tbp_lv_minorAxisMM     0.911643\n",
              "30               tbp_lv_areaMM2           tbp_lv_perimeterMM     0.915181\n",
              "32      tbp_lv_area_perim_ratio           tbp_lv_norm_border     0.921085\n",
              "34        tbp_lv_color_std_mean            tbp_lv_norm_color     0.964572\n",
              "35        tbp_lv_color_std_mean  tbp_lv_radial_color_std_max     0.904111\n",
              "39                tbp_lv_deltaL               tbp_lv_deltaLB    -0.992374\n",
              "40                tbp_lv_deltaL           tbp_lv_deltaLBnorm    -0.885899\n",
              "41                tbp_lv_deltaL                  tbp_lv_stdL    -0.918355\n",
              "42               tbp_lv_deltaLB                tbp_lv_deltaL    -0.992374\n",
              "44               tbp_lv_deltaLB           tbp_lv_deltaLBnorm     0.878991\n",
              "45               tbp_lv_deltaLB                  tbp_lv_stdL     0.911729\n",
              "46           tbp_lv_deltaLBnorm                tbp_lv_deltaL    -0.885899\n",
              "47           tbp_lv_deltaLBnorm               tbp_lv_deltaLB     0.878991\n",
              "49           tbp_lv_deltaLBnorm                  tbp_lv_stdL     0.881563\n",
              "51           tbp_lv_minorAxisMM       clin_size_long_diam_mm     0.858842\n",
              "52           tbp_lv_minorAxisMM               tbp_lv_areaMM2     0.911643\n",
              "54           tbp_lv_minorAxisMM           tbp_lv_perimeterMM     0.920608\n",
              "56           tbp_lv_norm_border      tbp_lv_area_perim_ratio     0.921085\n",
              "58           tbp_lv_norm_border            tbp_lv_symm_2axis     0.924140\n",
              "59            tbp_lv_norm_color        tbp_lv_color_std_mean     0.964572\n",
              "61            tbp_lv_norm_color  tbp_lv_radial_color_std_max     0.958957\n",
              "62           tbp_lv_perimeterMM       clin_size_long_diam_mm     0.965004\n",
              "63           tbp_lv_perimeterMM               tbp_lv_areaMM2     0.915181\n",
              "64           tbp_lv_perimeterMM           tbp_lv_minorAxisMM     0.920608\n",
              "66  tbp_lv_radial_color_std_max        tbp_lv_color_std_mean     0.904111\n",
              "67  tbp_lv_radial_color_std_max            tbp_lv_norm_color     0.958957\n",
              "69                  tbp_lv_stdL                tbp_lv_deltaL    -0.918355\n",
              "70                  tbp_lv_stdL               tbp_lv_deltaLB     0.911729\n",
              "71                  tbp_lv_stdL           tbp_lv_deltaLBnorm     0.881563\n",
              "74            tbp_lv_symm_2axis           tbp_lv_norm_border     0.924140"
            ],
            "text/html": [
              "\n",
              "  <div id=\"df-0d7896ce-b77e-4faa-8cc8-b9502457973a\" class=\"colab-df-container\">\n",
              "    <div>\n",
              "<style scoped>\n",
              "    .dataframe tbody tr th:only-of-type {\n",
              "        vertical-align: middle;\n",
              "    }\n",
              "\n",
              "    .dataframe tbody tr th {\n",
              "        vertical-align: top;\n",
              "    }\n",
              "\n",
              "    .dataframe thead th {\n",
              "        text-align: right;\n",
              "    }\n",
              "</style>\n",
              "<table border=\"1\" class=\"dataframe\">\n",
              "  <thead>\n",
              "    <tr style=\"text-align: right;\">\n",
              "      <th></th>\n",
              "      <th>Feature 1</th>\n",
              "      <th>Feature 2</th>\n",
              "      <th>Correlation</th>\n",
              "    </tr>\n",
              "  </thead>\n",
              "  <tbody>\n",
              "    <tr>\n",
              "      <th>2</th>\n",
              "      <td>clin_size_long_diam_mm</td>\n",
              "      <td>tbp_lv_areaMM2</td>\n",
              "      <td>0.902768</td>\n",
              "    </tr>\n",
              "    <tr>\n",
              "      <th>3</th>\n",
              "      <td>clin_size_long_diam_mm</td>\n",
              "      <td>tbp_lv_minorAxisMM</td>\n",
              "      <td>0.858842</td>\n",
              "    </tr>\n",
              "    <tr>\n",
              "      <th>4</th>\n",
              "      <td>clin_size_long_diam_mm</td>\n",
              "      <td>tbp_lv_perimeterMM</td>\n",
              "      <td>0.965004</td>\n",
              "    </tr>\n",
              "    <tr>\n",
              "      <th>8</th>\n",
              "      <td>tbp_lv_B</td>\n",
              "      <td>tbp_lv_Bext</td>\n",
              "      <td>0.909632</td>\n",
              "    </tr>\n",
              "    <tr>\n",
              "      <th>9</th>\n",
              "      <td>tbp_lv_B</td>\n",
              "      <td>tbp_lv_C</td>\n",
              "      <td>0.920575</td>\n",
              "    </tr>\n",
              "    <tr>\n",
              "      <th>10</th>\n",
              "      <td>tbp_lv_Bext</td>\n",
              "      <td>tbp_lv_B</td>\n",
              "      <td>0.909632</td>\n",
              "    </tr>\n",
              "    <tr>\n",
              "      <th>12</th>\n",
              "      <td>tbp_lv_Bext</td>\n",
              "      <td>tbp_lv_C</td>\n",
              "      <td>0.885437</td>\n",
              "    </tr>\n",
              "    <tr>\n",
              "      <th>13</th>\n",
              "      <td>tbp_lv_Bext</td>\n",
              "      <td>tbp_lv_Cext</td>\n",
              "      <td>0.939995</td>\n",
              "    </tr>\n",
              "    <tr>\n",
              "      <th>14</th>\n",
              "      <td>tbp_lv_C</td>\n",
              "      <td>tbp_lv_B</td>\n",
              "      <td>0.920575</td>\n",
              "    </tr>\n",
              "    <tr>\n",
              "      <th>15</th>\n",
              "      <td>tbp_lv_C</td>\n",
              "      <td>tbp_lv_Bext</td>\n",
              "      <td>0.885437</td>\n",
              "    </tr>\n",
              "    <tr>\n",
              "      <th>17</th>\n",
              "      <td>tbp_lv_C</td>\n",
              "      <td>tbp_lv_Cext</td>\n",
              "      <td>0.900188</td>\n",
              "    </tr>\n",
              "    <tr>\n",
              "      <th>18</th>\n",
              "      <td>tbp_lv_Cext</td>\n",
              "      <td>tbp_lv_Bext</td>\n",
              "      <td>0.939995</td>\n",
              "    </tr>\n",
              "    <tr>\n",
              "      <th>19</th>\n",
              "      <td>tbp_lv_Cext</td>\n",
              "      <td>tbp_lv_C</td>\n",
              "      <td>0.900188</td>\n",
              "    </tr>\n",
              "    <tr>\n",
              "      <th>24</th>\n",
              "      <td>tbp_lv_L</td>\n",
              "      <td>tbp_lv_Lext</td>\n",
              "      <td>0.960190</td>\n",
              "    </tr>\n",
              "    <tr>\n",
              "      <th>25</th>\n",
              "      <td>tbp_lv_Lext</td>\n",
              "      <td>tbp_lv_L</td>\n",
              "      <td>0.960190</td>\n",
              "    </tr>\n",
              "    <tr>\n",
              "      <th>27</th>\n",
              "      <td>tbp_lv_areaMM2</td>\n",
              "      <td>clin_size_long_diam_mm</td>\n",
              "      <td>0.902768</td>\n",
              "    </tr>\n",
              "    <tr>\n",
              "      <th>29</th>\n",
              "      <td>tbp_lv_areaMM2</td>\n",
              "      <td>tbp_lv_minorAxisMM</td>\n",
              "      <td>0.911643</td>\n",
              "    </tr>\n",
              "    <tr>\n",
              "      <th>30</th>\n",
              "      <td>tbp_lv_areaMM2</td>\n",
              "      <td>tbp_lv_perimeterMM</td>\n",
              "      <td>0.915181</td>\n",
              "    </tr>\n",
              "    <tr>\n",
              "      <th>32</th>\n",
              "      <td>tbp_lv_area_perim_ratio</td>\n",
              "      <td>tbp_lv_norm_border</td>\n",
              "      <td>0.921085</td>\n",
              "    </tr>\n",
              "    <tr>\n",
              "      <th>34</th>\n",
              "      <td>tbp_lv_color_std_mean</td>\n",
              "      <td>tbp_lv_norm_color</td>\n",
              "      <td>0.964572</td>\n",
              "    </tr>\n",
              "    <tr>\n",
              "      <th>35</th>\n",
              "      <td>tbp_lv_color_std_mean</td>\n",
              "      <td>tbp_lv_radial_color_std_max</td>\n",
              "      <td>0.904111</td>\n",
              "    </tr>\n",
              "    <tr>\n",
              "      <th>39</th>\n",
              "      <td>tbp_lv_deltaL</td>\n",
              "      <td>tbp_lv_deltaLB</td>\n",
              "      <td>-0.992374</td>\n",
              "    </tr>\n",
              "    <tr>\n",
              "      <th>40</th>\n",
              "      <td>tbp_lv_deltaL</td>\n",
              "      <td>tbp_lv_deltaLBnorm</td>\n",
              "      <td>-0.885899</td>\n",
              "    </tr>\n",
              "    <tr>\n",
              "      <th>41</th>\n",
              "      <td>tbp_lv_deltaL</td>\n",
              "      <td>tbp_lv_stdL</td>\n",
              "      <td>-0.918355</td>\n",
              "    </tr>\n",
              "    <tr>\n",
              "      <th>42</th>\n",
              "      <td>tbp_lv_deltaLB</td>\n",
              "      <td>tbp_lv_deltaL</td>\n",
              "      <td>-0.992374</td>\n",
              "    </tr>\n",
              "    <tr>\n",
              "      <th>44</th>\n",
              "      <td>tbp_lv_deltaLB</td>\n",
              "      <td>tbp_lv_deltaLBnorm</td>\n",
              "      <td>0.878991</td>\n",
              "    </tr>\n",
              "    <tr>\n",
              "      <th>45</th>\n",
              "      <td>tbp_lv_deltaLB</td>\n",
              "      <td>tbp_lv_stdL</td>\n",
              "      <td>0.911729</td>\n",
              "    </tr>\n",
              "    <tr>\n",
              "      <th>46</th>\n",
              "      <td>tbp_lv_deltaLBnorm</td>\n",
              "      <td>tbp_lv_deltaL</td>\n",
              "      <td>-0.885899</td>\n",
              "    </tr>\n",
              "    <tr>\n",
              "      <th>47</th>\n",
              "      <td>tbp_lv_deltaLBnorm</td>\n",
              "      <td>tbp_lv_deltaLB</td>\n",
              "      <td>0.878991</td>\n",
              "    </tr>\n",
              "    <tr>\n",
              "      <th>49</th>\n",
              "      <td>tbp_lv_deltaLBnorm</td>\n",
              "      <td>tbp_lv_stdL</td>\n",
              "      <td>0.881563</td>\n",
              "    </tr>\n",
              "    <tr>\n",
              "      <th>51</th>\n",
              "      <td>tbp_lv_minorAxisMM</td>\n",
              "      <td>clin_size_long_diam_mm</td>\n",
              "      <td>0.858842</td>\n",
              "    </tr>\n",
              "    <tr>\n",
              "      <th>52</th>\n",
              "      <td>tbp_lv_minorAxisMM</td>\n",
              "      <td>tbp_lv_areaMM2</td>\n",
              "      <td>0.911643</td>\n",
              "    </tr>\n",
              "    <tr>\n",
              "      <th>54</th>\n",
              "      <td>tbp_lv_minorAxisMM</td>\n",
              "      <td>tbp_lv_perimeterMM</td>\n",
              "      <td>0.920608</td>\n",
              "    </tr>\n",
              "    <tr>\n",
              "      <th>56</th>\n",
              "      <td>tbp_lv_norm_border</td>\n",
              "      <td>tbp_lv_area_perim_ratio</td>\n",
              "      <td>0.921085</td>\n",
              "    </tr>\n",
              "    <tr>\n",
              "      <th>58</th>\n",
              "      <td>tbp_lv_norm_border</td>\n",
              "      <td>tbp_lv_symm_2axis</td>\n",
              "      <td>0.924140</td>\n",
              "    </tr>\n",
              "    <tr>\n",
              "      <th>59</th>\n",
              "      <td>tbp_lv_norm_color</td>\n",
              "      <td>tbp_lv_color_std_mean</td>\n",
              "      <td>0.964572</td>\n",
              "    </tr>\n",
              "    <tr>\n",
              "      <th>61</th>\n",
              "      <td>tbp_lv_norm_color</td>\n",
              "      <td>tbp_lv_radial_color_std_max</td>\n",
              "      <td>0.958957</td>\n",
              "    </tr>\n",
              "    <tr>\n",
              "      <th>62</th>\n",
              "      <td>tbp_lv_perimeterMM</td>\n",
              "      <td>clin_size_long_diam_mm</td>\n",
              "      <td>0.965004</td>\n",
              "    </tr>\n",
              "    <tr>\n",
              "      <th>63</th>\n",
              "      <td>tbp_lv_perimeterMM</td>\n",
              "      <td>tbp_lv_areaMM2</td>\n",
              "      <td>0.915181</td>\n",
              "    </tr>\n",
              "    <tr>\n",
              "      <th>64</th>\n",
              "      <td>tbp_lv_perimeterMM</td>\n",
              "      <td>tbp_lv_minorAxisMM</td>\n",
              "      <td>0.920608</td>\n",
              "    </tr>\n",
              "    <tr>\n",
              "      <th>66</th>\n",
              "      <td>tbp_lv_radial_color_std_max</td>\n",
              "      <td>tbp_lv_color_std_mean</td>\n",
              "      <td>0.904111</td>\n",
              "    </tr>\n",
              "    <tr>\n",
              "      <th>67</th>\n",
              "      <td>tbp_lv_radial_color_std_max</td>\n",
              "      <td>tbp_lv_norm_color</td>\n",
              "      <td>0.958957</td>\n",
              "    </tr>\n",
              "    <tr>\n",
              "      <th>69</th>\n",
              "      <td>tbp_lv_stdL</td>\n",
              "      <td>tbp_lv_deltaL</td>\n",
              "      <td>-0.918355</td>\n",
              "    </tr>\n",
              "    <tr>\n",
              "      <th>70</th>\n",
              "      <td>tbp_lv_stdL</td>\n",
              "      <td>tbp_lv_deltaLB</td>\n",
              "      <td>0.911729</td>\n",
              "    </tr>\n",
              "    <tr>\n",
              "      <th>71</th>\n",
              "      <td>tbp_lv_stdL</td>\n",
              "      <td>tbp_lv_deltaLBnorm</td>\n",
              "      <td>0.881563</td>\n",
              "    </tr>\n",
              "    <tr>\n",
              "      <th>74</th>\n",
              "      <td>tbp_lv_symm_2axis</td>\n",
              "      <td>tbp_lv_norm_border</td>\n",
              "      <td>0.924140</td>\n",
              "    </tr>\n",
              "  </tbody>\n",
              "</table>\n",
              "</div>\n",
              "    <div class=\"colab-df-buttons\">\n",
              "\n",
              "  <div class=\"colab-df-container\">\n",
              "    <button class=\"colab-df-convert\" onclick=\"convertToInteractive('df-0d7896ce-b77e-4faa-8cc8-b9502457973a')\"\n",
              "            title=\"Convert this dataframe to an interactive table.\"\n",
              "            style=\"display:none;\">\n",
              "\n",
              "  <svg xmlns=\"http://www.w3.org/2000/svg\" height=\"24px\" viewBox=\"0 -960 960 960\">\n",
              "    <path d=\"M120-120v-720h720v720H120Zm60-500h600v-160H180v160Zm220 220h160v-160H400v160Zm0 220h160v-160H400v160ZM180-400h160v-160H180v160Zm440 0h160v-160H620v160ZM180-180h160v-160H180v160Zm440 0h160v-160H620v160Z\"/>\n",
              "  </svg>\n",
              "    </button>\n",
              "\n",
              "  <style>\n",
              "    .colab-df-container {\n",
              "      display:flex;\n",
              "      gap: 12px;\n",
              "    }\n",
              "\n",
              "    .colab-df-convert {\n",
              "      background-color: #E8F0FE;\n",
              "      border: none;\n",
              "      border-radius: 50%;\n",
              "      cursor: pointer;\n",
              "      display: none;\n",
              "      fill: #1967D2;\n",
              "      height: 32px;\n",
              "      padding: 0 0 0 0;\n",
              "      width: 32px;\n",
              "    }\n",
              "\n",
              "    .colab-df-convert:hover {\n",
              "      background-color: #E2EBFA;\n",
              "      box-shadow: 0px 1px 2px rgba(60, 64, 67, 0.3), 0px 1px 3px 1px rgba(60, 64, 67, 0.15);\n",
              "      fill: #174EA6;\n",
              "    }\n",
              "\n",
              "    .colab-df-buttons div {\n",
              "      margin-bottom: 4px;\n",
              "    }\n",
              "\n",
              "    [theme=dark] .colab-df-convert {\n",
              "      background-color: #3B4455;\n",
              "      fill: #D2E3FC;\n",
              "    }\n",
              "\n",
              "    [theme=dark] .colab-df-convert:hover {\n",
              "      background-color: #434B5C;\n",
              "      box-shadow: 0px 1px 3px 1px rgba(0, 0, 0, 0.15);\n",
              "      filter: drop-shadow(0px 1px 2px rgba(0, 0, 0, 0.3));\n",
              "      fill: #FFFFFF;\n",
              "    }\n",
              "  </style>\n",
              "\n",
              "    <script>\n",
              "      const buttonEl =\n",
              "        document.querySelector('#df-0d7896ce-b77e-4faa-8cc8-b9502457973a button.colab-df-convert');\n",
              "      buttonEl.style.display =\n",
              "        google.colab.kernel.accessAllowed ? 'block' : 'none';\n",
              "\n",
              "      async function convertToInteractive(key) {\n",
              "        const element = document.querySelector('#df-0d7896ce-b77e-4faa-8cc8-b9502457973a');\n",
              "        const dataTable =\n",
              "          await google.colab.kernel.invokeFunction('convertToInteractive',\n",
              "                                                    [key], {});\n",
              "        if (!dataTable) return;\n",
              "\n",
              "        const docLinkHtml = 'Like what you see? Visit the ' +\n",
              "          '<a target=\"_blank\" href=https://colab.research.google.com/notebooks/data_table.ipynb>data table notebook</a>'\n",
              "          + ' to learn more about interactive tables.';\n",
              "        element.innerHTML = '';\n",
              "        dataTable['output_type'] = 'display_data';\n",
              "        await google.colab.output.renderOutput(dataTable, element);\n",
              "        const docLink = document.createElement('div');\n",
              "        docLink.innerHTML = docLinkHtml;\n",
              "        element.appendChild(docLink);\n",
              "      }\n",
              "    </script>\n",
              "  </div>\n",
              "\n",
              "\n",
              "<div id=\"df-5b340b15-45d9-4891-a4c1-55881ec92c6a\">\n",
              "  <button class=\"colab-df-quickchart\" onclick=\"quickchart('df-5b340b15-45d9-4891-a4c1-55881ec92c6a')\"\n",
              "            title=\"Suggest charts\"\n",
              "            style=\"display:none;\">\n",
              "\n",
              "<svg xmlns=\"http://www.w3.org/2000/svg\" height=\"24px\"viewBox=\"0 0 24 24\"\n",
              "     width=\"24px\">\n",
              "    <g>\n",
              "        <path d=\"M19 3H5c-1.1 0-2 .9-2 2v14c0 1.1.9 2 2 2h14c1.1 0 2-.9 2-2V5c0-1.1-.9-2-2-2zM9 17H7v-7h2v7zm4 0h-2V7h2v10zm4 0h-2v-4h2v4z\"/>\n",
              "    </g>\n",
              "</svg>\n",
              "  </button>\n",
              "\n",
              "<style>\n",
              "  .colab-df-quickchart {\n",
              "      --bg-color: #E8F0FE;\n",
              "      --fill-color: #1967D2;\n",
              "      --hover-bg-color: #E2EBFA;\n",
              "      --hover-fill-color: #174EA6;\n",
              "      --disabled-fill-color: #AAA;\n",
              "      --disabled-bg-color: #DDD;\n",
              "  }\n",
              "\n",
              "  [theme=dark] .colab-df-quickchart {\n",
              "      --bg-color: #3B4455;\n",
              "      --fill-color: #D2E3FC;\n",
              "      --hover-bg-color: #434B5C;\n",
              "      --hover-fill-color: #FFFFFF;\n",
              "      --disabled-bg-color: #3B4455;\n",
              "      --disabled-fill-color: #666;\n",
              "  }\n",
              "\n",
              "  .colab-df-quickchart {\n",
              "    background-color: var(--bg-color);\n",
              "    border: none;\n",
              "    border-radius: 50%;\n",
              "    cursor: pointer;\n",
              "    display: none;\n",
              "    fill: var(--fill-color);\n",
              "    height: 32px;\n",
              "    padding: 0;\n",
              "    width: 32px;\n",
              "  }\n",
              "\n",
              "  .colab-df-quickchart:hover {\n",
              "    background-color: var(--hover-bg-color);\n",
              "    box-shadow: 0 1px 2px rgba(60, 64, 67, 0.3), 0 1px 3px 1px rgba(60, 64, 67, 0.15);\n",
              "    fill: var(--button-hover-fill-color);\n",
              "  }\n",
              "\n",
              "  .colab-df-quickchart-complete:disabled,\n",
              "  .colab-df-quickchart-complete:disabled:hover {\n",
              "    background-color: var(--disabled-bg-color);\n",
              "    fill: var(--disabled-fill-color);\n",
              "    box-shadow: none;\n",
              "  }\n",
              "\n",
              "  .colab-df-spinner {\n",
              "    border: 2px solid var(--fill-color);\n",
              "    border-color: transparent;\n",
              "    border-bottom-color: var(--fill-color);\n",
              "    animation:\n",
              "      spin 1s steps(1) infinite;\n",
              "  }\n",
              "\n",
              "  @keyframes spin {\n",
              "    0% {\n",
              "      border-color: transparent;\n",
              "      border-bottom-color: var(--fill-color);\n",
              "      border-left-color: var(--fill-color);\n",
              "    }\n",
              "    20% {\n",
              "      border-color: transparent;\n",
              "      border-left-color: var(--fill-color);\n",
              "      border-top-color: var(--fill-color);\n",
              "    }\n",
              "    30% {\n",
              "      border-color: transparent;\n",
              "      border-left-color: var(--fill-color);\n",
              "      border-top-color: var(--fill-color);\n",
              "      border-right-color: var(--fill-color);\n",
              "    }\n",
              "    40% {\n",
              "      border-color: transparent;\n",
              "      border-right-color: var(--fill-color);\n",
              "      border-top-color: var(--fill-color);\n",
              "    }\n",
              "    60% {\n",
              "      border-color: transparent;\n",
              "      border-right-color: var(--fill-color);\n",
              "    }\n",
              "    80% {\n",
              "      border-color: transparent;\n",
              "      border-right-color: var(--fill-color);\n",
              "      border-bottom-color: var(--fill-color);\n",
              "    }\n",
              "    90% {\n",
              "      border-color: transparent;\n",
              "      border-bottom-color: var(--fill-color);\n",
              "    }\n",
              "  }\n",
              "</style>\n",
              "\n",
              "  <script>\n",
              "    async function quickchart(key) {\n",
              "      const quickchartButtonEl =\n",
              "        document.querySelector('#' + key + ' button');\n",
              "      quickchartButtonEl.disabled = true;  // To prevent multiple clicks.\n",
              "      quickchartButtonEl.classList.add('colab-df-spinner');\n",
              "      try {\n",
              "        const charts = await google.colab.kernel.invokeFunction(\n",
              "            'suggestCharts', [key], {});\n",
              "      } catch (error) {\n",
              "        console.error('Error during call to suggestCharts:', error);\n",
              "      }\n",
              "      quickchartButtonEl.classList.remove('colab-df-spinner');\n",
              "      quickchartButtonEl.classList.add('colab-df-quickchart-complete');\n",
              "    }\n",
              "    (() => {\n",
              "      let quickchartButtonEl =\n",
              "        document.querySelector('#df-5b340b15-45d9-4891-a4c1-55881ec92c6a button');\n",
              "      quickchartButtonEl.style.display =\n",
              "        google.colab.kernel.accessAllowed ? 'block' : 'none';\n",
              "    })();\n",
              "  </script>\n",
              "</div>\n",
              "\n",
              "  <div id=\"id_82c8bedb-e193-4a14-bad7-300563b7ace5\">\n",
              "    <style>\n",
              "      .colab-df-generate {\n",
              "        background-color: #E8F0FE;\n",
              "        border: none;\n",
              "        border-radius: 50%;\n",
              "        cursor: pointer;\n",
              "        display: none;\n",
              "        fill: #1967D2;\n",
              "        height: 32px;\n",
              "        padding: 0 0 0 0;\n",
              "        width: 32px;\n",
              "      }\n",
              "\n",
              "      .colab-df-generate:hover {\n",
              "        background-color: #E2EBFA;\n",
              "        box-shadow: 0px 1px 2px rgba(60, 64, 67, 0.3), 0px 1px 3px 1px rgba(60, 64, 67, 0.15);\n",
              "        fill: #174EA6;\n",
              "      }\n",
              "\n",
              "      [theme=dark] .colab-df-generate {\n",
              "        background-color: #3B4455;\n",
              "        fill: #D2E3FC;\n",
              "      }\n",
              "\n",
              "      [theme=dark] .colab-df-generate:hover {\n",
              "        background-color: #434B5C;\n",
              "        box-shadow: 0px 1px 3px 1px rgba(0, 0, 0, 0.15);\n",
              "        filter: drop-shadow(0px 1px 2px rgba(0, 0, 0, 0.3));\n",
              "        fill: #FFFFFF;\n",
              "      }\n",
              "    </style>\n",
              "    <button class=\"colab-df-generate\" onclick=\"generateWithVariable('high_corr')\"\n",
              "            title=\"Generate code using this dataframe.\"\n",
              "            style=\"display:none;\">\n",
              "\n",
              "  <svg xmlns=\"http://www.w3.org/2000/svg\" height=\"24px\"viewBox=\"0 0 24 24\"\n",
              "       width=\"24px\">\n",
              "    <path d=\"M7,19H8.4L18.45,9,17,7.55,7,17.6ZM5,21V16.75L18.45,3.32a2,2,0,0,1,2.83,0l1.4,1.43a1.91,1.91,0,0,1,.58,1.4,1.91,1.91,0,0,1-.58,1.4L9.25,21ZM18.45,9,17,7.55Zm-12,3A5.31,5.31,0,0,0,4.9,8.1,5.31,5.31,0,0,0,1,6.5,5.31,5.31,0,0,0,4.9,4.9,5.31,5.31,0,0,0,6.5,1,5.31,5.31,0,0,0,8.1,4.9,5.31,5.31,0,0,0,12,6.5,5.46,5.46,0,0,0,6.5,12Z\"/>\n",
              "  </svg>\n",
              "    </button>\n",
              "    <script>\n",
              "      (() => {\n",
              "      const buttonEl =\n",
              "        document.querySelector('#id_82c8bedb-e193-4a14-bad7-300563b7ace5 button.colab-df-generate');\n",
              "      buttonEl.style.display =\n",
              "        google.colab.kernel.accessAllowed ? 'block' : 'none';\n",
              "\n",
              "      buttonEl.onclick = () => {\n",
              "        google.colab.notebook.generateWithVariable('high_corr');\n",
              "      }\n",
              "      })();\n",
              "    </script>\n",
              "  </div>\n",
              "\n",
              "    </div>\n",
              "  </div>\n"
            ],
            "application/vnd.google.colaboratory.intrinsic+json": {
              "type": "dataframe",
              "variable_name": "high_corr",
              "summary": "{\n  \"name\": \"high_corr\",\n  \"rows\": 46,\n  \"fields\": [\n    {\n      \"column\": \"Feature 1\",\n      \"properties\": {\n        \"dtype\": \"category\",\n        \"num_unique_values\": 20,\n        \"samples\": [\n          \"clin_size_long_diam_mm\",\n          \"tbp_lv_radial_color_std_max\",\n          \"tbp_lv_norm_color\"\n        ],\n        \"semantic_type\": \"\",\n        \"description\": \"\"\n      }\n    },\n    {\n      \"column\": \"Feature 2\",\n      \"properties\": {\n        \"dtype\": \"category\",\n        \"num_unique_values\": 20,\n        \"samples\": [\n          \"tbp_lv_areaMM2\",\n          \"tbp_lv_area_perim_ratio\",\n          \"tbp_lv_stdL\"\n        ],\n        \"semantic_type\": \"\",\n        \"description\": \"\"\n      }\n    },\n    {\n      \"column\": \"Correlation\",\n      \"properties\": {\n        \"dtype\": \"number\",\n        \"std\": 0.6303768423515264,\n        \"min\": -0.9923739422356549,\n        \"max\": 0.9650038846403153,\n        \"num_unique_values\": 23,\n        \"samples\": [\n          -0.8858988265679894,\n          0.9116434148066201,\n          0.9027678602451853\n        ],\n        \"semantic_type\": \"\",\n        \"description\": \"\"\n      }\n    }\n  ]\n}"
            }
          },
          "metadata": {},
          "execution_count": 21
        }
      ]
    },
    {
      "source": [
        "plt.figure(figsize=(12, 6))\n",
        "sns.countplot(x='target', data=train_data)\n",
        "plt.xlabel('target')\n",
        "plt.ylabel('Number of Images')\n",
        "plt.xticks(rotation=90)\n",
        "plt.show()"
      ],
      "cell_type": "code",
      "metadata": {
        "colab": {
          "base_uri": "https://localhost:8080/",
          "height": 537
        },
        "id": "ahx-jCPUvYBQ",
        "outputId": "af471d34-2f03-4b11-b715-0db630b17446"
      },
      "execution_count": null,
      "outputs": [
        {
          "output_type": "display_data",
          "data": {
            "text/plain": [
              "<Figure size 1200x600 with 1 Axes>"
            ],
            "image/png": "[encoded data removed]"
          },
          "metadata": {}
        }
      ]
    },
    {
      "cell_type": "markdown",
      "source": [
        "# The score function"
      ],
      "metadata": {
        "id": "G79fi1lsDSfw"
      }
    },
    {
      "cell_type": "code",
      "source": [
        "import pandas.api.types\n",
        "from sklearn.metrics import roc_curve, auc, roc_auc_score\n",
        "\n",
        "class ParticipantVisibleError(Exception):\n",
        "    pass\n",
        "\n",
        "\n",
        "def score(solution: pd.DataFrame, submission: pd.DataFrame, row_id_column_name: str, min_tpr: float=0.80) -> float:\n",
        "    '''\n",
        "    2024 ISIC Challenge metric: pAUC\n",
        "\n",
        "    Given a solution file and submission file, this function returns the\n",
        "    the partial area under the receiver operating characteristic (pAUC)\n",
        "    above a given true positive rate (TPR) = 0.80.\n",
        "    https://en.wikipedia.org/wiki/Partial_Area_Under_the_ROC_Curve.\n",
        "\n",
        "    (c) 2024 Nicholas R Kurtansky, MSKCC\n",
        "\n",
        "    Args:\n",
        "        solution: ground truth pd.DataFrame of 1s and 0s\n",
        "        submission: solution dataframe of predictions of scores ranging [0, 1]\n",
        "\n",
        "    Returns:\n",
        "        Float value range [0, max_fpr]\n",
        "    '''\n",
        "\n",
        "    # del solution[row_id_column_name]\n",
        "    # del submission[row_id_column_name]\n",
        "\n",
        "    # check submission is numeric\n",
        "    if not pandas.api.types.is_numeric_dtype(submission.values):\n",
        "        raise ParticipantVisibleError('Submission target column must be numeric')\n",
        "\n",
        "    # rescale the target. set 0s to 1s and 1s to 0s (since sklearn only has max_fpr)\n",
        "    v_gt = abs(np.asarray(solution.values)-1)\n",
        "\n",
        "    # flip the submissions to their compliments\n",
        "    v_pred = -1.0*np.asarray(submission.values)\n",
        "\n",
        "    max_fpr = abs(1-min_tpr)\n",
        "\n",
        "    # using sklearn.metric functions: (1) roc_curve and (2) auc\n",
        "    fpr, tpr, _ = roc_curve(v_gt, v_pred, sample_weight=None)\n",
        "    if max_fpr is None or max_fpr == 1:\n",
        "        return auc(fpr, tpr)\n",
        "    if max_fpr <= 0 or max_fpr > 1:\n",
        "        raise ValueError(\"Expected min_tpr in range [0, 1), got: %r\" % min_tpr)\n",
        "\n",
        "    # Add a single point at max_fpr by linear interpolation\n",
        "    stop = np.searchsorted(fpr, max_fpr, \"right\")\n",
        "    x_interp = [fpr[stop - 1], fpr[stop]]\n",
        "    y_interp = [tpr[stop - 1], tpr[stop]]\n",
        "    tpr = np.append(tpr[:stop], np.interp(max_fpr, x_interp, y_interp))\n",
        "    fpr = np.append(fpr[:stop], max_fpr)\n",
        "    partial_auc = auc(fpr, tpr)\n",
        "\n",
        "#     # Equivalent code that uses sklearn's roc_auc_score\n",
        "#     v_gt = abs(np.asarray(solution.values)-1)\n",
        "#     v_pred = np.array([1.0 - x for x in submission.values])\n",
        "#     max_fpr = abs(1-min_tpr)\n",
        "#     partial_auc_scaled = roc_auc_score(v_gt, v_pred, max_fpr=max_fpr)\n",
        "#     # change scale from [0.5, 1.0] to [0.5 * max_fpr**2, max_fpr]\n",
        "#     # https://math.stackexchange.com/questions/914823/shift-numbers-into-a-different-range\n",
        "#     partial_auc = 0.5 * max_fpr**2 + (max_fpr - 0.5 * max_fpr**2) / (1.0 - 0.5) * (partial_auc_scaled - 0.5)\n",
        "\n",
        "    return(partial_auc)"
      ],
      "metadata": {
        "id": "z2SK0dcu-zyW"
      },
      "execution_count": 20,
      "outputs": []
    },
    {
      "cell_type": "markdown",
      "source": [
        "# Split the training set into training and validation set"
      ],
      "metadata": {
        "id": "uv6oRy5dBS3_"
      }
    },
    {
      "cell_type": "code",
      "source": [
        "from imblearn.over_sampling import SMOTE\n",
        "from sklearn.ensemble import ExtraTreesClassifier, RandomForestClassifier\n",
        "from sklearn.model_selection import cross_val_score, train_test_split\n",
        "from sklearn.decomposition import PCA\n",
        "from imblearn.over_sampling import ADASYN\n",
        "X_train_data_partial, X_val, y_train_partial, y_val = train_test_split(X_train_data, y_train, test_size=0.2, stratify=y_train)\n",
        "model_names = []\n",
        "scores = []"
      ],
      "metadata": {
        "id": "yeefLjZaBSOD"
      },
      "execution_count": 21,
      "outputs": []
    },
    {
      "cell_type": "markdown",
      "source": [
        "# This part we will try several naive models"
      ],
      "metadata": {
        "id": "cEaXU61VBvg0"
      }
    },
    {
      "cell_type": "code",
      "source": [
        "n_est = 100\n",
        "model1 = ExtraTreesClassifier(n_estimators=n_est, criterion='log_loss')\n",
        "model2 = RandomForestClassifier(n_estimators=n_est, criterion='log_loss')"
      ],
      "metadata": {
        "id": "DJAptP2_UAH8"
      },
      "execution_count": 22,
      "outputs": []
    },
    {
      "cell_type": "code",
      "source": [
        "model1.fit(X_train_data_partial, y_train_partial)\n",
        "model2.fit(X_train_data_partial, y_train_partial)"
      ],
      "metadata": {
        "colab": {
          "base_uri": "https://localhost:8080/",
          "height": 80
        },
        "id": "uwLPZ814St5J",
        "outputId": "e2c0a9f3-dc0b-4bf6-c46c-8615288929cb"
      },
      "execution_count": 23,
      "outputs": [
        {
          "output_type": "execute_result",
          "data": {
            "text/plain": [
              "RandomForestClassifier(criterion='log_loss')"
            ],
            "text/html": [
              "<style>#sk-container-id-1 {\n",
              "  /* Definition of color scheme common for light and dark mode */\n",
              "  --sklearn-color-text: black;\n",
              "  --sklearn-color-line: gray;\n",
              "  /* Definition of color scheme for unfitted estimators */\n",
              "  --sklearn-color-unfitted-level-0: #fff5e6;\n",
              "  --sklearn-color-unfitted-level-1: #f6e4d2;\n",
              "  --sklearn-color-unfitted-level-2: #ffe0b3;\n",
              "  --sklearn-color-unfitted-level-3: chocolate;\n",
              "  /* Definition of color scheme for fitted estimators */\n",
              "  --sklearn-color-fitted-level-0: #f0f8ff;\n",
              "  --sklearn-color-fitted-level-1: #d4ebff;\n",
              "  --sklearn-color-fitted-level-2: #b3dbfd;\n",
              "  --sklearn-color-fitted-level-3: cornflowerblue;\n",
              "\n",
              "  /* Specific color for light theme */\n",
              "  --sklearn-color-text-on-default-background: var(--sg-text-color, var(--theme-code-foreground, var(--jp-content-font-color1, black)));\n",
              "  --sklearn-color-background: var(--sg-background-color, var(--theme-background, var(--jp-layout-color0, white)));\n",
              "  --sklearn-color-border-box: var(--sg-text-color, var(--theme-code-foreground, var(--jp-content-font-color1, black)));\n",
              "  --sklearn-color-icon: #696969;\n",
              "\n",
              "  @media (prefers-color-scheme: dark) {\n",
              "    /* Redefinition of color scheme for dark theme */\n",
              "    --sklearn-color-text-on-default-background: var(--sg-text-color, var(--theme-code-foreground, var(--jp-content-font-color1, white)));\n",
              "    --sklearn-color-background: var(--sg-background-color, var(--theme-background, var(--jp-layout-color0, #111)));\n",
              "    --sklearn-color-border-box: var(--sg-text-color, var(--theme-code-foreground, var(--jp-content-font-color1, white)));\n",
              "    --sklearn-color-icon: #878787;\n",
              "  }\n",
              "}\n",
              "\n",
              "#sk-container-id-1 {\n",
              "  color: var(--sklearn-color-text);\n",
              "}\n",
              "\n",
              "#sk-container-id-1 pre {\n",
              "  padding: 0;\n",
              "}\n",
              "\n",
              "#sk-container-id-1 input.sk-hidden--visually {\n",
              "  border: 0;\n",
              "  clip: rect(1px 1px 1px 1px);\n",
              "  clip: rect(1px, 1px, 1px, 1px);\n",
              "  height: 1px;\n",
              "  margin: -1px;\n",
              "  overflow: hidden;\n",
              "  padding: 0;\n",
              "  position: absolute;\n",
              "  width: 1px;\n",
              "}\n",
              "\n",
              "#sk-container-id-1 div.sk-dashed-wrapped {\n",
              "  border: 1px dashed var(--sklearn-color-line);\n",
              "  margin: 0 0.4em 0.5em 0.4em;\n",
              "  box-sizing: border-box;\n",
              "  padding-bottom: 0.4em;\n",
              "  background-color: var(--sklearn-color-background);\n",
              "}\n",
              "\n",
              "#sk-container-id-1 div.sk-container {\n",
              "  /* jupyter's `normalize.less` sets `[hidden] { display: none; }`\n",
              "     but bootstrap.min.css set `[hidden] { display: none !important; }`\n",
              "     so we also need the `!important` here to be able to override the\n",
              "     default hidden behavior on the sphinx rendered scikit-learn.org.\n",
              "     See: https://github.com/scikit-learn/scikit-learn/issues/21755 */\n",
              "  display: inline-block !important;\n",
              "  position: relative;\n",
              "}\n",
              "\n",
              "#sk-container-id-1 div.sk-text-repr-fallback {\n",
              "  display: none;\n",
              "}\n",
              "\n",
              "div.sk-parallel-item,\n",
              "div.sk-serial,\n",
              "div.sk-item {\n",
              "  /* draw centered vertical line to link estimators */\n",
              "  background-image: linear-gradient(var(--sklearn-color-text-on-default-background), var(--sklearn-color-text-on-default-background));\n",
              "  background-size: 2px 100%;\n",
              "  background-repeat: no-repeat;\n",
              "  background-position: center center;\n",
              "}\n",
              "\n",
              "/* Parallel-specific style estimator block */\n",
              "\n",
              "#sk-container-id-1 div.sk-parallel-item::after {\n",
              "  content: \"\";\n",
              "  width: 100%;\n",
              "  border-bottom: 2px solid var(--sklearn-color-text-on-default-background);\n",
              "  flex-grow: 1;\n",
              "}\n",
              "\n",
              "#sk-container-id-1 div.sk-parallel {\n",
              "  display: flex;\n",
              "  align-items: stretch;\n",
              "  justify-content: center;\n",
              "  background-color: var(--sklearn-color-background);\n",
              "  position: relative;\n",
              "}\n",
              "\n",
              "#sk-container-id-1 div.sk-parallel-item {\n",
              "  display: flex;\n",
              "  flex-direction: column;\n",
              "}\n",
              "\n",
              "#sk-container-id-1 div.sk-parallel-item:first-child::after {\n",
              "  align-self: flex-end;\n",
              "  width: 50%;\n",
              "}\n",
              "\n",
              "#sk-container-id-1 div.sk-parallel-item:last-child::after {\n",
              "  align-self: flex-start;\n",
              "  width: 50%;\n",
              "}\n",
              "\n",
              "#sk-container-id-1 div.sk-parallel-item:only-child::after {\n",
              "  width: 0;\n",
              "}\n",
              "\n",
              "/* Serial-specific style estimator block */\n",
              "\n",
              "#sk-container-id-1 div.sk-serial {\n",
              "  display: flex;\n",
              "  flex-direction: column;\n",
              "  align-items: center;\n",
              "  background-color: var(--sklearn-color-background);\n",
              "  padding-right: 1em;\n",
              "  padding-left: 1em;\n",
              "}\n",
              "\n",
              "\n",
              "/* Toggleable style: style used for estimator/Pipeline/ColumnTransformer box that is\n",
              "clickable and can be expanded/collapsed.\n",
              "- Pipeline and ColumnTransformer use this feature and define the default style\n",
              "- Estimators will overwrite some part of the style using the `sk-estimator` class\n",
              "*/\n",
              "\n",
              "/* Pipeline and ColumnTransformer style (default) */\n",
              "\n",
              "#sk-container-id-1 div.sk-toggleable {\n",
              "  /* Default theme specific background. It is overwritten whether we have a\n",
              "  specific estimator or a Pipeline/ColumnTransformer */\n",
              "  background-color: var(--sklearn-color-background);\n",
              "}\n",
              "\n",
              "/* Toggleable label */\n",
              "#sk-container-id-1 label.sk-toggleable__label {\n",
              "  cursor: pointer;\n",
              "  display: block;\n",
              "  width: 100%;\n",
              "  margin-bottom: 0;\n",
              "  padding: 0.5em;\n",
              "  box-sizing: border-box;\n",
              "  text-align: center;\n",
              "}\n",
              "\n",
              "#sk-container-id-1 label.sk-toggleable__label-arrow:before {\n",
              "  /* Arrow on the left of the label */\n",
              "  content: \"▸\";\n",
              "  float: left;\n",
              "  margin-right: 0.25em;\n",
              "  color: var(--sklearn-color-icon);\n",
              "}\n",
              "\n",
              "#sk-container-id-1 label.sk-toggleable__label-arrow:hover:before {\n",
              "  color: var(--sklearn-color-text);\n",
              "}\n",
              "\n",
              "/* Toggleable content - dropdown */\n",
              "\n",
              "#sk-container-id-1 div.sk-toggleable__content {\n",
              "  max-height: 0;\n",
              "  max-width: 0;\n",
              "  overflow: hidden;\n",
              "  text-align: left;\n",
              "  /* unfitted */\n",
              "  background-color: var(--sklearn-color-unfitted-level-0);\n",
              "}\n",
              "\n",
              "#sk-container-id-1 div.sk-toggleable__content.fitted {\n",
              "  /* fitted */\n",
              "  background-color: var(--sklearn-color-fitted-level-0);\n",
              "}\n",
              "\n",
              "#sk-container-id-1 div.sk-toggleable__content pre {\n",
              "  margin: 0.2em;\n",
              "  border-radius: 0.25em;\n",
              "  color: var(--sklearn-color-text);\n",
              "  /* unfitted */\n",
              "  background-color: var(--sklearn-color-unfitted-level-0);\n",
              "}\n",
              "\n",
              "#sk-container-id-1 div.sk-toggleable__content.fitted pre {\n",
              "  /* unfitted */\n",
              "  background-color: var(--sklearn-color-fitted-level-0);\n",
              "}\n",
              "\n",
              "#sk-container-id-1 input.sk-toggleable__control:checked~div.sk-toggleable__content {\n",
              "  /* Expand drop-down */\n",
              "  max-height: 200px;\n",
              "  max-width: 100%;\n",
              "  overflow: auto;\n",
              "}\n",
              "\n",
              "#sk-container-id-1 input.sk-toggleable__control:checked~label.sk-toggleable__label-arrow:before {\n",
              "  content: \"▾\";\n",
              "}\n",
              "\n",
              "/* Pipeline/ColumnTransformer-specific style */\n",
              "\n",
              "#sk-container-id-1 div.sk-label input.sk-toggleable__control:checked~label.sk-toggleable__label {\n",
              "  color: var(--sklearn-color-text);\n",
              "  background-color: var(--sklearn-color-unfitted-level-2);\n",
              "}\n",
              "\n",
              "#sk-container-id-1 div.sk-label.fitted input.sk-toggleable__control:checked~label.sk-toggleable__label {\n",
              "  background-color: var(--sklearn-color-fitted-level-2);\n",
              "}\n",
              "\n",
              "/* Estimator-specific style */\n",
              "\n",
              "/* Colorize estimator box */\n",
              "#sk-container-id-1 div.sk-estimator input.sk-toggleable__control:checked~label.sk-toggleable__label {\n",
              "  /* unfitted */\n",
              "  background-color: var(--sklearn-color-unfitted-level-2);\n",
              "}\n",
              "\n",
              "#sk-container-id-1 div.sk-estimator.fitted input.sk-toggleable__control:checked~label.sk-toggleable__label {\n",
              "  /* fitted */\n",
              "  background-color: var(--sklearn-color-fitted-level-2);\n",
              "}\n",
              "\n",
              "#sk-container-id-1 div.sk-label label.sk-toggleable__label,\n",
              "#sk-container-id-1 div.sk-label label {\n",
              "  /* The background is the default theme color */\n",
              "  color: var(--sklearn-color-text-on-default-background);\n",
              "}\n",
              "\n",
              "/* On hover, darken the color of the background */\n",
              "#sk-container-id-1 div.sk-label:hover label.sk-toggleable__label {\n",
              "  color: var(--sklearn-color-text);\n",
              "  background-color: var(--sklearn-color-unfitted-level-2);\n",
              "}\n",
              "\n",
              "/* Label box, darken color on hover, fitted */\n",
              "#sk-container-id-1 div.sk-label.fitted:hover label.sk-toggleable__label.fitted {\n",
              "  color: var(--sklearn-color-text);\n",
              "  background-color: var(--sklearn-color-fitted-level-2);\n",
              "}\n",
              "\n",
              "/* Estimator label */\n",
              "\n",
              "#sk-container-id-1 div.sk-label label {\n",
              "  font-family: monospace;\n",
              "  font-weight: bold;\n",
              "  display: inline-block;\n",
              "  line-height: 1.2em;\n",
              "}\n",
              "\n",
              "#sk-container-id-1 div.sk-label-container {\n",
              "  text-align: center;\n",
              "}\n",
              "\n",
              "/* Estimator-specific */\n",
              "#sk-container-id-1 div.sk-estimator {\n",
              "  font-family: monospace;\n",
              "  border: 1px dotted var(--sklearn-color-border-box);\n",
              "  border-radius: 0.25em;\n",
              "  box-sizing: border-box;\n",
              "  margin-bottom: 0.5em;\n",
              "  /* unfitted */\n",
              "  background-color: var(--sklearn-color-unfitted-level-0);\n",
              "}\n",
              "\n",
              "#sk-container-id-1 div.sk-estimator.fitted {\n",
              "  /* fitted */\n",
              "  background-color: var(--sklearn-color-fitted-level-0);\n",
              "}\n",
              "\n",
              "/* on hover */\n",
              "#sk-container-id-1 div.sk-estimator:hover {\n",
              "  /* unfitted */\n",
              "  background-color: var(--sklearn-color-unfitted-level-2);\n",
              "}\n",
              "\n",
              "#sk-container-id-1 div.sk-estimator.fitted:hover {\n",
              "  /* fitted */\n",
              "  background-color: var(--sklearn-color-fitted-level-2);\n",
              "}\n",
              "\n",
              "/* Specification for estimator info (e.g. \"i\" and \"?\") */\n",
              "\n",
              "/* Common style for \"i\" and \"?\" */\n",
              "\n",
              ".sk-estimator-doc-link,\n",
              "a:link.sk-estimator-doc-link,\n",
              "a:visited.sk-estimator-doc-link {\n",
              "  float: right;\n",
              "  font-size: smaller;\n",
              "  line-height: 1em;\n",
              "  font-family: monospace;\n",
              "  background-color: var(--sklearn-color-background);\n",
              "  border-radius: 1em;\n",
              "  height: 1em;\n",
              "  width: 1em;\n",
              "  text-decoration: none !important;\n",
              "  margin-left: 1ex;\n",
              "  /* unfitted */\n",
              "  border: var(--sklearn-color-unfitted-level-1) 1pt solid;\n",
              "  color: var(--sklearn-color-unfitted-level-1);\n",
              "}\n",
              "\n",
              ".sk-estimator-doc-link.fitted,\n",
              "a:link.sk-estimator-doc-link.fitted,\n",
              "a:visited.sk-estimator-doc-link.fitted {\n",
              "  /* fitted */\n",
              "  border: var(--sklearn-color-fitted-level-1) 1pt solid;\n",
              "  color: var(--sklearn-color-fitted-level-1);\n",
              "}\n",
              "\n",
              "/* On hover */\n",
              "div.sk-estimator:hover .sk-estimator-doc-link:hover,\n",
              ".sk-estimator-doc-link:hover,\n",
              "div.sk-label-container:hover .sk-estimator-doc-link:hover,\n",
              ".sk-estimator-doc-link:hover {\n",
              "  /* unfitted */\n",
              "  background-color: var(--sklearn-color-unfitted-level-3);\n",
              "  color: var(--sklearn-color-background);\n",
              "  text-decoration: none;\n",
              "}\n",
              "\n",
              "div.sk-estimator.fitted:hover .sk-estimator-doc-link.fitted:hover,\n",
              ".sk-estimator-doc-link.fitted:hover,\n",
              "div.sk-label-container:hover .sk-estimator-doc-link.fitted:hover,\n",
              ".sk-estimator-doc-link.fitted:hover {\n",
              "  /* fitted */\n",
              "  background-color: var(--sklearn-color-fitted-level-3);\n",
              "  color: var(--sklearn-color-background);\n",
              "  text-decoration: none;\n",
              "}\n",
              "\n",
              "/* Span, style for the box shown on hovering the info icon */\n",
              ".sk-estimator-doc-link span {\n",
              "  display: none;\n",
              "  z-index: 9999;\n",
              "  position: relative;\n",
              "  font-weight: normal;\n",
              "  right: .2ex;\n",
              "  padding: .5ex;\n",
              "  margin: .5ex;\n",
              "  width: min-content;\n",
              "  min-width: 20ex;\n",
              "  max-width: 50ex;\n",
              "  color: var(--sklearn-color-text);\n",
              "  box-shadow: 2pt 2pt 4pt #999;\n",
              "  /* unfitted */\n",
              "  background: var(--sklearn-color-unfitted-level-0);\n",
              "  border: .5pt solid var(--sklearn-color-unfitted-level-3);\n",
              "}\n",
              "\n",
              ".sk-estimator-doc-link.fitted span {\n",
              "  /* fitted */\n",
              "  background: var(--sklearn-color-fitted-level-0);\n",
              "  border: var(--sklearn-color-fitted-level-3);\n",
              "}\n",
              "\n",
              ".sk-estimator-doc-link:hover span {\n",
              "  display: block;\n",
              "}\n",
              "\n",
              "/* \"?\"-specific style due to the `<a>` HTML tag */\n",
              "\n",
              "#sk-container-id-1 a.estimator_doc_link {\n",
              "  float: right;\n",
              "  font-size: 1rem;\n",
              "  line-height: 1em;\n",
              "  font-family: monospace;\n",
              "  background-color: var(--sklearn-color-background);\n",
              "  border-radius: 1rem;\n",
              "  height: 1rem;\n",
              "  width: 1rem;\n",
              "  text-decoration: none;\n",
              "  /* unfitted */\n",
              "  color: var(--sklearn-color-unfitted-level-1);\n",
              "  border: var(--sklearn-color-unfitted-level-1) 1pt solid;\n",
              "}\n",
              "\n",
              "#sk-container-id-1 a.estimator_doc_link.fitted {\n",
              "  /* fitted */\n",
              "  border: var(--sklearn-color-fitted-level-1) 1pt solid;\n",
              "  color: var(--sklearn-color-fitted-level-1);\n",
              "}\n",
              "\n",
              "/* On hover */\n",
              "#sk-container-id-1 a.estimator_doc_link:hover {\n",
              "  /* unfitted */\n",
              "  background-color: var(--sklearn-color-unfitted-level-3);\n",
              "  color: var(--sklearn-color-background);\n",
              "  text-decoration: none;\n",
              "}\n",
              "\n",
              "#sk-container-id-1 a.estimator_doc_link.fitted:hover {\n",
              "  /* fitted */\n",
              "  background-color: var(--sklearn-color-fitted-level-3);\n",
              "}\n",
              "</style><div id=\"sk-container-id-1\" class=\"sk-top-container\"><div class=\"sk-text-repr-fallback\"><pre>RandomForestClassifier(criterion=&#x27;log_loss&#x27;)</pre><b>In a Jupyter environment, please rerun this cell to show the HTML representation or trust the notebook. <br />On GitHub, the HTML representation is unable to render, please try loading this page with nbviewer.org.</b></div><div class=\"sk-container\" hidden><div class=\"sk-item\"><div class=\"sk-estimator fitted sk-toggleable\"><input class=\"sk-toggleable__control sk-hidden--visually\" id=\"sk-estimator-id-1\" type=\"checkbox\" checked><label for=\"sk-estimator-id-1\" class=\"sk-toggleable__label fitted sk-toggleable__label-arrow fitted\">&nbsp;&nbsp;RandomForestClassifier<a class=\"sk-estimator-doc-link fitted\" rel=\"noreferrer\" target=\"_blank\" href=\"https://scikit-learn.org/1.5/modules/generated/sklearn.ensemble.RandomForestClassifier.html\">?<span>Documentation for RandomForestClassifier</span></a><span class=\"sk-estimator-doc-link fitted\">i<span>Fitted</span></span></label><div class=\"sk-toggleable__content fitted\"><pre>RandomForestClassifier(criterion=&#x27;log_loss&#x27;)</pre></div> </div></div></div></div>"
            ]
          },
          "metadata": {},
          "execution_count": 23
        }
      ]
    },
    {
      "cell_type": "code",
      "source": [
        "predictions1 = model1.predict_proba(X_val)[:,1]\n",
        "predictions2 = model2.predict_proba(X_val)[:,1]"
      ],
      "metadata": {
        "id": "5XMnTWhNBUze"
      },
      "execution_count": 24,
      "outputs": []
    },
    {
      "cell_type": "code",
      "source": [
        "# No need to run this cell, it should be in kaggle notebook\n",
        "submission = pd.DataFrame(\n",
        "    {'isic_id': X_test['isic_id'], 'target': predictions},\n",
        "    columns = ['isic_id', 'target'])\n",
        "submission.to_csv('submission.csv', index = False)"
      ],
      "metadata": {
        "id": "31vUg-u00ID5",
        "colab": {
          "base_uri": "https://localhost:8080/",
          "height": 216
        },
        "outputId": "6d688fdf-802e-4b34-be6f-dc1eb92554f0",
        "collapsed": true
      },
      "execution_count": null,
      "outputs": [
        {
          "output_type": "error",
          "ename": "NameError",
          "evalue": "name 'predictions' is not defined",
          "traceback": [
            "\u001b[0;31m---------------------------------------------------------------------------\u001b[0m",
            "\u001b[0;31mNameError\u001b[0m                                 Traceback (most recent call last)",
            "\u001b[0;32m<ipython-input-30-bde8997e1867>\u001b[0m in \u001b[0;36m<cell line: 2>\u001b[0;34m()\u001b[0m\n\u001b[1;32m      1\u001b[0m \u001b[0;31m# No need to run this cell, it should be in kaggle notebook\u001b[0m\u001b[0;34m\u001b[0m\u001b[0;34m\u001b[0m\u001b[0m\n\u001b[1;32m      2\u001b[0m submission = pd.DataFrame(\n\u001b[0;32m----> 3\u001b[0;31m     \u001b[0;34m{\u001b[0m\u001b[0;34m'isic_id'\u001b[0m\u001b[0;34m:\u001b[0m \u001b[0mX_test\u001b[0m\u001b[0;34m[\u001b[0m\u001b[0;34m'isic_id'\u001b[0m\u001b[0;34m]\u001b[0m\u001b[0;34m,\u001b[0m \u001b[0;34m'target'\u001b[0m\u001b[0;34m:\u001b[0m \u001b[0mpredictions\u001b[0m\u001b[0;34m}\u001b[0m\u001b[0;34m,\u001b[0m\u001b[0;34m\u001b[0m\u001b[0;34m\u001b[0m\u001b[0m\n\u001b[0m\u001b[1;32m      4\u001b[0m     columns = ['isic_id', 'target'])\n\u001b[1;32m      5\u001b[0m \u001b[0msubmission\u001b[0m\u001b[0;34m.\u001b[0m\u001b[0mto_csv\u001b[0m\u001b[0;34m(\u001b[0m\u001b[0;34m'submission.csv'\u001b[0m\u001b[0;34m,\u001b[0m \u001b[0mindex\u001b[0m \u001b[0;34m=\u001b[0m \u001b[0;32mFalse\u001b[0m\u001b[0;34m)\u001b[0m\u001b[0;34m\u001b[0m\u001b[0;34m\u001b[0m\u001b[0m\n",
            "\u001b[0;31mNameError\u001b[0m: name 'predictions' is not defined"
          ]
        }
      ]
    },
    {
      "cell_type": "code",
      "source": [
        "sc = score(pd.DataFrame(y_val), pd.DataFrame(predictions1),'isic_id')\n",
        "model_names.append('Extra Tree')\n",
        "scores.append(sc)\n",
        "print(sc)"
      ],
      "metadata": {
        "id": "AZcEQGOKB0LS",
        "colab": {
          "base_uri": "https://localhost:8080/"
        },
        "outputId": "054f7fe4-dacd-4a8d-88de-b539e5679655"
      },
      "execution_count": 25,
      "outputs": [
        {
          "output_type": "stream",
          "name": "stdout",
          "text": [
            "0.053315363208665575\n"
          ]
        }
      ]
    },
    {
      "cell_type": "code",
      "source": [
        "sc = score(pd.DataFrame(y_val), pd.DataFrame(predictions2),'isic_id')\n",
        "model_names.append('Random Forest')\n",
        "scores.append(sc)\n",
        "print(sc)"
      ],
      "metadata": {
        "colab": {
          "base_uri": "https://localhost:8080/"
        },
        "id": "9W5zF_G8OSkF",
        "outputId": "1d52aaaa-96e0-4a8a-e165-509796d63e8a"
      },
      "execution_count": 26,
      "outputs": [
        {
          "output_type": "stream",
          "name": "stdout",
          "text": [
            "0.04404826975153805\n"
          ]
        }
      ]
    },
    {
      "cell_type": "code",
      "source": [
        "# Extra Tree with SMOTE\n",
        "model3 = ExtraTreesClassifier(n_estimators=n_est)\n",
        "X_resampled, y_resampled = SMOTE().fit_resample(X_train_data_partial, y_train_partial)\n",
        "model3.fit(X_resampled, y_resampled)\n",
        "predictions3 = model3.predict_proba(X_val)[:,1]\n",
        "sc = score(pd.DataFrame(y_val), pd.DataFrame(predictions3),'isic_id')\n",
        "model_names.append('Extra Tree with SMOTE')\n",
        "scores.append(sc)\n",
        "print(sc)"
      ],
      "metadata": {
        "colab": {
          "base_uri": "https://localhost:8080/"
        },
        "id": "Zgv9YQkaUnFz",
        "outputId": "c7112caa-e072-4ecc-86a0-2c828a9524a7"
      },
      "execution_count": 27,
      "outputs": [
        {
          "output_type": "stream",
          "name": "stdout",
          "text": [
            "0.077153482335617\n"
          ]
        }
      ]
    },
    {
      "cell_type": "code",
      "source": [
        "len(list(X_train_data_partial.columns))"
      ],
      "metadata": {
        "colab": {
          "base_uri": "https://localhost:8080/"
        },
        "id": "vnF8To50Z8VL",
        "outputId": "01034a4e-f718-4a5f-95d1-437ffe3bd6fc"
      },
      "execution_count": null,
      "outputs": [
        {
          "output_type": "execute_result",
          "data": {
            "text/plain": [
              "74"
            ]
          },
          "metadata": {},
          "execution_count": 42
        }
      ]
    },
    {
      "cell_type": "code",
      "source": [
        "# PCA processed data for later useage\n",
        "pca = PCA(n_components=41)\n",
        "X_pca_train = pca.fit_transform(X_train_data_partial)\n",
        "X_pca_val = pca.transform(X_val)"
      ],
      "metadata": {
        "id": "Lj3MyuKvlN0V"
      },
      "execution_count": null,
      "outputs": []
    },
    {
      "cell_type": "code",
      "source": [
        "# Extra Tree with SMOTE and PCA\n",
        "model4 = ExtraTreesClassifier(n_estimators=n_est)\n",
        "X_resampled_pca, y_resampled_pca = SMOTE().fit_resample(X_pca_train, y_train_partial)\n",
        "model4.fit(X_resampled_pca, y_resampled_pca)\n",
        "predictions4 = model4.predict_proba(X_pca_val)[:,1]\n",
        "sc = score(pd.DataFrame(y_val), pd.DataFrame(predictions4),'isic_id')\n",
        "model_names.append('Extra Tree with SMOTE and PCA')\n",
        "scores.append(sc)\n",
        "print(sc)"
      ],
      "metadata": {
        "colab": {
          "base_uri": "https://localhost:8080/"
        },
        "id": "2wlqkvbOZZlz",
        "outputId": "eabf73e1-004b-4ae0-84dd-c0bdd34b3142"
      },
      "execution_count": null,
      "outputs": [
        {
          "output_type": "stream",
          "name": "stdout",
          "text": [
            "0.11836692700916368\n"
          ]
        }
      ]
    },
    {
      "cell_type": "code",
      "source": [
        "# ADASYN resampled data for later useage\n",
        "X_clresampled_pca, y_clresampled_pca = ADASYN().fit_resample(X_pca_train, y_train_partial)"
      ],
      "metadata": {
        "id": "q9e_A6mJpTCh"
      },
      "execution_count": null,
      "outputs": []
    },
    {
      "cell_type": "code",
      "source": [
        "# Extra Tree with ADASYN and PCA\n",
        "model5 = ExtraTreesClassifier(n_estimators=n_est)\n",
        "model5.fit(X_clresampled_pca, y_clresampled_pca)\n",
        "predictions5 = model5.predict_proba(X_pca_val)[:,1]\n",
        "sc = score(pd.DataFrame(y_val), pd.DataFrame(predictions5),'isic_id')\n",
        "model_names.append('Extra Tree with ADASYN and PCA')\n",
        "scores.append(sc)\n",
        "print(sc)"
      ],
      "metadata": {
        "colab": {
          "base_uri": "https://localhost:8080/"
        },
        "id": "oioT_KsLZZdV",
        "outputId": "666946de-9bcd-4507-a7dd-8931bdd87faf"
      },
      "execution_count": null,
      "outputs": [
        {
          "output_type": "stream",
          "name": "stdout",
          "text": [
            "0.11979489794419304\n"
          ]
        }
      ]
    },
    {
      "cell_type": "markdown",
      "source": [
        "# This part we will use dropout."
      ],
      "metadata": {
        "id": "wln2b9Ht9qWJ"
      }
    },
    {
      "cell_type": "code",
      "source": [
        "from tensorflow.keras.models import Sequential, Model\n",
        "from tensorflow.keras.layers import Dense, Dropout, Activation, Input, BatchNormalization\n",
        "from tensorflow.keras.activations import swish, elu\n",
        "from tensorflow.keras.optimizers import Adam\n",
        "\n",
        "pca = PCA(n_components=41)\n",
        "X_pca_train = pca.fit_transform(X_train_data_partial)\n",
        "X_pca_val = pca.transform(X_val)\n",
        "# Resplit the training data for drop out model before resample\n",
        "X_train_dp, X_val_dp, y_train_dp, y_val_dp = train_test_split(X_pca_train, y_train_partial, test_size=0.2, stratify=y_train_partial)\n",
        "# Validation data for epoch training\n",
        "y_val_dp_one_hot = pd.get_dummies(y_val_dp, dtype=int)\n",
        "validation_set_dp = (X_val_dp, y_val_dp_one_hot)\n",
        "\n",
        "# Dropout with ADASYN and PCA\n",
        "X_resampled_dp, y_resampled_dp = ADASYN().fit_resample(X_train_dp, y_train_dp)\n",
        "# One hot encode y for loss='categorical_crossentropy'\n",
        "y_resampled_one_hot = pd.get_dummies(y_resampled_dp, dtype=int)\n",
        "def build_model(input_shape):\n",
        "    x = Input(shape=input_shape)\n",
        "    d1 = Dropout(rate=0.1)(x)\n",
        "    h1 = Dense(8)(d1)\n",
        "    a1 = Activation(swish)(h1)\n",
        "    b1 = BatchNormalization()(a1)\n",
        "    d2 = Dropout(rate=0.5)(b1)\n",
        "    h2 = Dense(4)(d2)\n",
        "    a2 = Activation(elu)(h2)\n",
        "    b2 = BatchNormalization()(a2)\n",
        "    d3 = Dropout(rate=0.5)(b2)\n",
        "    h3 = Dense(2)(d3)\n",
        "    a3 = Activation(swish)(h3)\n",
        "    b3 = BatchNormalization()(a3)\n",
        "    d4 = Dropout(rate=0.5)(b3)\n",
        "    h4 = Dense(2)(d4)\n",
        "    p = Activation('softmax')(h4)\n",
        "    model = Model(inputs=x, outputs=p)\n",
        "    model.compile(optimizer=Adam(learning_rate=0.001), loss='categorical_crossentropy', metrics=['accuracy'])\n",
        "    return model\n",
        "\n",
        "model6 = build_model((X_resampled_dp.shape[1],))"
      ],
      "metadata": {
        "id": "ih_RNOjNiV3e"
      },
      "execution_count": null,
      "outputs": []
    },
    {
      "cell_type": "code",
      "source": [
        "y_resampled_one_hot.head()"
      ],
      "metadata": {
        "colab": {
          "base_uri": "https://localhost:8080/",
          "height": 206
        },
        "id": "kgn7XoHLY05o",
        "outputId": "ef04c1ee-d892-45da-d43c-411aa52e40a8"
      },
      "execution_count": null,
      "outputs": [
        {
          "output_type": "execute_result",
          "data": {
            "text/plain": [
              "   0  1\n",
              "0  1  0\n",
              "1  1  0\n",
              "2  1  0\n",
              "3  1  0\n",
              "4  1  0"
            ],
            "text/html": [
              "\n",
              "  <div id=\"df-f19f2b2e-8269-4cc6-8b54-3d074cfff0bb\" class=\"colab-df-container\">\n",
              "    <div>\n",
              "<style scoped>\n",
              "    .dataframe tbody tr th:only-of-type {\n",
              "        vertical-align: middle;\n",
              "    }\n",
              "\n",
              "    .dataframe tbody tr th {\n",
              "        vertical-align: top;\n",
              "    }\n",
              "\n",
              "    .dataframe thead th {\n",
              "        text-align: right;\n",
              "    }\n",
              "</style>\n",
              "<table border=\"1\" class=\"dataframe\">\n",
              "  <thead>\n",
              "    <tr style=\"text-align: right;\">\n",
              "      <th></th>\n",
              "      <th>0</th>\n",
              "      <th>1</th>\n",
              "    </tr>\n",
              "  </thead>\n",
              "  <tbody>\n",
              "    <tr>\n",
              "      <th>0</th>\n",
              "      <td>1</td>\n",
              "      <td>0</td>\n",
              "    </tr>\n",
              "    <tr>\n",
              "      <th>1</th>\n",
              "      <td>1</td>\n",
              "      <td>0</td>\n",
              "    </tr>\n",
              "    <tr>\n",
              "      <th>2</th>\n",
              "      <td>1</td>\n",
              "      <td>0</td>\n",
              "    </tr>\n",
              "    <tr>\n",
              "      <th>3</th>\n",
              "      <td>1</td>\n",
              "      <td>0</td>\n",
              "    </tr>\n",
              "    <tr>\n",
              "      <th>4</th>\n",
              "      <td>1</td>\n",
              "      <td>0</td>\n",
              "    </tr>\n",
              "  </tbody>\n",
              "</table>\n",
              "</div>\n",
              "    <div class=\"colab-df-buttons\">\n",
              "\n",
              "  <div class=\"colab-df-container\">\n",
              "    <button class=\"colab-df-convert\" onclick=\"convertToInteractive('df-f19f2b2e-8269-4cc6-8b54-3d074cfff0bb')\"\n",
              "            title=\"Convert this dataframe to an interactive table.\"\n",
              "            style=\"display:none;\">\n",
              "\n",
              "  <svg xmlns=\"http://www.w3.org/2000/svg\" height=\"24px\" viewBox=\"0 -960 960 960\">\n",
              "    <path d=\"M120-120v-720h720v720H120Zm60-500h600v-160H180v160Zm220 220h160v-160H400v160Zm0 220h160v-160H400v160ZM180-400h160v-160H180v160Zm440 0h160v-160H620v160ZM180-180h160v-160H180v160Zm440 0h160v-160H620v160Z\"/>\n",
              "  </svg>\n",
              "    </button>\n",
              "\n",
              "  <style>\n",
              "    .colab-df-container {\n",
              "      display:flex;\n",
              "      gap: 12px;\n",
              "    }\n",
              "\n",
              "    .colab-df-convert {\n",
              "      background-color: #E8F0FE;\n",
              "      border: none;\n",
              "      border-radius: 50%;\n",
              "      cursor: pointer;\n",
              "      display: none;\n",
              "      fill: #1967D2;\n",
              "      height: 32px;\n",
              "      padding: 0 0 0 0;\n",
              "      width: 32px;\n",
              "    }\n",
              "\n",
              "    .colab-df-convert:hover {\n",
              "      background-color: #E2EBFA;\n",
              "      box-shadow: 0px 1px 2px rgba(60, 64, 67, 0.3), 0px 1px 3px 1px rgba(60, 64, 67, 0.15);\n",
              "      fill: #174EA6;\n",
              "    }\n",
              "\n",
              "    .colab-df-buttons div {\n",
              "      margin-bottom: 4px;\n",
              "    }\n",
              "\n",
              "    [theme=dark] .colab-df-convert {\n",
              "      background-color: #3B4455;\n",
              "      fill: #D2E3FC;\n",
              "    }\n",
              "\n",
              "    [theme=dark] .colab-df-convert:hover {\n",
              "      background-color: #434B5C;\n",
              "      box-shadow: 0px 1px 3px 1px rgba(0, 0, 0, 0.15);\n",
              "      filter: drop-shadow(0px 1px 2px rgba(0, 0, 0, 0.3));\n",
              "      fill: #FFFFFF;\n",
              "    }\n",
              "  </style>\n",
              "\n",
              "    <script>\n",
              "      const buttonEl =\n",
              "        document.querySelector('#df-f19f2b2e-8269-4cc6-8b54-3d074cfff0bb button.colab-df-convert');\n",
              "      buttonEl.style.display =\n",
              "        google.colab.kernel.accessAllowed ? 'block' : 'none';\n",
              "\n",
              "      async function convertToInteractive(key) {\n",
              "        const element = document.querySelector('#df-f19f2b2e-8269-4cc6-8b54-3d074cfff0bb');\n",
              "        const dataTable =\n",
              "          await google.colab.kernel.invokeFunction('convertToInteractive',\n",
              "                                                    [key], {});\n",
              "        if (!dataTable) return;\n",
              "\n",
              "        const docLinkHtml = 'Like what you see? Visit the ' +\n",
              "          '<a target=\"_blank\" href=https://colab.research.google.com/notebooks/data_table.ipynb>data table notebook</a>'\n",
              "          + ' to learn more about interactive tables.';\n",
              "        element.innerHTML = '';\n",
              "        dataTable['output_type'] = 'display_data';\n",
              "        await google.colab.output.renderOutput(dataTable, element);\n",
              "        const docLink = document.createElement('div');\n",
              "        docLink.innerHTML = docLinkHtml;\n",
              "        element.appendChild(docLink);\n",
              "      }\n",
              "    </script>\n",
              "  </div>\n",
              "\n",
              "\n",
              "<div id=\"df-4d0cf97f-591d-4f00-82d3-6585c9c6e00d\">\n",
              "  <button class=\"colab-df-quickchart\" onclick=\"quickchart('df-4d0cf97f-591d-4f00-82d3-6585c9c6e00d')\"\n",
              "            title=\"Suggest charts\"\n",
              "            style=\"display:none;\">\n",
              "\n",
              "<svg xmlns=\"http://www.w3.org/2000/svg\" height=\"24px\"viewBox=\"0 0 24 24\"\n",
              "     width=\"24px\">\n",
              "    <g>\n",
              "        <path d=\"M19 3H5c-1.1 0-2 .9-2 2v14c0 1.1.9 2 2 2h14c1.1 0 2-.9 2-2V5c0-1.1-.9-2-2-2zM9 17H7v-7h2v7zm4 0h-2V7h2v10zm4 0h-2v-4h2v4z\"/>\n",
              "    </g>\n",
              "</svg>\n",
              "  </button>\n",
              "\n",
              "<style>\n",
              "  .colab-df-quickchart {\n",
              "      --bg-color: #E8F0FE;\n",
              "      --fill-color: #1967D2;\n",
              "      --hover-bg-color: #E2EBFA;\n",
              "      --hover-fill-color: #174EA6;\n",
              "      --disabled-fill-color: #AAA;\n",
              "      --disabled-bg-color: #DDD;\n",
              "  }\n",
              "\n",
              "  [theme=dark] .colab-df-quickchart {\n",
              "      --bg-color: #3B4455;\n",
              "      --fill-color: #D2E3FC;\n",
              "      --hover-bg-color: #434B5C;\n",
              "      --hover-fill-color: #FFFFFF;\n",
              "      --disabled-bg-color: #3B4455;\n",
              "      --disabled-fill-color: #666;\n",
              "  }\n",
              "\n",
              "  .colab-df-quickchart {\n",
              "    background-color: var(--bg-color);\n",
              "    border: none;\n",
              "    border-radius: 50%;\n",
              "    cursor: pointer;\n",
              "    display: none;\n",
              "    fill: var(--fill-color);\n",
              "    height: 32px;\n",
              "    padding: 0;\n",
              "    width: 32px;\n",
              "  }\n",
              "\n",
              "  .colab-df-quickchart:hover {\n",
              "    background-color: var(--hover-bg-color);\n",
              "    box-shadow: 0 1px 2px rgba(60, 64, 67, 0.3), 0 1px 3px 1px rgba(60, 64, 67, 0.15);\n",
              "    fill: var(--button-hover-fill-color);\n",
              "  }\n",
              "\n",
              "  .colab-df-quickchart-complete:disabled,\n",
              "  .colab-df-quickchart-complete:disabled:hover {\n",
              "    background-color: var(--disabled-bg-color);\n",
              "    fill: var(--disabled-fill-color);\n",
              "    box-shadow: none;\n",
              "  }\n",
              "\n",
              "  .colab-df-spinner {\n",
              "    border: 2px solid var(--fill-color);\n",
              "    border-color: transparent;\n",
              "    border-bottom-color: var(--fill-color);\n",
              "    animation:\n",
              "      spin 1s steps(1) infinite;\n",
              "  }\n",
              "\n",
              "  @keyframes spin {\n",
              "    0% {\n",
              "      border-color: transparent;\n",
              "      border-bottom-color: var(--fill-color);\n",
              "      border-left-color: var(--fill-color);\n",
              "    }\n",
              "    20% {\n",
              "      border-color: transparent;\n",
              "      border-left-color: var(--fill-color);\n",
              "      border-top-color: var(--fill-color);\n",
              "    }\n",
              "    30% {\n",
              "      border-color: transparent;\n",
              "      border-left-color: var(--fill-color);\n",
              "      border-top-color: var(--fill-color);\n",
              "      border-right-color: var(--fill-color);\n",
              "    }\n",
              "    40% {\n",
              "      border-color: transparent;\n",
              "      border-right-color: var(--fill-color);\n",
              "      border-top-color: var(--fill-color);\n",
              "    }\n",
              "    60% {\n",
              "      border-color: transparent;\n",
              "      border-right-color: var(--fill-color);\n",
              "    }\n",
              "    80% {\n",
              "      border-color: transparent;\n",
              "      border-right-color: var(--fill-color);\n",
              "      border-bottom-color: var(--fill-color);\n",
              "    }\n",
              "    90% {\n",
              "      border-color: transparent;\n",
              "      border-bottom-color: var(--fill-color);\n",
              "    }\n",
              "  }\n",
              "</style>\n",
              "\n",
              "  <script>\n",
              "    async function quickchart(key) {\n",
              "      const quickchartButtonEl =\n",
              "        document.querySelector('#' + key + ' button');\n",
              "      quickchartButtonEl.disabled = true;  // To prevent multiple clicks.\n",
              "      quickchartButtonEl.classList.add('colab-df-spinner');\n",
              "      try {\n",
              "        const charts = await google.colab.kernel.invokeFunction(\n",
              "            'suggestCharts', [key], {});\n",
              "      } catch (error) {\n",
              "        console.error('Error during call to suggestCharts:', error);\n",
              "      }\n",
              "      quickchartButtonEl.classList.remove('colab-df-spinner');\n",
              "      quickchartButtonEl.classList.add('colab-df-quickchart-complete');\n",
              "    }\n",
              "    (() => {\n",
              "      let quickchartButtonEl =\n",
              "        document.querySelector('#df-4d0cf97f-591d-4f00-82d3-6585c9c6e00d button');\n",
              "      quickchartButtonEl.style.display =\n",
              "        google.colab.kernel.accessAllowed ? 'block' : 'none';\n",
              "    })();\n",
              "  </script>\n",
              "</div>\n",
              "\n",
              "    </div>\n",
              "  </div>\n"
            ],
            "application/vnd.google.colaboratory.intrinsic+json": {
              "type": "dataframe",
              "variable_name": "y_clresampled_one_hot"
            }
          },
          "metadata": {},
          "execution_count": 50
        }
      ]
    },
    {
      "cell_type": "code",
      "source": [
        "# Train the model\n",
        "model6.fit(X_resampled_dp, y_resampled_one_hot, epochs=10, batch_size=64, validation_data=validation_set_dp)"
      ],
      "metadata": {
        "colab": {
          "base_uri": "https://localhost:8080/"
        },
        "id": "7l8mEQiWpitK",
        "outputId": "bd587a9c-455b-4063-c904-e019ed1af32f"
      },
      "execution_count": null,
      "outputs": [
        {
          "output_type": "stream",
          "name": "stdout",
          "text": [
            "Epoch 1/10\n",
            "\u001b[1m8013/8013\u001b[0m \u001b[32m━━━━━━━━━━━━━━━━━━━━\u001b[0m\u001b[37m\u001b[0m \u001b[1m27s\u001b[0m 3ms/step - accuracy: 0.6294 - loss: 0.6549 - val_accuracy: 0.8718 - val_loss: 0.3299\n",
            "Epoch 2/10\n",
            "\u001b[1m8013/8013\u001b[0m \u001b[32m━━━━━━━━━━━━━━━━━━━━\u001b[0m\u001b[37m\u001b[0m \u001b[1m41s\u001b[0m 3ms/step - accuracy: 0.7468 - loss: 0.4849 - val_accuracy: 0.8717 - val_loss: 0.3218\n",
            "Epoch 3/10\n",
            "\u001b[1m8013/8013\u001b[0m \u001b[32m━━━━━━━━━━━━━━━━━━━━\u001b[0m\u001b[37m\u001b[0m \u001b[1m25s\u001b[0m 3ms/step - accuracy: 0.7528 - loss: 0.4726 - val_accuracy: 0.8869 - val_loss: 0.3027\n",
            "Epoch 4/10\n",
            "\u001b[1m8013/8013\u001b[0m \u001b[32m━━━━━━━━━━━━━━━━━━━━\u001b[0m\u001b[37m\u001b[0m \u001b[1m42s\u001b[0m 3ms/step - accuracy: 0.7544 - loss: 0.4683 - val_accuracy: 0.8928 - val_loss: 0.2862\n",
            "Epoch 5/10\n",
            "\u001b[1m8013/8013\u001b[0m \u001b[32m━━━━━━━━━━━━━━━━━━━━\u001b[0m\u001b[37m\u001b[0m \u001b[1m23s\u001b[0m 3ms/step - accuracy: 0.7542 - loss: 0.4695 - val_accuracy: 0.8985 - val_loss: 0.2772\n",
            "Epoch 6/10\n",
            "\u001b[1m8013/8013\u001b[0m \u001b[32m━━━━━━━━━━━━━━━━━━━━\u001b[0m\u001b[37m\u001b[0m \u001b[1m26s\u001b[0m 3ms/step - accuracy: 0.7533 - loss: 0.4684 - val_accuracy: 0.8958 - val_loss: 0.2836\n",
            "Epoch 7/10\n",
            "\u001b[1m8013/8013\u001b[0m \u001b[32m━━━━━━━━━━━━━━━━━━━━\u001b[0m\u001b[37m\u001b[0m \u001b[1m41s\u001b[0m 3ms/step - accuracy: 0.7542 - loss: 0.4663 - val_accuracy: 0.8939 - val_loss: 0.2867\n",
            "Epoch 8/10\n",
            "\u001b[1m8013/8013\u001b[0m \u001b[32m━━━━━━━━━━━━━━━━━━━━\u001b[0m\u001b[37m\u001b[0m \u001b[1m39s\u001b[0m 3ms/step - accuracy: 0.7563 - loss: 0.4654 - val_accuracy: 0.8926 - val_loss: 0.2882\n",
            "Epoch 9/10\n",
            "\u001b[1m8013/8013\u001b[0m \u001b[32m━━━━━━━━━━━━━━━━━━━━\u001b[0m\u001b[37m\u001b[0m \u001b[1m24s\u001b[0m 3ms/step - accuracy: 0.7553 - loss: 0.4664 - val_accuracy: 0.8936 - val_loss: 0.2820\n",
            "Epoch 10/10\n",
            "\u001b[1m8013/8013\u001b[0m \u001b[32m━━━━━━━━━━━━━━━━━━━━\u001b[0m\u001b[37m\u001b[0m \u001b[1m26s\u001b[0m 3ms/step - accuracy: 0.7542 - loss: 0.4675 - val_accuracy: 0.8959 - val_loss: 0.2834\n"
          ]
        },
        {
          "output_type": "execute_result",
          "data": {
            "text/plain": [
              "<keras.src.callbacks.history.History at 0x7b718e1cd780>"
            ]
          },
          "metadata": {},
          "execution_count": 41
        }
      ]
    },
    {
      "cell_type": "code",
      "source": [
        "predictions6 = model6.predict(X_pca_val)[:,1]\n",
        "sc = score(pd.DataFrame(y_val), pd.DataFrame(predictions6),'isic_id')\n",
        "model_names.append('Dropout with ADASYN and PCA')\n",
        "scores.append(sc)\n",
        "print(sc)"
      ],
      "metadata": {
        "colab": {
          "base_uri": "https://localhost:8080/"
        },
        "id": "E0ofV5yhptke",
        "outputId": "f4e1b97e-9c8c-45d3-cefc-f2f379299bcf"
      },
      "execution_count": null,
      "outputs": [
        {
          "output_type": "stream",
          "name": "stdout",
          "text": [
            "\u001b[1m2507/2507\u001b[0m \u001b[32m━━━━━━━━━━━━━━━━━━━━\u001b[0m\u001b[37m\u001b[0m \u001b[1m4s\u001b[0m 1ms/step\n",
            "0.1530543762134691\n"
          ]
        }
      ]
    },
    {
      "cell_type": "markdown",
      "source": [
        "# Model using XGBoost"
      ],
      "metadata": {
        "id": "3TyPrq9oCXAb"
      }
    },
    {
      "cell_type": "code",
      "source": [
        "import xgboost as xgb\n",
        "import matplotlib.pyplot as plt\n",
        "import seaborn as sns\n",
        "from sklearn.metrics import classification_report, roc_auc_score, confusion_matrix\n",
        "\n",
        "\n",
        "neg, pos = np.bincount(y_train_partial)\n",
        "scale_pos_weight = neg/pos\n",
        "xgb_ml = xgb.XGBClassifier(\n",
        "            scale_pos_weight=scale_pos_weight,  # Handle class imbalance\n",
        "            learning_rate=0.01,\n",
        "            n_estimators=200,\n",
        "            max_depth=3,\n",
        "            min_child_weight=4,\n",
        "            gamma=1,\n",
        "            subsample=0.75,\n",
        "            colsample_bytree=0.75,\n",
        "            random_state=42,\n",
        "            eval_metric=['logloss','aucpr']  # Use appropriate metric for binary classification\n",
        "        )"
      ],
      "metadata": {
        "id": "V1s2dBsrP8ZO"
      },
      "execution_count": 24,
      "outputs": []
    },
    {
      "cell_type": "code",
      "source": [
        "xgb_ml.fit(X_train_data_partial, y_train_partial)\n",
        "predictions7 = xgb_ml.predict_proba(X_val)[:, 1]\n",
        "sc = score(pd.DataFrame(y_val), pd.DataFrame(predictions7),'isic_id')\n",
        "model_names.append('XGBoost')\n",
        "scores.append(sc)\n",
        "print(sc)"
      ],
      "metadata": {
        "colab": {
          "base_uri": "https://localhost:8080/"
        },
        "id": "6uqc5TOFSTaz",
        "outputId": "e4c179cd-38c1-499d-f462-b0fa6d0c45f9"
      },
      "execution_count": 25,
      "outputs": [
        {
          "output_type": "stream",
          "name": "stdout",
          "text": [
            "0.15014898490752793\n"
          ]
        }
      ]
    },
    {
      "cell_type": "code",
      "source": [
        "# PCA processed data for later useage\n",
        "pca = PCA(n_components=41)\n",
        "X_pca_train = pca.fit_transform(X_train_data_partial)\n",
        "X_pca_val = pca.transform(X_val)"
      ],
      "metadata": {
        "id": "wARW0mTmZ41p"
      },
      "execution_count": 27,
      "outputs": []
    },
    {
      "cell_type": "code",
      "source": [
        "xgb_ml.fit(X_pca_train, y_train_partial)\n",
        "predictions7 = xgb_ml.predict_proba(X_pca_val)[:, 1]\n",
        "score(pd.DataFrame(y_val), pd.DataFrame(predictions7),'isic_id')"
      ],
      "metadata": {
        "colab": {
          "base_uri": "https://localhost:8080/"
        },
        "id": "zshrVV2Oah6a",
        "outputId": "b62fd552-8a28-4559-a789-6f942f1557b1"
      },
      "execution_count": 33,
      "outputs": [
        {
          "output_type": "stream",
          "name": "stderr",
          "text": [
            "/usr/local/lib/python3.10/dist-packages/xgboost/core.py:158: UserWarning: [20:46:39] WARNING: /workspace/src/learner.cc:740: \n",
            "Parameters: { \"use_label_encoder\" } are not used.\n",
            "\n",
            "  warnings.warn(smsg, UserWarning)\n"
          ]
        },
        {
          "output_type": "execute_result",
          "data": {
            "text/plain": [
              "0.11787965798000062"
            ]
          },
          "metadata": {},
          "execution_count": 33
        }
      ]
    },
    {
      "cell_type": "code",
      "source": [
        "plt.figure(figsize=(8, 6))\n",
        "cm = confusion_matrix(y_val, xgb_ml.predict(X_val))\n",
        "sns.heatmap(cm, annot=True, fmt='d', cmap='Blues')\n",
        "plt.title('Confusion Matrix')\n",
        "plt.ylabel('True Label')\n",
        "plt.xlabel('Predicted Label')\n",
        "plt.show()"
      ],
      "metadata": {
        "colab": {
          "base_uri": "https://localhost:8080/",
          "height": 564
        },
        "id": "i9gs-lpQda8h",
        "outputId": "012bffc0-41e5-4ef7-8cf5-dea4f190afb3",
        "collapsed": true
      },
      "execution_count": null,
      "outputs": [
        {
          "output_type": "display_data",
          "data": {
            "text/plain": [
              "<Figure size 800x600 with 2 Axes>"
            ],
            "image/png": "[encoded data removed]"
          },
          "metadata": {}
        }
      ]
    },
    {
      "cell_type": "code",
      "source": [
        "# Create figure and axis\n",
        "fig, ax = plt.subplots(figsize=(15, 8))\n",
        "\n",
        "scores = list(map(lambda x: round(x, 4), scores))\n",
        "# Create the bars with blue-toned colors\n",
        "colors = ['#4c72b0', '#6699cc', '#80b1d3', '#9ebcda', '#c2ced9', '#d8e4e9', '#f2f2f2'][::-1]\n",
        "ax.barh(model_names, scores, color=colors)\n",
        "\n",
        "# Add labels and title\n",
        "ax.set_ylabel('Model')\n",
        "ax.set_xlabel('Score')\n",
        "ax.set_title('Model Scores')\n",
        "\n",
        "# Add grid lines\n",
        "ax.grid(axis='x', linestyle='--', alpha=0.5)\n",
        "\n",
        "# Customize the x-axis ticks\n",
        "ax.set_yticks(range(len(model_names)))\n",
        "ax.set_yticklabels(model_names, ha='right')\n",
        "\n",
        "# Add value labels on top of the bars\n",
        "for i, v in enumerate(scores):\n",
        "    ax.text(v-0.01, i, str(v), ha='center', va='bottom', fontweight='bold')\n",
        "\n",
        "# Adjust the spacing\n",
        "plt.subplots_adjust(left=0.2)\n",
        "\n",
        "ax.invert_yaxis()\n",
        "\n",
        "# Display the plot\n",
        "plt.show()"
      ],
      "metadata": {
        "colab": {
          "base_uri": "https://localhost:8080/",
          "height": 718
        },
        "id": "eUT4AJLNmv5M",
        "outputId": "432bb4a6-cb13-4362-b791-abf441afb964",
        "collapsed": true
      },
      "execution_count": null,
      "outputs": [
        {
          "output_type": "display_data",
          "data": {
            "text/plain": [
              "<Figure size 1500x800 with 1 Axes>"
            ],
            "image/png": "[encoded data removed]"
          },
          "metadata": {}
        }
      ]
    },
    {
      "cell_type": "markdown",
      "source": [
        "# CV"
      ],
      "metadata": {
        "id": "nwtRCTqQeFiJ"
      }
    },
    {
      "cell_type": "code",
      "source": [
        "from sklearn.model_selection import cross_val_score\n",
        "from sklearn.metrics import classification_report\n",
        "\n",
        "# classification_report(y_val, xgb_ml.predict(X_val))\n",
        "# cross_val_score(xgb_ml, X_train_data, y_train, cv=5, scoring='roc_auc')\n",
        "def remove_correlated_features(df, threshold=0.9):\n",
        "    corr_matrix = df.corr().abs()\n",
        "    upper = corr_matrix.where(np.triu(np.ones(corr_matrix.shape), k=1).astype(bool))\n",
        "    to_drop = [column for column in upper.columns if any(upper[column] > threshold)]\n",
        "    return df.drop(to_drop, axis=1)"
      ],
      "metadata": {
        "id": "5Wyr52pCbu7D"
      },
      "execution_count": 30,
      "outputs": []
    },
    {
      "cell_type": "code",
      "source": [
        "cross_val_score(xgb_ml, X_train_data, y_train, cv=5, scoring='roc_auc')"
      ],
      "metadata": {
        "colab": {
          "base_uri": "https://localhost:8080/"
        },
        "id": "8kJ5g80dTi5m",
        "outputId": "0de15665-b94a-4451-9141-d43eb4031ffe"
      },
      "execution_count": 35,
      "outputs": [
        {
          "output_type": "execute_result",
          "data": {
            "text/plain": [
              "array([0.93768243, 0.92134027, 0.91549081, 0.95545444, 0.93723976])"
            ]
          },
          "metadata": {},
          "execution_count": 35
        }
      ]
    }
  ]
}