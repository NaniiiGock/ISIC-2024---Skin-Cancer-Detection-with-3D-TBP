{
  "nbformat": 4,
  "nbformat_minor": 0,
  "metadata": {
    "colab": {
      "provenance": []
    },
    "kernelspec": {
      "name": "python3",
      "display_name": "Python 3"
    },
    "language_info": {
      "name": "python"
    }
  },
  "cells": [
    {
      "cell_type": "code",
      "execution_count": null,
      "metadata": {
        "id": "qvZzt0utfcoO"
      },
      "outputs": [],
      "source": [
        "import pandas as pd\n",
        "import numpy as np"
      ]
    },
    {
      "cell_type": "code",
      "source": [
        "from google.colab import drive\n",
        "drive.mount('/content/drive')"
      ],
      "metadata": {
        "colab": {
          "base_uri": "https://localhost:8080/"
        },
        "id": "Bv2IrbBNfxKM",
        "outputId": "c3460b12-e817-409b-d6c5-fc055d3b35fe"
      },
      "execution_count": null,
      "outputs": [
        {
          "output_type": "stream",
          "name": "stdout",
          "text": [
            "Mounted at /content/drive\n"
          ]
        }
      ]
    },
    {
      "cell_type": "markdown",
      "source": [
        "# Load data"
      ],
      "metadata": {
        "id": "tnJThnYM_UcW"
      }
    },
    {
      "cell_type": "code",
      "source": [
        "train_data = pd.read_csv('/content/drive/MyDrive/ML Project - Skin Cancer/train-metadata.csv', low_memory=False)\n",
        "test_data = pd.read_csv('/content/drive/MyDrive/ML Project - Skin Cancer/test-metadata.csv', low_memory=False)"
      ],
      "metadata": {
        "id": "V7Pq9lDigDeW"
      },
      "execution_count": null,
      "outputs": []
    },
    {
      "cell_type": "markdown",
      "source": [
        "# Drop useless columns in training metadata"
      ],
      "metadata": {
        "id": "VmZVm8E__Y2Y"
      }
    },
    {
      "cell_type": "code",
      "source": [
        "useless_cols = set(train_data.columns) - set(test_data.columns)\n",
        "useless_cols.remove('target')\n",
        "useless_cols = list(useless_cols)\n",
        "train_data = train_data.drop(columns=useless_cols)"
      ],
      "metadata": {
        "id": "x5uCllA5gOnP"
      },
      "execution_count": null,
      "outputs": []
    },
    {
      "cell_type": "code",
      "source": [
        "useless_cols"
      ],
      "metadata": {
        "colab": {
          "base_uri": "https://localhost:8080/"
        },
        "id": "w4Dn2kFCcRqn",
        "outputId": "74c3f674-231f-48de-f63f-1ab701d9ce03"
      },
      "execution_count": null,
      "outputs": [
        {
          "output_type": "execute_result",
          "data": {
            "text/plain": [
              "['iddx_full',\n",
              " 'iddx_1',\n",
              " 'iddx_2',\n",
              " 'mel_mitotic_index',\n",
              " 'mel_thick_mm',\n",
              " 'tbp_lv_dnn_lesion_confidence',\n",
              " 'lesion_id',\n",
              " 'iddx_3',\n",
              " 'iddx_5',\n",
              " 'iddx_4']"
            ]
          },
          "metadata": {},
          "execution_count": 5
        }
      ]
    },
    {
      "cell_type": "code",
      "source": [
        "train_size = train_data.shape[0]\n",
        "train_size"
      ],
      "metadata": {
        "colab": {
          "base_uri": "https://localhost:8080/"
        },
        "id": "rwxwN3g7kO0W",
        "outputId": "846188c0-fa25-439d-ff80-1073ad33bb57"
      },
      "execution_count": null,
      "outputs": [
        {
          "output_type": "execute_result",
          "data": {
            "text/plain": [
              "401059"
            ]
          },
          "metadata": {},
          "execution_count": 6
        }
      ]
    },
    {
      "cell_type": "markdown",
      "source": [
        "# Extract the target for training"
      ],
      "metadata": {
        "id": "aEtZi9Eu_niC"
      }
    },
    {
      "cell_type": "code",
      "source": [
        "X_train = train_data.drop(columns='target')\n",
        "y_train = train_data['target']"
      ],
      "metadata": {
        "id": "XkEAI0cnqS_5"
      },
      "execution_count": null,
      "outputs": []
    },
    {
      "cell_type": "markdown",
      "source": [
        "# Fill absent values"
      ],
      "metadata": {
        "id": "4uK6zxoB_vgk"
      }
    },
    {
      "cell_type": "code",
      "source": [
        "X_train.fillna({'age_approx': X_train['age_approx'].mean(),'anatom_site_general':'NA','sex':'NA'}, inplace=True)"
      ],
      "metadata": {
        "id": "-iMYrvY_6Sz3"
      },
      "execution_count": null,
      "outputs": []
    },
    {
      "cell_type": "markdown",
      "source": [
        "# Combine the test and training set, after normalization will be split again"
      ],
      "metadata": {
        "id": "RC2s--NRAHkL"
      }
    },
    {
      "cell_type": "code",
      "source": [
        "all_data = pd.concat([X_train, test_data])\n",
        "all_data.reset_index(drop=True, inplace=True)\n",
        "all_data.shape[0]"
      ],
      "metadata": {
        "colab": {
          "base_uri": "https://localhost:8080/"
        },
        "collapsed": true,
        "id": "n-mD46Cj3dOj",
        "outputId": "31413c8b-5436-4681-e6a2-52ea95633def"
      },
      "execution_count": null,
      "outputs": [
        {
          "output_type": "execute_result",
          "data": {
            "text/plain": [
              "401062"
            ]
          },
          "metadata": {},
          "execution_count": 9
        }
      ]
    },
    {
      "cell_type": "code",
      "source": [
        "all_data.dtypes"
      ],
      "metadata": {
        "colab": {
          "base_uri": "https://localhost:8080/",
          "height": 1000
        },
        "collapsed": true,
        "id": "Fl6Cuzya-nwj",
        "outputId": "bb73ec94-e80d-4781-d93d-e2d518e7c966"
      },
      "execution_count": null,
      "outputs": [
        {
          "output_type": "execute_result",
          "data": {
            "text/plain": [
              "isic_id                         object\n",
              "patient_id                      object\n",
              "age_approx                     float64\n",
              "sex                             object\n",
              "anatom_site_general             object\n",
              "clin_size_long_diam_mm         float64\n",
              "image_type                      object\n",
              "tbp_tile_type                   object\n",
              "tbp_lv_A                       float64\n",
              "tbp_lv_Aext                    float64\n",
              "tbp_lv_B                       float64\n",
              "tbp_lv_Bext                    float64\n",
              "tbp_lv_C                       float64\n",
              "tbp_lv_Cext                    float64\n",
              "tbp_lv_H                       float64\n",
              "tbp_lv_Hext                    float64\n",
              "tbp_lv_L                       float64\n",
              "tbp_lv_Lext                    float64\n",
              "tbp_lv_areaMM2                 float64\n",
              "tbp_lv_area_perim_ratio        float64\n",
              "tbp_lv_color_std_mean          float64\n",
              "tbp_lv_deltaA                  float64\n",
              "tbp_lv_deltaB                  float64\n",
              "tbp_lv_deltaL                  float64\n",
              "tbp_lv_deltaLB                 float64\n",
              "tbp_lv_deltaLBnorm             float64\n",
              "tbp_lv_eccentricity            float64\n",
              "tbp_lv_location                 object\n",
              "tbp_lv_location_simple          object\n",
              "tbp_lv_minorAxisMM             float64\n",
              "tbp_lv_nevi_confidence         float64\n",
              "tbp_lv_norm_border             float64\n",
              "tbp_lv_norm_color              float64\n",
              "tbp_lv_perimeterMM             float64\n",
              "tbp_lv_radial_color_std_max    float64\n",
              "tbp_lv_stdL                    float64\n",
              "tbp_lv_stdLExt                 float64\n",
              "tbp_lv_symm_2axis              float64\n",
              "tbp_lv_symm_2axis_angle          int64\n",
              "tbp_lv_x                       float64\n",
              "tbp_lv_y                       float64\n",
              "tbp_lv_z                       float64\n",
              "attribution                     object\n",
              "copyright_license               object\n",
              "dtype: object"
            ],
            "text/html": [
              "<div>\n",
              "<style scoped>\n",
              "    .dataframe tbody tr th:only-of-type {\n",
              "        vertical-align: middle;\n",
              "    }\n",
              "\n",
              "    .dataframe tbody tr th {\n",
              "        vertical-align: top;\n",
              "    }\n",
              "\n",
              "    .dataframe thead th {\n",
              "        text-align: right;\n",
              "    }\n",
              "</style>\n",
              "<table border=\"1\" class=\"dataframe\">\n",
              "  <thead>\n",
              "    <tr style=\"text-align: right;\">\n",
              "      <th></th>\n",
              "      <th>0</th>\n",
              "    </tr>\n",
              "  </thead>\n",
              "  <tbody>\n",
              "    <tr>\n",
              "      <th>isic_id</th>\n",
              "      <td>object</td>\n",
              "    </tr>\n",
              "    <tr>\n",
              "      <th>patient_id</th>\n",
              "      <td>object</td>\n",
              "    </tr>\n",
              "    <tr>\n",
              "      <th>age_approx</th>\n",
              "      <td>float64</td>\n",
              "    </tr>\n",
              "    <tr>\n",
              "      <th>sex</th>\n",
              "      <td>object</td>\n",
              "    </tr>\n",
              "    <tr>\n",
              "      <th>anatom_site_general</th>\n",
              "      <td>object</td>\n",
              "    </tr>\n",
              "    <tr>\n",
              "      <th>clin_size_long_diam_mm</th>\n",
              "      <td>float64</td>\n",
              "    </tr>\n",
              "    <tr>\n",
              "      <th>image_type</th>\n",
              "      <td>object</td>\n",
              "    </tr>\n",
              "    <tr>\n",
              "      <th>tbp_tile_type</th>\n",
              "      <td>object</td>\n",
              "    </tr>\n",
              "    <tr>\n",
              "      <th>tbp_lv_A</th>\n",
              "      <td>float64</td>\n",
              "    </tr>\n",
              "    <tr>\n",
              "      <th>tbp_lv_Aext</th>\n",
              "      <td>float64</td>\n",
              "    </tr>\n",
              "    <tr>\n",
              "      <th>tbp_lv_B</th>\n",
              "      <td>float64</td>\n",
              "    </tr>\n",
              "    <tr>\n",
              "      <th>tbp_lv_Bext</th>\n",
              "      <td>float64</td>\n",
              "    </tr>\n",
              "    <tr>\n",
              "      <th>tbp_lv_C</th>\n",
              "      <td>float64</td>\n",
              "    </tr>\n",
              "    <tr>\n",
              "      <th>tbp_lv_Cext</th>\n",
              "      <td>float64</td>\n",
              "    </tr>\n",
              "    <tr>\n",
              "      <th>tbp_lv_H</th>\n",
              "      <td>float64</td>\n",
              "    </tr>\n",
              "    <tr>\n",
              "      <th>tbp_lv_Hext</th>\n",
              "      <td>float64</td>\n",
              "    </tr>\n",
              "    <tr>\n",
              "      <th>tbp_lv_L</th>\n",
              "      <td>float64</td>\n",
              "    </tr>\n",
              "    <tr>\n",
              "      <th>tbp_lv_Lext</th>\n",
              "      <td>float64</td>\n",
              "    </tr>\n",
              "    <tr>\n",
              "      <th>tbp_lv_areaMM2</th>\n",
              "      <td>float64</td>\n",
              "    </tr>\n",
              "    <tr>\n",
              "      <th>tbp_lv_area_perim_ratio</th>\n",
              "      <td>float64</td>\n",
              "    </tr>\n",
              "    <tr>\n",
              "      <th>tbp_lv_color_std_mean</th>\n",
              "      <td>float64</td>\n",
              "    </tr>\n",
              "    <tr>\n",
              "      <th>tbp_lv_deltaA</th>\n",
              "      <td>float64</td>\n",
              "    </tr>\n",
              "    <tr>\n",
              "      <th>tbp_lv_deltaB</th>\n",
              "      <td>float64</td>\n",
              "    </tr>\n",
              "    <tr>\n",
              "      <th>tbp_lv_deltaL</th>\n",
              "      <td>float64</td>\n",
              "    </tr>\n",
              "    <tr>\n",
              "      <th>tbp_lv_deltaLB</th>\n",
              "      <td>float64</td>\n",
              "    </tr>\n",
              "    <tr>\n",
              "      <th>tbp_lv_deltaLBnorm</th>\n",
              "      <td>float64</td>\n",
              "    </tr>\n",
              "    <tr>\n",
              "      <th>tbp_lv_eccentricity</th>\n",
              "      <td>float64</td>\n",
              "    </tr>\n",
              "    <tr>\n",
              "      <th>tbp_lv_location</th>\n",
              "      <td>object</td>\n",
              "    </tr>\n",
              "    <tr>\n",
              "      <th>tbp_lv_location_simple</th>\n",
              "      <td>object</td>\n",
              "    </tr>\n",
              "    <tr>\n",
              "      <th>tbp_lv_minorAxisMM</th>\n",
              "      <td>float64</td>\n",
              "    </tr>\n",
              "    <tr>\n",
              "      <th>tbp_lv_nevi_confidence</th>\n",
              "      <td>float64</td>\n",
              "    </tr>\n",
              "    <tr>\n",
              "      <th>tbp_lv_norm_border</th>\n",
              "      <td>float64</td>\n",
              "    </tr>\n",
              "    <tr>\n",
              "      <th>tbp_lv_norm_color</th>\n",
              "      <td>float64</td>\n",
              "    </tr>\n",
              "    <tr>\n",
              "      <th>tbp_lv_perimeterMM</th>\n",
              "      <td>float64</td>\n",
              "    </tr>\n",
              "    <tr>\n",
              "      <th>tbp_lv_radial_color_std_max</th>\n",
              "      <td>float64</td>\n",
              "    </tr>\n",
              "    <tr>\n",
              "      <th>tbp_lv_stdL</th>\n",
              "      <td>float64</td>\n",
              "    </tr>\n",
              "    <tr>\n",
              "      <th>tbp_lv_stdLExt</th>\n",
              "      <td>float64</td>\n",
              "    </tr>\n",
              "    <tr>\n",
              "      <th>tbp_lv_symm_2axis</th>\n",
              "      <td>float64</td>\n",
              "    </tr>\n",
              "    <tr>\n",
              "      <th>tbp_lv_symm_2axis_angle</th>\n",
              "      <td>int64</td>\n",
              "    </tr>\n",
              "    <tr>\n",
              "      <th>tbp_lv_x</th>\n",
              "      <td>float64</td>\n",
              "    </tr>\n",
              "    <tr>\n",
              "      <th>tbp_lv_y</th>\n",
              "      <td>float64</td>\n",
              "    </tr>\n",
              "    <tr>\n",
              "      <th>tbp_lv_z</th>\n",
              "      <td>float64</td>\n",
              "    </tr>\n",
              "    <tr>\n",
              "      <th>attribution</th>\n",
              "      <td>object</td>\n",
              "    </tr>\n",
              "    <tr>\n",
              "      <th>copyright_license</th>\n",
              "      <td>object</td>\n",
              "    </tr>\n",
              "  </tbody>\n",
              "</table>\n",
              "</div><br><label><b>dtype:</b> object</label>"
            ]
          },
          "metadata": {},
          "execution_count": 12
        }
      ]
    },
    {
      "cell_type": "code",
      "source": [
        "print(all_data['sex'].dtype)"
      ],
      "metadata": {
        "colab": {
          "base_uri": "https://localhost:8080/"
        },
        "id": "CF6zwRLf4ws8",
        "outputId": "0f982eb4-520d-4ac1-f224-d85376007973"
      },
      "execution_count": null,
      "outputs": [
        {
          "output_type": "stream",
          "name": "stdout",
          "text": [
            "object\n"
          ]
        }
      ]
    },
    {
      "cell_type": "markdown",
      "source": [
        "# Drop useless columns in both sets"
      ],
      "metadata": {
        "id": "IdKEa9ERAQnD"
      }
    },
    {
      "cell_type": "code",
      "source": [
        "all_data = all_data.drop(columns=['copyright_license', 'attribution', 'image_type', 'patient_id'])"
      ],
      "metadata": {
        "id": "SmWYFjje-Diy"
      },
      "execution_count": null,
      "outputs": []
    },
    {
      "cell_type": "markdown",
      "source": [
        "# Get the names of numeric and categorical columns"
      ],
      "metadata": {
        "id": "hkwzwJmVAW56"
      }
    },
    {
      "cell_type": "code",
      "source": [
        "from imblearn.over_sampling import SMOTE\n",
        "from sklearn.preprocessing import StandardScaler, OneHotEncoder\n",
        "col_num = []\n",
        "col_cat = []\n",
        "for col in all_data:\n",
        "  if col in ['isic_id']: continue;\n",
        "  if all_data[col].dtype == 'object':\n",
        "    col_cat.append(col)\n",
        "    all_data[col] = all_data[col].astype('category')\n",
        "  else:\n",
        "    col_num.append(col)\n",
        "    all_data[col] = all_data[col].astype('float64')"
      ],
      "metadata": {
        "id": "IudSFi8P2_ew"
      },
      "execution_count": null,
      "outputs": []
    },
    {
      "cell_type": "markdown",
      "source": [
        "# Normalization for numeric columns"
      ],
      "metadata": {
        "id": "sd1w6WyC_Ipr"
      }
    },
    {
      "cell_type": "code",
      "source": [
        "# Normalization for numeric values\n",
        "numeric_transformer = StandardScaler()\n",
        "all_data.loc[:,col_num] = numeric_transformer.fit_transform(all_data[col_num])"
      ],
      "metadata": {
        "id": "ibvNB7xT533X"
      },
      "execution_count": null,
      "outputs": []
    },
    {
      "cell_type": "markdown",
      "source": [
        "# One hot encoding for categorical columns."
      ],
      "metadata": {
        "id": "SnpMqPmG_Bhu"
      }
    },
    {
      "cell_type": "code",
      "source": [
        "categorical_transformer = OneHotEncoder(sparse_output=False)\n",
        "X_cat = categorical_transformer.fit_transform(all_data[col_cat])\n",
        "new_cat_col = categorical_transformer.get_feature_names_out(col_cat)\n",
        "new_cat_col"
      ],
      "metadata": {
        "colab": {
          "base_uri": "https://localhost:8080/"
        },
        "collapsed": true,
        "id": "MEFBzgkt8usk",
        "outputId": "5e18ad2c-66a0-42cf-abe7-59185ea5d3d7"
      },
      "execution_count": null,
      "outputs": [
        {
          "output_type": "execute_result",
          "data": {
            "text/plain": [
              "array(['sex_NA', 'sex_female', 'sex_male', 'anatom_site_general_NA',\n",
              "       'anatom_site_general_anterior torso',\n",
              "       'anatom_site_general_head/neck',\n",
              "       'anatom_site_general_lower extremity',\n",
              "       'anatom_site_general_posterior torso',\n",
              "       'anatom_site_general_upper extremity', 'tbp_tile_type_3D: XP',\n",
              "       'tbp_tile_type_3D: white', 'tbp_lv_location_Head & Neck',\n",
              "       'tbp_lv_location_Left Arm', 'tbp_lv_location_Left Arm - Lower',\n",
              "       'tbp_lv_location_Left Arm - Upper', 'tbp_lv_location_Left Leg',\n",
              "       'tbp_lv_location_Left Leg - Lower',\n",
              "       'tbp_lv_location_Left Leg - Upper', 'tbp_lv_location_Right Arm',\n",
              "       'tbp_lv_location_Right Arm - Lower',\n",
              "       'tbp_lv_location_Right Arm - Upper', 'tbp_lv_location_Right Leg',\n",
              "       'tbp_lv_location_Right Leg - Lower',\n",
              "       'tbp_lv_location_Right Leg - Upper', 'tbp_lv_location_Torso Back',\n",
              "       'tbp_lv_location_Torso Back Bottom Third',\n",
              "       'tbp_lv_location_Torso Back Middle Third',\n",
              "       'tbp_lv_location_Torso Back Top Third',\n",
              "       'tbp_lv_location_Torso Front',\n",
              "       'tbp_lv_location_Torso Front Bottom Half',\n",
              "       'tbp_lv_location_Torso Front Top Half', 'tbp_lv_location_Unknown',\n",
              "       'tbp_lv_location_simple_Head & Neck',\n",
              "       'tbp_lv_location_simple_Left Arm',\n",
              "       'tbp_lv_location_simple_Left Leg',\n",
              "       'tbp_lv_location_simple_Right Arm',\n",
              "       'tbp_lv_location_simple_Right Leg',\n",
              "       'tbp_lv_location_simple_Torso Back',\n",
              "       'tbp_lv_location_simple_Torso Front',\n",
              "       'tbp_lv_location_simple_Unknown'], dtype=object)"
            ]
          },
          "metadata": {},
          "execution_count": 13
        }
      ]
    },
    {
      "cell_type": "code",
      "source": [
        "all_data = all_data.drop(columns=col_cat)"
      ],
      "metadata": {
        "id": "n9jvonRoB66N"
      },
      "execution_count": null,
      "outputs": []
    },
    {
      "cell_type": "code",
      "source": [
        "all_data = pd.concat([all_data,pd.DataFrame(X_cat, columns=new_cat_col)],axis=1)"
      ],
      "metadata": {
        "id": "L1cF-CHd367Z"
      },
      "execution_count": null,
      "outputs": []
    },
    {
      "cell_type": "markdown",
      "source": [
        "# Return the data to test and training set"
      ],
      "metadata": {
        "id": "a3CLLtsNAzFN"
      }
    },
    {
      "cell_type": "code",
      "source": [
        "X_train = all_data.iloc[0:train_size,:]\n",
        "X_test = all_data.iloc[train_size:,:]"
      ],
      "metadata": {
        "id": "imD52v5A6J5y"
      },
      "execution_count": null,
      "outputs": []
    },
    {
      "cell_type": "code",
      "source": [
        "X_test.reset_index(drop=True, inplace=True)"
      ],
      "metadata": {
        "id": "U2x_wYc7KB6S"
      },
      "execution_count": null,
      "outputs": []
    },
    {
      "cell_type": "markdown",
      "source": [
        "# Take out the id for test and training set"
      ],
      "metadata": {
        "id": "KPjwWI7sBA16"
      }
    },
    {
      "cell_type": "code",
      "source": [
        "col_id = ['isic_id']\n",
        "X_train_id = X_train[col_id]\n",
        "X_train_data = X_train.drop(columns=col_id)\n",
        "X_test_id = X_test[col_id]\n",
        "X_test_data = X_test.drop(columns=col_id)"
      ],
      "metadata": {
        "id": "SLwHChE7r_xo"
      },
      "execution_count": null,
      "outputs": []
    },
    {
      "cell_type": "markdown",
      "source": [
        "# Some statistics"
      ],
      "metadata": {
        "id": "ajKZTTZPDYvf"
      }
    },
    {
      "cell_type": "code",
      "source": [
        "import matplotlib.pyplot as plt\n",
        "import seaborn as sns\n",
        "data_updated = X_train[col_num]\n",
        "correlation= data_updated.corr()\n",
        "\n",
        "# axis_corr = sns.heatmap(\n",
        "#   correlation,\n",
        "#   vmin=-1, vmax=1, center=0,\n",
        "#   cmap=sns.diverging_palette(100, 500, n=500, as_cmap=True),\n",
        "#   square=True\n",
        "# )\n",
        "\n",
        "axis_corr = sns.heatmap(\n",
        "    correlation,\n",
        "    vmin=-1, vmax=1, center=0,\n",
        "    cmap=sns.diverging_palette(240, 10, n=500, as_cmap=True),  # Blue to red diverging palette\n",
        "    square=True,\n",
        "    linewidths=0.5,  # Optional: spacing between cells\n",
        ")\n",
        "\n",
        "plt.show()\n",
        "\n"
      ],
      "metadata": {
        "colab": {
          "base_uri": "https://localhost:8080/",
          "height": 617
        },
        "id": "yvGffkDYjPvx",
        "outputId": "504fbe85-cf6d-4c93-9e56-89573457477e"
      },
      "execution_count": null,
      "outputs": [
        {
          "output_type": "display_data",
          "data": {
            "text/plain": [
              "<Figure size 640x480 with 2 Axes>"
            ],
            "image/png": "[encoded data removed]"
          },
          "metadata": {}
        }
      ]
    },
    {
      "cell_type": "code",
      "source": [
        "type(correlation)"
      ],
      "metadata": {
        "colab": {
          "base_uri": "https://localhost:8080/",
          "height": 203
        },
        "id": "QvZiQbKtolkE",
        "outputId": "4d780bab-b28e-4df4-93c3-9a227442d359"
      },
      "execution_count": null,
      "outputs": [
        {
          "output_type": "execute_result",
          "data": {
            "text/plain": [
              "pandas.core.frame.DataFrame"
            ],
            "text/html": [
              "<div style=\"max-width:800px; border: 1px solid var(--colab-border-color);\"><style>\n",
              "      pre.function-repr-contents {\n",
              "        overflow-x: auto;\n",
              "        padding: 8px 12px;\n",
              "        max-height: 500px;\n",
              "      }\n",
              "\n",
              "      pre.function-repr-contents.function-repr-contents-collapsed {\n",
              "        cursor: pointer;\n",
              "        max-height: 100px;\n",
              "      }\n",
              "    </style>\n",
              "    <pre style=\"white-space: initial; background:\n",
              "         var(--colab-secondary-surface-color); padding: 8px 12px;\n",
              "         border-bottom: 1px solid var(--colab-border-color);\"><b>pandas.core.frame.DataFrame</b><br/>def __init__(data=None, index: Axes | None=None, columns: Axes | None=None, dtype: Dtype | None=None, copy: bool | None=None) -&gt; None</pre><pre class=\"function-repr-contents function-repr-contents-collapsed\" style=\"\"><a class=\"filepath\" style=\"display:none\" href=\"#\">/usr/local/lib/python3.10/dist-packages/pandas/core/frame.py</a>Two-dimensional, size-mutable, potentially heterogeneous tabular data.\n",
              "\n",
              "Data structure also contains labeled axes (rows and columns).\n",
              "Arithmetic operations align on both row and column labels. Can be\n",
              "thought of as a dict-like container for Series objects. The primary\n",
              "pandas data structure.\n",
              "\n",
              "Parameters\n",
              "----------\n",
              "data : ndarray (structured or homogeneous), Iterable, dict, or DataFrame\n",
              "    Dict can contain Series, arrays, constants, dataclass or list-like objects. If\n",
              "    data is a dict, column order follows insertion-order. If a dict contains Series\n",
              "    which have an index defined, it is aligned by its index. This alignment also\n",
              "    occurs if data is a Series or a DataFrame itself. Alignment is done on\n",
              "    Series/DataFrame inputs.\n",
              "\n",
              "    If data is a list of dicts, column order follows insertion-order.\n",
              "\n",
              "index : Index or array-like\n",
              "    Index to use for resulting frame. Will default to RangeIndex if\n",
              "    no indexing information part of input data and no index provided.\n",
              "columns : Index or array-like\n",
              "    Column labels to use for resulting frame when data does not have them,\n",
              "    defaulting to RangeIndex(0, 1, 2, ..., n). If data contains column labels,\n",
              "    will perform column selection instead.\n",
              "dtype : dtype, default None\n",
              "    Data type to force. Only a single dtype is allowed. If None, infer.\n",
              "copy : bool or None, default None\n",
              "    Copy data from inputs.\n",
              "    For dict data, the default of None behaves like ``copy=True``.  For DataFrame\n",
              "    or 2d ndarray input, the default of None behaves like ``copy=False``.\n",
              "    If data is a dict containing one or more Series (possibly of different dtypes),\n",
              "    ``copy=False`` will ensure that these inputs are not copied.\n",
              "\n",
              "    .. versionchanged:: 1.3.0\n",
              "\n",
              "See Also\n",
              "--------\n",
              "DataFrame.from_records : Constructor from tuples, also record arrays.\n",
              "DataFrame.from_dict : From dicts of Series, arrays, or dicts.\n",
              "read_csv : Read a comma-separated values (csv) file into DataFrame.\n",
              "read_table : Read general delimited file into DataFrame.\n",
              "read_clipboard : Read text from clipboard into DataFrame.\n",
              "\n",
              "Notes\n",
              "-----\n",
              "Please reference the :ref:`User Guide &lt;basics.dataframe&gt;` for more information.\n",
              "\n",
              "Examples\n",
              "--------\n",
              "Constructing DataFrame from a dictionary.\n",
              "\n",
              "&gt;&gt;&gt; d = {&#x27;col1&#x27;: [1, 2], &#x27;col2&#x27;: [3, 4]}\n",
              "&gt;&gt;&gt; df = pd.DataFrame(data=d)\n",
              "&gt;&gt;&gt; df\n",
              "   col1  col2\n",
              "0     1     3\n",
              "1     2     4\n",
              "\n",
              "Notice that the inferred dtype is int64.\n",
              "\n",
              "&gt;&gt;&gt; df.dtypes\n",
              "col1    int64\n",
              "col2    int64\n",
              "dtype: object\n",
              "\n",
              "To enforce a single dtype:\n",
              "\n",
              "&gt;&gt;&gt; df = pd.DataFrame(data=d, dtype=np.int8)\n",
              "&gt;&gt;&gt; df.dtypes\n",
              "col1    int8\n",
              "col2    int8\n",
              "dtype: object\n",
              "\n",
              "Constructing DataFrame from a dictionary including Series:\n",
              "\n",
              "&gt;&gt;&gt; d = {&#x27;col1&#x27;: [0, 1, 2, 3], &#x27;col2&#x27;: pd.Series([2, 3], index=[2, 3])}\n",
              "&gt;&gt;&gt; pd.DataFrame(data=d, index=[0, 1, 2, 3])\n",
              "   col1  col2\n",
              "0     0   NaN\n",
              "1     1   NaN\n",
              "2     2   2.0\n",
              "3     3   3.0\n",
              "\n",
              "Constructing DataFrame from numpy ndarray:\n",
              "\n",
              "&gt;&gt;&gt; df2 = pd.DataFrame(np.array([[1, 2, 3], [4, 5, 6], [7, 8, 9]]),\n",
              "...                    columns=[&#x27;a&#x27;, &#x27;b&#x27;, &#x27;c&#x27;])\n",
              "&gt;&gt;&gt; df2\n",
              "   a  b  c\n",
              "0  1  2  3\n",
              "1  4  5  6\n",
              "2  7  8  9\n",
              "\n",
              "Constructing DataFrame from a numpy ndarray that has labeled columns:\n",
              "\n",
              "&gt;&gt;&gt; data = np.array([(1, 2, 3), (4, 5, 6), (7, 8, 9)],\n",
              "...                 dtype=[(&quot;a&quot;, &quot;i4&quot;), (&quot;b&quot;, &quot;i4&quot;), (&quot;c&quot;, &quot;i4&quot;)])\n",
              "&gt;&gt;&gt; df3 = pd.DataFrame(data, columns=[&#x27;c&#x27;, &#x27;a&#x27;])\n",
              "...\n",
              "&gt;&gt;&gt; df3\n",
              "   c  a\n",
              "0  3  1\n",
              "1  6  4\n",
              "2  9  7\n",
              "\n",
              "Constructing DataFrame from dataclass:\n",
              "\n",
              "&gt;&gt;&gt; from dataclasses import make_dataclass\n",
              "&gt;&gt;&gt; Point = make_dataclass(&quot;Point&quot;, [(&quot;x&quot;, int), (&quot;y&quot;, int)])\n",
              "&gt;&gt;&gt; pd.DataFrame([Point(0, 0), Point(0, 3), Point(2, 3)])\n",
              "   x  y\n",
              "0  0  0\n",
              "1  0  3\n",
              "2  2  3\n",
              "\n",
              "Constructing DataFrame from Series/DataFrame:\n",
              "\n",
              "&gt;&gt;&gt; ser = pd.Series([1, 2, 3], index=[&quot;a&quot;, &quot;b&quot;, &quot;c&quot;])\n",
              "&gt;&gt;&gt; df = pd.DataFrame(data=ser, index=[&quot;a&quot;, &quot;c&quot;])\n",
              "&gt;&gt;&gt; df\n",
              "   0\n",
              "a  1\n",
              "c  3\n",
              "\n",
              "&gt;&gt;&gt; df1 = pd.DataFrame([1, 2, 3], index=[&quot;a&quot;, &quot;b&quot;, &quot;c&quot;], columns=[&quot;x&quot;])\n",
              "&gt;&gt;&gt; df2 = pd.DataFrame(data=df1, index=[&quot;a&quot;, &quot;c&quot;])\n",
              "&gt;&gt;&gt; df2\n",
              "   x\n",
              "a  1\n",
              "c  3</pre>\n",
              "      <script>\n",
              "      if (google.colab.kernel.accessAllowed && google.colab.files && google.colab.files.view) {\n",
              "        for (const element of document.querySelectorAll('.filepath')) {\n",
              "          element.style.display = 'block'\n",
              "          element.onclick = (event) => {\n",
              "            event.preventDefault();\n",
              "            event.stopPropagation();\n",
              "            google.colab.files.view(element.textContent, 509);\n",
              "          };\n",
              "        }\n",
              "      }\n",
              "      for (const element of document.querySelectorAll('.function-repr-contents')) {\n",
              "        element.onclick = (event) => {\n",
              "          event.preventDefault();\n",
              "          event.stopPropagation();\n",
              "          element.classList.toggle('function-repr-contents-collapsed');\n",
              "        };\n",
              "      }\n",
              "      </script>\n",
              "      </div>"
            ]
          },
          "metadata": {},
          "execution_count": 24
        }
      ]
    },
    {
      "cell_type": "code",
      "source": [
        "high_corr = correlation.where(np.abs(correlation) > 0.75).stack().reset_index()\n",
        "high_corr = high_corr[high_corr['level_0'] != high_corr['level_1']]\n",
        "high_corr.columns = ['Feature 1', 'Feature 2', 'Correlation']\n",
        "\n",
        "# Display the result\n",
        "high_corr"
      ],
      "metadata": {
        "colab": {
          "base_uri": "https://localhost:8080/",
          "height": 1000
        },
        "id": "gC3va-A_rvxJ",
        "outputId": "2d692d23-7241-460c-f13e-fda3856e40e8"
      },
      "execution_count": null,
      "outputs": [
        {
          "output_type": "execute_result",
          "data": {
            "text/plain": [
              "                      Feature 1                    Feature 2  Correlation\n",
              "2        clin_size_long_diam_mm               tbp_lv_areaMM2     0.902768\n",
              "3        clin_size_long_diam_mm           tbp_lv_minorAxisMM     0.858842\n",
              "4        clin_size_long_diam_mm           tbp_lv_perimeterMM     0.965004\n",
              "6                      tbp_lv_A                  tbp_lv_Aext     0.760407\n",
              "7                   tbp_lv_Aext                     tbp_lv_A     0.760407\n",
              "10                     tbp_lv_B                  tbp_lv_Bext     0.909632\n",
              "11                     tbp_lv_B                     tbp_lv_C     0.920575\n",
              "12                     tbp_lv_B                  tbp_lv_Cext     0.827217\n",
              "13                  tbp_lv_Bext                     tbp_lv_B     0.909632\n",
              "15                  tbp_lv_Bext                     tbp_lv_C     0.885437\n",
              "16                  tbp_lv_Bext                  tbp_lv_Cext     0.939995\n",
              "17                     tbp_lv_C                     tbp_lv_B     0.920575\n",
              "18                     tbp_lv_C                  tbp_lv_Bext     0.885437\n",
              "20                     tbp_lv_C                  tbp_lv_Cext     0.900188\n",
              "21                  tbp_lv_Cext                     tbp_lv_B     0.827217\n",
              "22                  tbp_lv_Cext                  tbp_lv_Bext     0.939995\n",
              "23                  tbp_lv_Cext                     tbp_lv_C     0.900188\n",
              "26                     tbp_lv_H                  tbp_lv_Hext     0.758720\n",
              "27                  tbp_lv_Hext                     tbp_lv_H     0.758720\n",
              "30                     tbp_lv_L                  tbp_lv_Lext     0.960190\n",
              "31                  tbp_lv_Lext                     tbp_lv_L     0.960190\n",
              "33               tbp_lv_areaMM2       clin_size_long_diam_mm     0.902768\n",
              "35               tbp_lv_areaMM2           tbp_lv_minorAxisMM     0.911643\n",
              "36               tbp_lv_areaMM2           tbp_lv_perimeterMM     0.915181\n",
              "38      tbp_lv_area_perim_ratio           tbp_lv_norm_border     0.921085\n",
              "40        tbp_lv_color_std_mean            tbp_lv_norm_color     0.964572\n",
              "41        tbp_lv_color_std_mean  tbp_lv_radial_color_std_max     0.904111\n",
              "42        tbp_lv_color_std_mean                  tbp_lv_stdL     0.797516\n",
              "46                tbp_lv_deltaL               tbp_lv_deltaLB    -0.992374\n",
              "47                tbp_lv_deltaL           tbp_lv_deltaLBnorm    -0.885899\n",
              "48                tbp_lv_deltaL                  tbp_lv_stdL    -0.918355\n",
              "49               tbp_lv_deltaLB                tbp_lv_deltaL    -0.992374\n",
              "51               tbp_lv_deltaLB           tbp_lv_deltaLBnorm     0.878991\n",
              "52               tbp_lv_deltaLB                  tbp_lv_stdL     0.911729\n",
              "53           tbp_lv_deltaLBnorm                tbp_lv_deltaL    -0.885899\n",
              "54           tbp_lv_deltaLBnorm               tbp_lv_deltaLB     0.878991\n",
              "56           tbp_lv_deltaLBnorm                  tbp_lv_stdL     0.881563\n",
              "58           tbp_lv_minorAxisMM       clin_size_long_diam_mm     0.858842\n",
              "59           tbp_lv_minorAxisMM               tbp_lv_areaMM2     0.911643\n",
              "61           tbp_lv_minorAxisMM           tbp_lv_perimeterMM     0.920608\n",
              "63           tbp_lv_norm_border      tbp_lv_area_perim_ratio     0.921085\n",
              "65           tbp_lv_norm_border            tbp_lv_symm_2axis     0.924140\n",
              "66            tbp_lv_norm_color        tbp_lv_color_std_mean     0.964572\n",
              "68            tbp_lv_norm_color  tbp_lv_radial_color_std_max     0.958957\n",
              "69            tbp_lv_norm_color                  tbp_lv_stdL     0.757468\n",
              "70           tbp_lv_perimeterMM       clin_size_long_diam_mm     0.965004\n",
              "71           tbp_lv_perimeterMM               tbp_lv_areaMM2     0.915181\n",
              "72           tbp_lv_perimeterMM           tbp_lv_minorAxisMM     0.920608\n",
              "74  tbp_lv_radial_color_std_max        tbp_lv_color_std_mean     0.904111\n",
              "75  tbp_lv_radial_color_std_max            tbp_lv_norm_color     0.958957\n",
              "77                  tbp_lv_stdL        tbp_lv_color_std_mean     0.797516\n",
              "78                  tbp_lv_stdL                tbp_lv_deltaL    -0.918355\n",
              "79                  tbp_lv_stdL               tbp_lv_deltaLB     0.911729\n",
              "80                  tbp_lv_stdL           tbp_lv_deltaLBnorm     0.881563\n",
              "81                  tbp_lv_stdL            tbp_lv_norm_color     0.757468\n",
              "84            tbp_lv_symm_2axis           tbp_lv_norm_border     0.924140"
            ],
            "text/html": [
              "\n",
              "  <div id=\"df-bc3e60b2-e26e-4160-84d5-eff993c2a6a6\" class=\"colab-df-container\">\n",
              "    <div>\n",
              "<style scoped>\n",
              "    .dataframe tbody tr th:only-of-type {\n",
              "        vertical-align: middle;\n",
              "    }\n",
              "\n",
              "    .dataframe tbody tr th {\n",
              "        vertical-align: top;\n",
              "    }\n",
              "\n",
              "    .dataframe thead th {\n",
              "        text-align: right;\n",
              "    }\n",
              "</style>\n",
              "<table border=\"1\" class=\"dataframe\">\n",
              "  <thead>\n",
              "    <tr style=\"text-align: right;\">\n",
              "      <th></th>\n",
              "      <th>Feature 1</th>\n",
              "      <th>Feature 2</th>\n",
              "      <th>Correlation</th>\n",
              "    </tr>\n",
              "  </thead>\n",
              "  <tbody>\n",
              "    <tr>\n",
              "      <th>2</th>\n",
              "      <td>clin_size_long_diam_mm</td>\n",
              "      <td>tbp_lv_areaMM2</td>\n",
              "      <td>0.902768</td>\n",
              "    </tr>\n",
              "    <tr>\n",
              "      <th>3</th>\n",
              "      <td>clin_size_long_diam_mm</td>\n",
              "      <td>tbp_lv_minorAxisMM</td>\n",
              "      <td>0.858842</td>\n",
              "    </tr>\n",
              "    <tr>\n",
              "      <th>4</th>\n",
              "      <td>clin_size_long_diam_mm</td>\n",
              "      <td>tbp_lv_perimeterMM</td>\n",
              "      <td>0.965004</td>\n",
              "    </tr>\n",
              "    <tr>\n",
              "      <th>6</th>\n",
              "      <td>tbp_lv_A</td>\n",
              "      <td>tbp_lv_Aext</td>\n",
              "      <td>0.760407</td>\n",
              "    </tr>\n",
              "    <tr>\n",
              "      <th>7</th>\n",
              "      <td>tbp_lv_Aext</td>\n",
              "      <td>tbp_lv_A</td>\n",
              "      <td>0.760407</td>\n",
              "    </tr>\n",
              "    <tr>\n",
              "      <th>10</th>\n",
              "      <td>tbp_lv_B</td>\n",
              "      <td>tbp_lv_Bext</td>\n",
              "      <td>0.909632</td>\n",
              "    </tr>\n",
              "    <tr>\n",
              "      <th>11</th>\n",
              "      <td>tbp_lv_B</td>\n",
              "      <td>tbp_lv_C</td>\n",
              "      <td>0.920575</td>\n",
              "    </tr>\n",
              "    <tr>\n",
              "      <th>12</th>\n",
              "      <td>tbp_lv_B</td>\n",
              "      <td>tbp_lv_Cext</td>\n",
              "      <td>0.827217</td>\n",
              "    </tr>\n",
              "    <tr>\n",
              "      <th>13</th>\n",
              "      <td>tbp_lv_Bext</td>\n",
              "      <td>tbp_lv_B</td>\n",
              "      <td>0.909632</td>\n",
              "    </tr>\n",
              "    <tr>\n",
              "      <th>15</th>\n",
              "      <td>tbp_lv_Bext</td>\n",
              "      <td>tbp_lv_C</td>\n",
              "      <td>0.885437</td>\n",
              "    </tr>\n",
              "    <tr>\n",
              "      <th>16</th>\n",
              "      <td>tbp_lv_Bext</td>\n",
              "      <td>tbp_lv_Cext</td>\n",
              "      <td>0.939995</td>\n",
              "    </tr>\n",
              "    <tr>\n",
              "      <th>17</th>\n",
              "      <td>tbp_lv_C</td>\n",
              "      <td>tbp_lv_B</td>\n",
              "      <td>0.920575</td>\n",
              "    </tr>\n",
              "    <tr>\n",
              "      <th>18</th>\n",
              "      <td>tbp_lv_C</td>\n",
              "      <td>tbp_lv_Bext</td>\n",
              "      <td>0.885437</td>\n",
              "    </tr>\n",
              "    <tr>\n",
              "      <th>20</th>\n",
              "      <td>tbp_lv_C</td>\n",
              "      <td>tbp_lv_Cext</td>\n",
              "      <td>0.900188</td>\n",
              "    </tr>\n",
              "    <tr>\n",
              "      <th>21</th>\n",
              "      <td>tbp_lv_Cext</td>\n",
              "      <td>tbp_lv_B</td>\n",
              "      <td>0.827217</td>\n",
              "    </tr>\n",
              "    <tr>\n",
              "      <th>22</th>\n",
              "      <td>tbp_lv_Cext</td>\n",
              "      <td>tbp_lv_Bext</td>\n",
              "      <td>0.939995</td>\n",
              "    </tr>\n",
              "    <tr>\n",
              "      <th>23</th>\n",
              "      <td>tbp_lv_Cext</td>\n",
              "      <td>tbp_lv_C</td>\n",
              "      <td>0.900188</td>\n",
              "    </tr>\n",
              "    <tr>\n",
              "      <th>26</th>\n",
              "      <td>tbp_lv_H</td>\n",
              "      <td>tbp_lv_Hext</td>\n",
              "      <td>0.758720</td>\n",
              "    </tr>\n",
              "    <tr>\n",
              "      <th>27</th>\n",
              "      <td>tbp_lv_Hext</td>\n",
              "      <td>tbp_lv_H</td>\n",
              "      <td>0.758720</td>\n",
              "    </tr>\n",
              "    <tr>\n",
              "      <th>30</th>\n",
              "      <td>tbp_lv_L</td>\n",
              "      <td>tbp_lv_Lext</td>\n",
              "      <td>0.960190</td>\n",
              "    </tr>\n",
              "    <tr>\n",
              "      <th>31</th>\n",
              "      <td>tbp_lv_Lext</td>\n",
              "      <td>tbp_lv_L</td>\n",
              "      <td>0.960190</td>\n",
              "    </tr>\n",
              "    <tr>\n",
              "      <th>33</th>\n",
              "      <td>tbp_lv_areaMM2</td>\n",
              "      <td>clin_size_long_diam_mm</td>\n",
              "      <td>0.902768</td>\n",
              "    </tr>\n",
              "    <tr>\n",
              "      <th>35</th>\n",
              "      <td>tbp_lv_areaMM2</td>\n",
              "      <td>tbp_lv_minorAxisMM</td>\n",
              "      <td>0.911643</td>\n",
              "    </tr>\n",
              "    <tr>\n",
              "      <th>36</th>\n",
              "      <td>tbp_lv_areaMM2</td>\n",
              "      <td>tbp_lv_perimeterMM</td>\n",
              "      <td>0.915181</td>\n",
              "    </tr>\n",
              "    <tr>\n",
              "      <th>38</th>\n",
              "      <td>tbp_lv_area_perim_ratio</td>\n",
              "      <td>tbp_lv_norm_border</td>\n",
              "      <td>0.921085</td>\n",
              "    </tr>\n",
              "    <tr>\n",
              "      <th>40</th>\n",
              "      <td>tbp_lv_color_std_mean</td>\n",
              "      <td>tbp_lv_norm_color</td>\n",
              "      <td>0.964572</td>\n",
              "    </tr>\n",
              "    <tr>\n",
              "      <th>41</th>\n",
              "      <td>tbp_lv_color_std_mean</td>\n",
              "      <td>tbp_lv_radial_color_std_max</td>\n",
              "      <td>0.904111</td>\n",
              "    </tr>\n",
              "    <tr>\n",
              "      <th>42</th>\n",
              "      <td>tbp_lv_color_std_mean</td>\n",
              "      <td>tbp_lv_stdL</td>\n",
              "      <td>0.797516</td>\n",
              "    </tr>\n",
              "    <tr>\n",
              "      <th>46</th>\n",
              "      <td>tbp_lv_deltaL</td>\n",
              "      <td>tbp_lv_deltaLB</td>\n",
              "      <td>-0.992374</td>\n",
              "    </tr>\n",
              "    <tr>\n",
              "      <th>47</th>\n",
              "      <td>tbp_lv_deltaL</td>\n",
              "      <td>tbp_lv_deltaLBnorm</td>\n",
              "      <td>-0.885899</td>\n",
              "    </tr>\n",
              "    <tr>\n",
              "      <th>48</th>\n",
              "      <td>tbp_lv_deltaL</td>\n",
              "      <td>tbp_lv_stdL</td>\n",
              "      <td>-0.918355</td>\n",
              "    </tr>\n",
              "    <tr>\n",
              "      <th>49</th>\n",
              "      <td>tbp_lv_deltaLB</td>\n",
              "      <td>tbp_lv_deltaL</td>\n",
              "      <td>-0.992374</td>\n",
              "    </tr>\n",
              "    <tr>\n",
              "      <th>51</th>\n",
              "      <td>tbp_lv_deltaLB</td>\n",
              "      <td>tbp_lv_deltaLBnorm</td>\n",
              "      <td>0.878991</td>\n",
              "    </tr>\n",
              "    <tr>\n",
              "      <th>52</th>\n",
              "      <td>tbp_lv_deltaLB</td>\n",
              "      <td>tbp_lv_stdL</td>\n",
              "      <td>0.911729</td>\n",
              "    </tr>\n",
              "    <tr>\n",
              "      <th>53</th>\n",
              "      <td>tbp_lv_deltaLBnorm</td>\n",
              "      <td>tbp_lv_deltaL</td>\n",
              "      <td>-0.885899</td>\n",
              "    </tr>\n",
              "    <tr>\n",
              "      <th>54</th>\n",
              "      <td>tbp_lv_deltaLBnorm</td>\n",
              "      <td>tbp_lv_deltaLB</td>\n",
              "      <td>0.878991</td>\n",
              "    </tr>\n",
              "    <tr>\n",
              "      <th>56</th>\n",
              "      <td>tbp_lv_deltaLBnorm</td>\n",
              "      <td>tbp_lv_stdL</td>\n",
              "      <td>0.881563</td>\n",
              "    </tr>\n",
              "    <tr>\n",
              "      <th>58</th>\n",
              "      <td>tbp_lv_minorAxisMM</td>\n",
              "      <td>clin_size_long_diam_mm</td>\n",
              "      <td>0.858842</td>\n",
              "    </tr>\n",
              "    <tr>\n",
              "      <th>59</th>\n",
              "      <td>tbp_lv_minorAxisMM</td>\n",
              "      <td>tbp_lv_areaMM2</td>\n",
              "      <td>0.911643</td>\n",
              "    </tr>\n",
              "    <tr>\n",
              "      <th>61</th>\n",
              "      <td>tbp_lv_minorAxisMM</td>\n",
              "      <td>tbp_lv_perimeterMM</td>\n",
              "      <td>0.920608</td>\n",
              "    </tr>\n",
              "    <tr>\n",
              "      <th>63</th>\n",
              "      <td>tbp_lv_norm_border</td>\n",
              "      <td>tbp_lv_area_perim_ratio</td>\n",
              "      <td>0.921085</td>\n",
              "    </tr>\n",
              "    <tr>\n",
              "      <th>65</th>\n",
              "      <td>tbp_lv_norm_border</td>\n",
              "      <td>tbp_lv_symm_2axis</td>\n",
              "      <td>0.924140</td>\n",
              "    </tr>\n",
              "    <tr>\n",
              "      <th>66</th>\n",
              "      <td>tbp_lv_norm_color</td>\n",
              "      <td>tbp_lv_color_std_mean</td>\n",
              "      <td>0.964572</td>\n",
              "    </tr>\n",
              "    <tr>\n",
              "      <th>68</th>\n",
              "      <td>tbp_lv_norm_color</td>\n",
              "      <td>tbp_lv_radial_color_std_max</td>\n",
              "      <td>0.958957</td>\n",
              "    </tr>\n",
              "    <tr>\n",
              "      <th>69</th>\n",
              "      <td>tbp_lv_norm_color</td>\n",
              "      <td>tbp_lv_stdL</td>\n",
              "      <td>0.757468</td>\n",
              "    </tr>\n",
              "    <tr>\n",
              "      <th>70</th>\n",
              "      <td>tbp_lv_perimeterMM</td>\n",
              "      <td>clin_size_long_diam_mm</td>\n",
              "      <td>0.965004</td>\n",
              "    </tr>\n",
              "    <tr>\n",
              "      <th>71</th>\n",
              "      <td>tbp_lv_perimeterMM</td>\n",
              "      <td>tbp_lv_areaMM2</td>\n",
              "      <td>0.915181</td>\n",
              "    </tr>\n",
              "    <tr>\n",
              "      <th>72</th>\n",
              "      <td>tbp_lv_perimeterMM</td>\n",
              "      <td>tbp_lv_minorAxisMM</td>\n",
              "      <td>0.920608</td>\n",
              "    </tr>\n",
              "    <tr>\n",
              "      <th>74</th>\n",
              "      <td>tbp_lv_radial_color_std_max</td>\n",
              "      <td>tbp_lv_color_std_mean</td>\n",
              "      <td>0.904111</td>\n",
              "    </tr>\n",
              "    <tr>\n",
              "      <th>75</th>\n",
              "      <td>tbp_lv_radial_color_std_max</td>\n",
              "      <td>tbp_lv_norm_color</td>\n",
              "      <td>0.958957</td>\n",
              "    </tr>\n",
              "    <tr>\n",
              "      <th>77</th>\n",
              "      <td>tbp_lv_stdL</td>\n",
              "      <td>tbp_lv_color_std_mean</td>\n",
              "      <td>0.797516</td>\n",
              "    </tr>\n",
              "    <tr>\n",
              "      <th>78</th>\n",
              "      <td>tbp_lv_stdL</td>\n",
              "      <td>tbp_lv_deltaL</td>\n",
              "      <td>-0.918355</td>\n",
              "    </tr>\n",
              "    <tr>\n",
              "      <th>79</th>\n",
              "      <td>tbp_lv_stdL</td>\n",
              "      <td>tbp_lv_deltaLB</td>\n",
              "      <td>0.911729</td>\n",
              "    </tr>\n",
              "    <tr>\n",
              "      <th>80</th>\n",
              "      <td>tbp_lv_stdL</td>\n",
              "      <td>tbp_lv_deltaLBnorm</td>\n",
              "      <td>0.881563</td>\n",
              "    </tr>\n",
              "    <tr>\n",
              "      <th>81</th>\n",
              "      <td>tbp_lv_stdL</td>\n",
              "      <td>tbp_lv_norm_color</td>\n",
              "      <td>0.757468</td>\n",
              "    </tr>\n",
              "    <tr>\n",
              "      <th>84</th>\n",
              "      <td>tbp_lv_symm_2axis</td>\n",
              "      <td>tbp_lv_norm_border</td>\n",
              "      <td>0.924140</td>\n",
              "    </tr>\n",
              "  </tbody>\n",
              "</table>\n",
              "</div>\n",
              "    <div class=\"colab-df-buttons\">\n",
              "\n",
              "  <div class=\"colab-df-container\">\n",
              "    <button class=\"colab-df-convert\" onclick=\"convertToInteractive('df-bc3e60b2-e26e-4160-84d5-eff993c2a6a6')\"\n",
              "            title=\"Convert this dataframe to an interactive table.\"\n",
              "            style=\"display:none;\">\n",
              "\n",
              "  <svg xmlns=\"http://www.w3.org/2000/svg\" height=\"24px\" viewBox=\"0 -960 960 960\">\n",
              "    <path d=\"M120-120v-720h720v720H120Zm60-500h600v-160H180v160Zm220 220h160v-160H400v160Zm0 220h160v-160H400v160ZM180-400h160v-160H180v160Zm440 0h160v-160H620v160ZM180-180h160v-160H180v160Zm440 0h160v-160H620v160Z\"/>\n",
              "  </svg>\n",
              "    </button>\n",
              "\n",
              "  <style>\n",
              "    .colab-df-container {\n",
              "      display:flex;\n",
              "      gap: 12px;\n",
              "    }\n",
              "\n",
              "    .colab-df-convert {\n",
              "      background-color: #E8F0FE;\n",
              "      border: none;\n",
              "      border-radius: 50%;\n",
              "      cursor: pointer;\n",
              "      display: none;\n",
              "      fill: #1967D2;\n",
              "      height: 32px;\n",
              "      padding: 0 0 0 0;\n",
              "      width: 32px;\n",
              "    }\n",
              "\n",
              "    .colab-df-convert:hover {\n",
              "      background-color: #E2EBFA;\n",
              "      box-shadow: 0px 1px 2px rgba(60, 64, 67, 0.3), 0px 1px 3px 1px rgba(60, 64, 67, 0.15);\n",
              "      fill: #174EA6;\n",
              "    }\n",
              "\n",
              "    .colab-df-buttons div {\n",
              "      margin-bottom: 4px;\n",
              "    }\n",
              "\n",
              "    [theme=dark] .colab-df-convert {\n",
              "      background-color: #3B4455;\n",
              "      fill: #D2E3FC;\n",
              "    }\n",
              "\n",
              "    [theme=dark] .colab-df-convert:hover {\n",
              "      background-color: #434B5C;\n",
              "      box-shadow: 0px 1px 3px 1px rgba(0, 0, 0, 0.15);\n",
              "      filter: drop-shadow(0px 1px 2px rgba(0, 0, 0, 0.3));\n",
              "      fill: #FFFFFF;\n",
              "    }\n",
              "  </style>\n",
              "\n",
              "    <script>\n",
              "      const buttonEl =\n",
              "        document.querySelector('#df-bc3e60b2-e26e-4160-84d5-eff993c2a6a6 button.colab-df-convert');\n",
              "      buttonEl.style.display =\n",
              "        google.colab.kernel.accessAllowed ? 'block' : 'none';\n",
              "\n",
              "      async function convertToInteractive(key) {\n",
              "        const element = document.querySelector('#df-bc3e60b2-e26e-4160-84d5-eff993c2a6a6');\n",
              "        const dataTable =\n",
              "          await google.colab.kernel.invokeFunction('convertToInteractive',\n",
              "                                                    [key], {});\n",
              "        if (!dataTable) return;\n",
              "\n",
              "        const docLinkHtml = 'Like what you see? Visit the ' +\n",
              "          '<a target=\"_blank\" href=https://colab.research.google.com/notebooks/data_table.ipynb>data table notebook</a>'\n",
              "          + ' to learn more about interactive tables.';\n",
              "        element.innerHTML = '';\n",
              "        dataTable['output_type'] = 'display_data';\n",
              "        await google.colab.output.renderOutput(dataTable, element);\n",
              "        const docLink = document.createElement('div');\n",
              "        docLink.innerHTML = docLinkHtml;\n",
              "        element.appendChild(docLink);\n",
              "      }\n",
              "    </script>\n",
              "  </div>\n",
              "\n",
              "\n",
              "<div id=\"df-a51a843d-baa0-4a32-b107-be195f608cf7\">\n",
              "  <button class=\"colab-df-quickchart\" onclick=\"quickchart('df-a51a843d-baa0-4a32-b107-be195f608cf7')\"\n",
              "            title=\"Suggest charts\"\n",
              "            style=\"display:none;\">\n",
              "\n",
              "<svg xmlns=\"http://www.w3.org/2000/svg\" height=\"24px\"viewBox=\"0 0 24 24\"\n",
              "     width=\"24px\">\n",
              "    <g>\n",
              "        <path d=\"M19 3H5c-1.1 0-2 .9-2 2v14c0 1.1.9 2 2 2h14c1.1 0 2-.9 2-2V5c0-1.1-.9-2-2-2zM9 17H7v-7h2v7zm4 0h-2V7h2v10zm4 0h-2v-4h2v4z\"/>\n",
              "    </g>\n",
              "</svg>\n",
              "  </button>\n",
              "\n",
              "<style>\n",
              "  .colab-df-quickchart {\n",
              "      --bg-color: #E8F0FE;\n",
              "      --fill-color: #1967D2;\n",
              "      --hover-bg-color: #E2EBFA;\n",
              "      --hover-fill-color: #174EA6;\n",
              "      --disabled-fill-color: #AAA;\n",
              "      --disabled-bg-color: #DDD;\n",
              "  }\n",
              "\n",
              "  [theme=dark] .colab-df-quickchart {\n",
              "      --bg-color: #3B4455;\n",
              "      --fill-color: #D2E3FC;\n",
              "      --hover-bg-color: #434B5C;\n",
              "      --hover-fill-color: #FFFFFF;\n",
              "      --disabled-bg-color: #3B4455;\n",
              "      --disabled-fill-color: #666;\n",
              "  }\n",
              "\n",
              "  .colab-df-quickchart {\n",
              "    background-color: var(--bg-color);\n",
              "    border: none;\n",
              "    border-radius: 50%;\n",
              "    cursor: pointer;\n",
              "    display: none;\n",
              "    fill: var(--fill-color);\n",
              "    height: 32px;\n",
              "    padding: 0;\n",
              "    width: 32px;\n",
              "  }\n",
              "\n",
              "  .colab-df-quickchart:hover {\n",
              "    background-color: var(--hover-bg-color);\n",
              "    box-shadow: 0 1px 2px rgba(60, 64, 67, 0.3), 0 1px 3px 1px rgba(60, 64, 67, 0.15);\n",
              "    fill: var(--button-hover-fill-color);\n",
              "  }\n",
              "\n",
              "  .colab-df-quickchart-complete:disabled,\n",
              "  .colab-df-quickchart-complete:disabled:hover {\n",
              "    background-color: var(--disabled-bg-color);\n",
              "    fill: var(--disabled-fill-color);\n",
              "    box-shadow: none;\n",
              "  }\n",
              "\n",
              "  .colab-df-spinner {\n",
              "    border: 2px solid var(--fill-color);\n",
              "    border-color: transparent;\n",
              "    border-bottom-color: var(--fill-color);\n",
              "    animation:\n",
              "      spin 1s steps(1) infinite;\n",
              "  }\n",
              "\n",
              "  @keyframes spin {\n",
              "    0% {\n",
              "      border-color: transparent;\n",
              "      border-bottom-color: var(--fill-color);\n",
              "      border-left-color: var(--fill-color);\n",
              "    }\n",
              "    20% {\n",
              "      border-color: transparent;\n",
              "      border-left-color: var(--fill-color);\n",
              "      border-top-color: var(--fill-color);\n",
              "    }\n",
              "    30% {\n",
              "      border-color: transparent;\n",
              "      border-left-color: var(--fill-color);\n",
              "      border-top-color: var(--fill-color);\n",
              "      border-right-color: var(--fill-color);\n",
              "    }\n",
              "    40% {\n",
              "      border-color: transparent;\n",
              "      border-right-color: var(--fill-color);\n",
              "      border-top-color: var(--fill-color);\n",
              "    }\n",
              "    60% {\n",
              "      border-color: transparent;\n",
              "      border-right-color: var(--fill-color);\n",
              "    }\n",
              "    80% {\n",
              "      border-color: transparent;\n",
              "      border-right-color: var(--fill-color);\n",
              "      border-bottom-color: var(--fill-color);\n",
              "    }\n",
              "    90% {\n",
              "      border-color: transparent;\n",
              "      border-bottom-color: var(--fill-color);\n",
              "    }\n",
              "  }\n",
              "</style>\n",
              "\n",
              "  <script>\n",
              "    async function quickchart(key) {\n",
              "      const quickchartButtonEl =\n",
              "        document.querySelector('#' + key + ' button');\n",
              "      quickchartButtonEl.disabled = true;  // To prevent multiple clicks.\n",
              "      quickchartButtonEl.classList.add('colab-df-spinner');\n",
              "      try {\n",
              "        const charts = await google.colab.kernel.invokeFunction(\n",
              "            'suggestCharts', [key], {});\n",
              "      } catch (error) {\n",
              "        console.error('Error during call to suggestCharts:', error);\n",
              "      }\n",
              "      quickchartButtonEl.classList.remove('colab-df-spinner');\n",
              "      quickchartButtonEl.classList.add('colab-df-quickchart-complete');\n",
              "    }\n",
              "    (() => {\n",
              "      let quickchartButtonEl =\n",
              "        document.querySelector('#df-a51a843d-baa0-4a32-b107-be195f608cf7 button');\n",
              "      quickchartButtonEl.style.display =\n",
              "        google.colab.kernel.accessAllowed ? 'block' : 'none';\n",
              "    })();\n",
              "  </script>\n",
              "</div>\n",
              "\n",
              "  <div id=\"id_065e0d2b-cb26-49a4-bbc3-56b8991243e1\">\n",
              "    <style>\n",
              "      .colab-df-generate {\n",
              "        background-color: #E8F0FE;\n",
              "        border: none;\n",
              "        border-radius: 50%;\n",
              "        cursor: pointer;\n",
              "        display: none;\n",
              "        fill: #1967D2;\n",
              "        height: 32px;\n",
              "        padding: 0 0 0 0;\n",
              "        width: 32px;\n",
              "      }\n",
              "\n",
              "      .colab-df-generate:hover {\n",
              "        background-color: #E2EBFA;\n",
              "        box-shadow: 0px 1px 2px rgba(60, 64, 67, 0.3), 0px 1px 3px 1px rgba(60, 64, 67, 0.15);\n",
              "        fill: #174EA6;\n",
              "      }\n",
              "\n",
              "      [theme=dark] .colab-df-generate {\n",
              "        background-color: #3B4455;\n",
              "        fill: #D2E3FC;\n",
              "      }\n",
              "\n",
              "      [theme=dark] .colab-df-generate:hover {\n",
              "        background-color: #434B5C;\n",
              "        box-shadow: 0px 1px 3px 1px rgba(0, 0, 0, 0.15);\n",
              "        filter: drop-shadow(0px 1px 2px rgba(0, 0, 0, 0.3));\n",
              "        fill: #FFFFFF;\n",
              "      }\n",
              "    </style>\n",
              "    <button class=\"colab-df-generate\" onclick=\"generateWithVariable('high_corr')\"\n",
              "            title=\"Generate code using this dataframe.\"\n",
              "            style=\"display:none;\">\n",
              "\n",
              "  <svg xmlns=\"http://www.w3.org/2000/svg\" height=\"24px\"viewBox=\"0 0 24 24\"\n",
              "       width=\"24px\">\n",
              "    <path d=\"M7,19H8.4L18.45,9,17,7.55,7,17.6ZM5,21V16.75L18.45,3.32a2,2,0,0,1,2.83,0l1.4,1.43a1.91,1.91,0,0,1,.58,1.4,1.91,1.91,0,0,1-.58,1.4L9.25,21ZM18.45,9,17,7.55Zm-12,3A5.31,5.31,0,0,0,4.9,8.1,5.31,5.31,0,0,0,1,6.5,5.31,5.31,0,0,0,4.9,4.9,5.31,5.31,0,0,0,6.5,1,5.31,5.31,0,0,0,8.1,4.9,5.31,5.31,0,0,0,12,6.5,5.46,5.46,0,0,0,6.5,12Z\"/>\n",
              "  </svg>\n",
              "    </button>\n",
              "    <script>\n",
              "      (() => {\n",
              "      const buttonEl =\n",
              "        document.querySelector('#id_065e0d2b-cb26-49a4-bbc3-56b8991243e1 button.colab-df-generate');\n",
              "      buttonEl.style.display =\n",
              "        google.colab.kernel.accessAllowed ? 'block' : 'none';\n",
              "\n",
              "      buttonEl.onclick = () => {\n",
              "        google.colab.notebook.generateWithVariable('high_corr');\n",
              "      }\n",
              "      })();\n",
              "    </script>\n",
              "  </div>\n",
              "\n",
              "    </div>\n",
              "  </div>\n"
            ],
            "application/vnd.google.colaboratory.intrinsic+json": {
              "type": "dataframe",
              "variable_name": "high_corr",
              "summary": "{\n  \"name\": \"high_corr\",\n  \"rows\": 56,\n  \"fields\": [\n    {\n      \"column\": \"Feature 1\",\n      \"properties\": {\n        \"dtype\": \"category\",\n        \"num_unique_values\": 24,\n        \"samples\": [\n          \"tbp_lv_Hext\",\n          \"tbp_lv_deltaLBnorm\",\n          \"clin_size_long_diam_mm\"\n        ],\n        \"semantic_type\": \"\",\n        \"description\": \"\"\n      }\n    },\n    {\n      \"column\": \"Feature 2\",\n      \"properties\": {\n        \"dtype\": \"category\",\n        \"num_unique_values\": 24,\n        \"samples\": [\n          \"tbp_lv_B\",\n          \"tbp_lv_radial_color_std_max\",\n          \"tbp_lv_areaMM2\"\n        ],\n        \"semantic_type\": \"\",\n        \"description\": \"\"\n      }\n    },\n    {\n      \"column\": \"Correlation\",\n      \"properties\": {\n        \"dtype\": \"number\",\n        \"std\": 0.5717538713917172,\n        \"min\": -0.9923739422356549,\n        \"max\": 0.9650038846403153,\n        \"num_unique_values\": 28,\n        \"samples\": [\n          0.9001881134037027,\n          0.9241399928844327,\n          0.9399953841879806\n        ],\n        \"semantic_type\": \"\",\n        \"description\": \"\"\n      }\n    }\n  ]\n}"
            }
          },
          "metadata": {},
          "execution_count": 40
        }
      ]
    },
    {
      "source": [
        "plt.figure(figsize=(12, 6))\n",
        "sns.countplot(x='target', data=train_data)\n",
        "plt.xlabel('target')\n",
        "plt.ylabel('Number of Images')\n",
        "plt.xticks(rotation=90)\n",
        "plt.show()"
      ],
      "cell_type": "code",
      "metadata": {
        "colab": {
          "base_uri": "https://localhost:8080/",
          "height": 537
        },
        "id": "ahx-jCPUvYBQ",
        "outputId": "af471d34-2f03-4b11-b715-0db630b17446"
      },
      "execution_count": null,
      "outputs": [
        {
          "output_type": "display_data",
          "data": {
            "text/plain": [
              "<Figure size 1200x600 with 1 Axes>"
            ],
            "image/png": "[encoded data removed]"
          },
          "metadata": {}
        }
      ]
    },
    {
      "cell_type": "markdown",
      "source": [
        "# The score function"
      ],
      "metadata": {
        "id": "G79fi1lsDSfw"
      }
    },
    {
      "cell_type": "code",
      "source": [
        "import pandas.api.types\n",
        "from sklearn.metrics import roc_curve, auc, roc_auc_score\n",
        "\n",
        "class ParticipantVisibleError(Exception):\n",
        "    pass\n",
        "\n",
        "\n",
        "def score(solution: pd.DataFrame, submission: pd.DataFrame, row_id_column_name: str, min_tpr: float=0.80) -> float:\n",
        "    '''\n",
        "    2024 ISIC Challenge metric: pAUC\n",
        "\n",
        "    Given a solution file and submission file, this function returns the\n",
        "    the partial area under the receiver operating characteristic (pAUC)\n",
        "    above a given true positive rate (TPR) = 0.80.\n",
        "    https://en.wikipedia.org/wiki/Partial_Area_Under_the_ROC_Curve.\n",
        "\n",
        "    (c) 2024 Nicholas R Kurtansky, MSKCC\n",
        "\n",
        "    Args:\n",
        "        solution: ground truth pd.DataFrame of 1s and 0s\n",
        "        submission: solution dataframe of predictions of scores ranging [0, 1]\n",
        "\n",
        "    Returns:\n",
        "        Float value range [0, max_fpr]\n",
        "    '''\n",
        "\n",
        "    # del solution[row_id_column_name]\n",
        "    # del submission[row_id_column_name]\n",
        "\n",
        "    # check submission is numeric\n",
        "    if not pandas.api.types.is_numeric_dtype(submission.values):\n",
        "        raise ParticipantVisibleError('Submission target column must be numeric')\n",
        "\n",
        "    # rescale the target. set 0s to 1s and 1s to 0s (since sklearn only has max_fpr)\n",
        "    v_gt = abs(np.asarray(solution.values)-1)\n",
        "\n",
        "    # flip the submissions to their compliments\n",
        "    v_pred = -1.0*np.asarray(submission.values)\n",
        "\n",
        "    max_fpr = abs(1-min_tpr)\n",
        "\n",
        "    # using sklearn.metric functions: (1) roc_curve and (2) auc\n",
        "    fpr, tpr, _ = roc_curve(v_gt, v_pred, sample_weight=None)\n",
        "    if max_fpr is None or max_fpr == 1:\n",
        "        return auc(fpr, tpr)\n",
        "    if max_fpr <= 0 or max_fpr > 1:\n",
        "        raise ValueError(\"Expected min_tpr in range [0, 1), got: %r\" % min_tpr)\n",
        "\n",
        "    # Add a single point at max_fpr by linear interpolation\n",
        "    stop = np.searchsorted(fpr, max_fpr, \"right\")\n",
        "    x_interp = [fpr[stop - 1], fpr[stop]]\n",
        "    y_interp = [tpr[stop - 1], tpr[stop]]\n",
        "    tpr = np.append(tpr[:stop], np.interp(max_fpr, x_interp, y_interp))\n",
        "    fpr = np.append(fpr[:stop], max_fpr)\n",
        "    partial_auc = auc(fpr, tpr)\n",
        "\n",
        "#     # Equivalent code that uses sklearn's roc_auc_score\n",
        "#     v_gt = abs(np.asarray(solution.values)-1)\n",
        "#     v_pred = np.array([1.0 - x for x in submission.values])\n",
        "#     max_fpr = abs(1-min_tpr)\n",
        "#     partial_auc_scaled = roc_auc_score(v_gt, v_pred, max_fpr=max_fpr)\n",
        "#     # change scale from [0.5, 1.0] to [0.5 * max_fpr**2, max_fpr]\n",
        "#     # https://math.stackexchange.com/questions/914823/shift-numbers-into-a-different-range\n",
        "#     partial_auc = 0.5 * max_fpr**2 + (max_fpr - 0.5 * max_fpr**2) / (1.0 - 0.5) * (partial_auc_scaled - 0.5)\n",
        "\n",
        "    return(partial_auc)"
      ],
      "metadata": {
        "id": "z2SK0dcu-zyW"
      },
      "execution_count": null,
      "outputs": []
    },
    {
      "cell_type": "markdown",
      "source": [
        "# Split the training set into training and validation set"
      ],
      "metadata": {
        "id": "uv6oRy5dBS3_"
      }
    },
    {
      "cell_type": "code",
      "source": [
        "from imblearn.over_sampling import SMOTE\n",
        "from sklearn.ensemble import ExtraTreesClassifier, RandomForestClassifier\n",
        "from sklearn.model_selection import cross_val_score, train_test_split\n",
        "from sklearn.decomposition import PCA\n",
        "from imblearn.over_sampling import ADASYN\n",
        "X_train_data_partial, X_val, y_train_partial, y_val = train_test_split(X_train_data, y_train, test_size=0.2, stratify=y_train)"
      ],
      "metadata": {
        "id": "yeefLjZaBSOD"
      },
      "execution_count": null,
      "outputs": []
    },
    {
      "cell_type": "markdown",
      "source": [
        "# This part we will try several naive models"
      ],
      "metadata": {
        "id": "cEaXU61VBvg0"
      }
    },
    {
      "cell_type": "code",
      "source": [
        "n_est = 100\n",
        "model1 = ExtraTreesClassifier(n_estimators=n_est)\n",
        "model2 = RandomForestClassifier(n_estimators=n_est)"
      ],
      "metadata": {
        "id": "DJAptP2_UAH8"
      },
      "execution_count": null,
      "outputs": []
    },
    {
      "cell_type": "code",
      "source": [
        "model1.fit(X_train_data_partial, y_train_partial)\n",
        "model2.fit(X_train_data_partial, y_train_partial)"
      ],
      "metadata": {
        "id": "uwLPZ814St5J"
      },
      "execution_count": null,
      "outputs": []
    },
    {
      "cell_type": "code",
      "source": [
        "cross_val_score(model1, X_train_data, y_train, cv=4)"
      ],
      "metadata": {
        "id": "22mjkqff3XE4",
        "colab": {
          "base_uri": "https://localhost:8080/"
        },
        "outputId": "b36a0a13-81b3-4a87-880c-08162ca56a2e"
      },
      "execution_count": null,
      "outputs": [
        {
          "output_type": "execute_result",
          "data": {
            "text/plain": [
              "array([0.99902259, 0.99902259, 0.99901262, 0.99902258])"
            ]
          },
          "metadata": {},
          "execution_count": 35
        }
      ]
    },
    {
      "cell_type": "code",
      "source": [
        "predictions1 = model1.predict_proba(X_val)[:,1]\n",
        "predictions2 = model2.predict_proba(X_val)[:,1]"
      ],
      "metadata": {
        "id": "5XMnTWhNBUze"
      },
      "execution_count": null,
      "outputs": []
    },
    {
      "cell_type": "code",
      "source": [
        "# No need to run this cell, it should be in kaggle notebook\n",
        "submission = pd.DataFrame(\n",
        "    {'isic_id': X_test['isic_id'], 'target': predictions},\n",
        "    columns = ['isic_id', 'target'])\n",
        "submission.to_csv('submission.csv', index = False)"
      ],
      "metadata": {
        "id": "31vUg-u00ID5"
      },
      "execution_count": null,
      "outputs": []
    },
    {
      "cell_type": "code",
      "source": [
        "score(pd.DataFrame(y_val), pd.DataFrame(predictions1),'isic_id')"
      ],
      "metadata": {
        "id": "AZcEQGOKB0LS",
        "colab": {
          "base_uri": "https://localhost:8080/"
        },
        "outputId": "7e30a9d4-48f9-475b-836e-a058e02c2d9b"
      },
      "execution_count": null,
      "outputs": [
        {
          "output_type": "execute_result",
          "data": {
            "text/plain": [
              "0.05309143192299942"
            ]
          },
          "metadata": {},
          "execution_count": 33
        }
      ]
    },
    {
      "cell_type": "code",
      "source": [
        "score(pd.DataFrame(y_val), pd.DataFrame(predictions2),'isic_id')"
      ],
      "metadata": {
        "colab": {
          "base_uri": "https://localhost:8080/"
        },
        "id": "9W5zF_G8OSkF",
        "outputId": "959517f9-97c7-47a3-c511-c801e9733da5"
      },
      "execution_count": null,
      "outputs": [
        {
          "output_type": "execute_result",
          "data": {
            "text/plain": [
              "0.04979912562032286"
            ]
          },
          "metadata": {},
          "execution_count": 34
        }
      ]
    },
    {
      "cell_type": "code",
      "source": [
        "# Extra Tree with SMOTE\n",
        "model3 = ExtraTreesClassifier(n_estimators=n_est)\n",
        "X_resampled, y_resampled = SMOTE().fit_resample(X_train_data_partial, y_train_partial)\n",
        "model3.fit(X_resampled, y_resampled)\n",
        "predictions3 = model3.predict_proba(X_val)[:,1]\n",
        "score(pd.DataFrame(y_val), pd.DataFrame(predictions3),'isic_id')"
      ],
      "metadata": {
        "colab": {
          "base_uri": "https://localhost:8080/"
        },
        "id": "Zgv9YQkaUnFz",
        "outputId": "55aaf27d-d2c3-4ec4-92ed-907791eba1c5"
      },
      "execution_count": null,
      "outputs": [
        {
          "output_type": "execute_result",
          "data": {
            "text/plain": [
              "0.10811166498986571"
            ]
          },
          "metadata": {},
          "execution_count": 37
        }
      ]
    },
    {
      "cell_type": "code",
      "source": [
        "len(list(X_train_data_partial.columns))"
      ],
      "metadata": {
        "colab": {
          "base_uri": "https://localhost:8080/"
        },
        "id": "vnF8To50Z8VL",
        "outputId": "01034a4e-f718-4a5f-95d1-437ffe3bd6fc"
      },
      "execution_count": null,
      "outputs": [
        {
          "output_type": "execute_result",
          "data": {
            "text/plain": [
              "74"
            ]
          },
          "metadata": {},
          "execution_count": 42
        }
      ]
    },
    {
      "cell_type": "code",
      "source": [
        "# PCA processed data for later useage\n",
        "pca = PCA(n_components=37)\n",
        "X_pca_train = pca.fit_transform(X_train_data_partial)\n",
        "X_pca_val = pca.transform(X_val)"
      ],
      "metadata": {
        "id": "Lj3MyuKvlN0V"
      },
      "execution_count": null,
      "outputs": []
    },
    {
      "cell_type": "code",
      "source": [
        "# Extra Tree with SMOTE and PCA\n",
        "model4 = ExtraTreesClassifier(n_estimators=n_est)\n",
        "X_resampled_pca, y_resampled_pca = SMOTE().fit_resample(X_pca_train, y_train_partial)\n",
        "model4.fit(X_resampled_pca, y_resampled_pca)\n",
        "predictions4 = model4.predict_proba(X_pca_val)[:,1]\n",
        "score(pd.DataFrame(y_val), pd.DataFrame(predictions4),'isic_id')"
      ],
      "metadata": {
        "colab": {
          "base_uri": "https://localhost:8080/"
        },
        "id": "2wlqkvbOZZlz",
        "outputId": "ca09a605-d62a-48c3-e1f3-6acc9ef1b1ba"
      },
      "execution_count": null,
      "outputs": [
        {
          "output_type": "execute_result",
          "data": {
            "text/plain": [
              "0.1224523832121043"
            ]
          },
          "metadata": {},
          "execution_count": 48
        }
      ]
    },
    {
      "cell_type": "code",
      "source": [
        "# ADASYN resampled data for later useage\n",
        "X_clresampled_pca, y_clresampled_pca = ADASYN().fit_resample(X_pca_train, y_train_partial)"
      ],
      "metadata": {
        "id": "q9e_A6mJpTCh"
      },
      "execution_count": null,
      "outputs": []
    },
    {
      "cell_type": "code",
      "source": [
        "# Extra Tree with ADASYN and PCA\n",
        "model5 = ExtraTreesClassifier(n_estimators=n_est)\n",
        "model5.fit(X_clresampled_pca, y_clresampled_pca)\n",
        "predictions5 = model5.predict_proba(X_pca_val)[:,1]\n",
        "score(pd.DataFrame(y_val), pd.DataFrame(predictions5),'isic_id')"
      ],
      "metadata": {
        "colab": {
          "base_uri": "https://localhost:8080/"
        },
        "id": "oioT_KsLZZdV",
        "outputId": "bd05b40a-4167-4af2-b933-13070f249520"
      },
      "execution_count": null,
      "outputs": [
        {
          "output_type": "execute_result",
          "data": {
            "text/plain": [
              "0.14671707653115298"
            ]
          },
          "metadata": {},
          "execution_count": 53
        }
      ]
    },
    {
      "cell_type": "markdown",
      "source": [
        "# Since ADASYN + PCA gives the best score so far, let's find out how many components is best."
      ],
      "metadata": {
        "id": "re5tLI189LSV"
      }
    },
    {
      "cell_type": "code",
      "source": [
        "n_comp = [i for i in range(35,55)]\n",
        "for n in n_comp:\n",
        "  pca = PCA(n_components=n)\n",
        "  X_pca_train = pca.fit_transform(X_train_data_partial)\n",
        "  X_pca_val = pca.transform(X_val)\n",
        "  X_clresampled_pca, y_clresampled_pca = ADASYN().fit_resample(X_pca_train, y_train_partial)\n",
        "  model5 = ExtraTreesClassifier()\n",
        "  model5.fit(X_clresampled_pca, y_clresampled_pca)\n",
        "  predictions5 = model5.predict_proba(X_pca_val)[:,1]\n",
        "  print(f'n_components: {n}, score: {score(pd.DataFrame(y_val), pd.DataFrame(predictions5),\"isic_id\")}')"
      ],
      "metadata": {
        "colab": {
          "base_uri": "https://localhost:8080/",
          "height": 579
        },
        "id": "Tlf1mXBM9kV2",
        "outputId": "c13f4d54-966a-4422-df19-6dcfc29c8b28"
      },
      "execution_count": null,
      "outputs": [
        {
          "output_type": "stream",
          "name": "stdout",
          "text": [
            "n_components: 35, score: 0.11204880295189171\n",
            "n_components: 36, score: 0.12945764285320496\n",
            "n_components: 37, score: 0.11765449539297035\n",
            "n_components: 38, score: 0.11328425037678654\n",
            "n_components: 39, score: 0.12408459859534153\n",
            "n_components: 40, score: 0.1253446907526083\n",
            "n_components: 41, score: 0.13886898221580035\n",
            "n_components: 42, score: 0.11522728360533291\n",
            "n_components: 43, score: 0.13044791409808615\n",
            "n_components: 44, score: 0.11078506174764337\n",
            "n_components: 45, score: 0.12345874350980099\n",
            "n_components: 46, score: 0.11593403498329592\n"
          ]
        },
        {
          "output_type": "error",
          "ename": "KeyboardInterrupt",
          "evalue": "",
          "traceback": [
            "\u001b[0;31m---------------------------------------------------------------------------\u001b[0m",
            "\u001b[0;31mKeyboardInterrupt\u001b[0m                         Traceback (most recent call last)",
            "\u001b[0;32m<ipython-input-23-12cb3c64f863>\u001b[0m in \u001b[0;36m<cell line: 2>\u001b[0;34m()\u001b[0m\n\u001b[1;32m      6\u001b[0m   \u001b[0mX_clresampled_pca\u001b[0m\u001b[0;34m,\u001b[0m \u001b[0my_clresampled_pca\u001b[0m \u001b[0;34m=\u001b[0m \u001b[0mADASYN\u001b[0m\u001b[0;34m(\u001b[0m\u001b[0;34m)\u001b[0m\u001b[0;34m.\u001b[0m\u001b[0mfit_resample\u001b[0m\u001b[0;34m(\u001b[0m\u001b[0mX_pca_train\u001b[0m\u001b[0;34m,\u001b[0m \u001b[0my_train_partial\u001b[0m\u001b[0;34m)\u001b[0m\u001b[0;34m\u001b[0m\u001b[0;34m\u001b[0m\u001b[0m\n\u001b[1;32m      7\u001b[0m   \u001b[0mmodel5\u001b[0m \u001b[0;34m=\u001b[0m \u001b[0mExtraTreesClassifier\u001b[0m\u001b[0;34m(\u001b[0m\u001b[0;34m)\u001b[0m\u001b[0;34m\u001b[0m\u001b[0;34m\u001b[0m\u001b[0m\n\u001b[0;32m----> 8\u001b[0;31m   \u001b[0mmodel5\u001b[0m\u001b[0;34m.\u001b[0m\u001b[0mfit\u001b[0m\u001b[0;34m(\u001b[0m\u001b[0mX_clresampled_pca\u001b[0m\u001b[0;34m,\u001b[0m \u001b[0my_clresampled_pca\u001b[0m\u001b[0;34m)\u001b[0m\u001b[0;34m\u001b[0m\u001b[0;34m\u001b[0m\u001b[0m\n\u001b[0m\u001b[1;32m      9\u001b[0m   \u001b[0mpredictions5\u001b[0m \u001b[0;34m=\u001b[0m \u001b[0mmodel5\u001b[0m\u001b[0;34m.\u001b[0m\u001b[0mpredict_proba\u001b[0m\u001b[0;34m(\u001b[0m\u001b[0mX_pca_val\u001b[0m\u001b[0;34m)\u001b[0m\u001b[0;34m[\u001b[0m\u001b[0;34m:\u001b[0m\u001b[0;34m,\u001b[0m\u001b[0;36m1\u001b[0m\u001b[0;34m]\u001b[0m\u001b[0;34m\u001b[0m\u001b[0;34m\u001b[0m\u001b[0m\n\u001b[1;32m     10\u001b[0m   \u001b[0mprint\u001b[0m\u001b[0;34m(\u001b[0m\u001b[0;34mf'n_components: {n}, score: {score(pd.DataFrame(y_val), pd.DataFrame(predictions5),\"isic_id\")}'\u001b[0m\u001b[0;34m)\u001b[0m\u001b[0;34m\u001b[0m\u001b[0;34m\u001b[0m\u001b[0m\n",
            "\u001b[0;32m/usr/local/lib/python3.10/dist-packages/sklearn/base.py\u001b[0m in \u001b[0;36mwrapper\u001b[0;34m(estimator, *args, **kwargs)\u001b[0m\n\u001b[1;32m   1471\u001b[0m                 )\n\u001b[1;32m   1472\u001b[0m             ):\n\u001b[0;32m-> 1473\u001b[0;31m                 \u001b[0;32mreturn\u001b[0m \u001b[0mfit_method\u001b[0m\u001b[0;34m(\u001b[0m\u001b[0mestimator\u001b[0m\u001b[0;34m,\u001b[0m \u001b[0;34m*\u001b[0m\u001b[0margs\u001b[0m\u001b[0;34m,\u001b[0m \u001b[0;34m**\u001b[0m\u001b[0mkwargs\u001b[0m\u001b[0;34m)\u001b[0m\u001b[0;34m\u001b[0m\u001b[0;34m\u001b[0m\u001b[0m\n\u001b[0m\u001b[1;32m   1474\u001b[0m \u001b[0;34m\u001b[0m\u001b[0m\n\u001b[1;32m   1475\u001b[0m         \u001b[0;32mreturn\u001b[0m \u001b[0mwrapper\u001b[0m\u001b[0;34m\u001b[0m\u001b[0;34m\u001b[0m\u001b[0m\n",
            "\u001b[0;32m/usr/local/lib/python3.10/dist-packages/sklearn/ensemble/_forest.py\u001b[0m in \u001b[0;36mfit\u001b[0;34m(self, X, y, sample_weight)\u001b[0m\n\u001b[1;32m    487\u001b[0m             \u001b[0;31m# parallel_backend contexts set at a higher level,\u001b[0m\u001b[0;34m\u001b[0m\u001b[0;34m\u001b[0m\u001b[0m\n\u001b[1;32m    488\u001b[0m             \u001b[0;31m# since correctness does not rely on using threads.\u001b[0m\u001b[0;34m\u001b[0m\u001b[0;34m\u001b[0m\u001b[0m\n\u001b[0;32m--> 489\u001b[0;31m             trees = Parallel(\n\u001b[0m\u001b[1;32m    490\u001b[0m                 \u001b[0mn_jobs\u001b[0m\u001b[0;34m=\u001b[0m\u001b[0mself\u001b[0m\u001b[0;34m.\u001b[0m\u001b[0mn_jobs\u001b[0m\u001b[0;34m,\u001b[0m\u001b[0;34m\u001b[0m\u001b[0;34m\u001b[0m\u001b[0m\n\u001b[1;32m    491\u001b[0m                 \u001b[0mverbose\u001b[0m\u001b[0;34m=\u001b[0m\u001b[0mself\u001b[0m\u001b[0;34m.\u001b[0m\u001b[0mverbose\u001b[0m\u001b[0;34m,\u001b[0m\u001b[0;34m\u001b[0m\u001b[0;34m\u001b[0m\u001b[0m\n",
            "\u001b[0;32m/usr/local/lib/python3.10/dist-packages/sklearn/utils/parallel.py\u001b[0m in \u001b[0;36m__call__\u001b[0;34m(self, iterable)\u001b[0m\n\u001b[1;32m     72\u001b[0m             \u001b[0;32mfor\u001b[0m \u001b[0mdelayed_func\u001b[0m\u001b[0;34m,\u001b[0m \u001b[0margs\u001b[0m\u001b[0;34m,\u001b[0m \u001b[0mkwargs\u001b[0m \u001b[0;32min\u001b[0m \u001b[0miterable\u001b[0m\u001b[0;34m\u001b[0m\u001b[0;34m\u001b[0m\u001b[0m\n\u001b[1;32m     73\u001b[0m         )\n\u001b[0;32m---> 74\u001b[0;31m         \u001b[0;32mreturn\u001b[0m \u001b[0msuper\u001b[0m\u001b[0;34m(\u001b[0m\u001b[0;34m)\u001b[0m\u001b[0;34m.\u001b[0m\u001b[0m__call__\u001b[0m\u001b[0;34m(\u001b[0m\u001b[0miterable_with_config\u001b[0m\u001b[0;34m)\u001b[0m\u001b[0;34m\u001b[0m\u001b[0;34m\u001b[0m\u001b[0m\n\u001b[0m\u001b[1;32m     75\u001b[0m \u001b[0;34m\u001b[0m\u001b[0m\n\u001b[1;32m     76\u001b[0m \u001b[0;34m\u001b[0m\u001b[0m\n",
            "\u001b[0;32m/usr/local/lib/python3.10/dist-packages/joblib/parallel.py\u001b[0m in \u001b[0;36m__call__\u001b[0;34m(self, iterable)\u001b[0m\n\u001b[1;32m   1916\u001b[0m             \u001b[0moutput\u001b[0m \u001b[0;34m=\u001b[0m \u001b[0mself\u001b[0m\u001b[0;34m.\u001b[0m\u001b[0m_get_sequential_output\u001b[0m\u001b[0;34m(\u001b[0m\u001b[0miterable\u001b[0m\u001b[0;34m)\u001b[0m\u001b[0;34m\u001b[0m\u001b[0;34m\u001b[0m\u001b[0m\n\u001b[1;32m   1917\u001b[0m             \u001b[0mnext\u001b[0m\u001b[0;34m(\u001b[0m\u001b[0moutput\u001b[0m\u001b[0;34m)\u001b[0m\u001b[0;34m\u001b[0m\u001b[0;34m\u001b[0m\u001b[0m\n\u001b[0;32m-> 1918\u001b[0;31m             \u001b[0;32mreturn\u001b[0m \u001b[0moutput\u001b[0m \u001b[0;32mif\u001b[0m \u001b[0mself\u001b[0m\u001b[0;34m.\u001b[0m\u001b[0mreturn_generator\u001b[0m \u001b[0;32melse\u001b[0m \u001b[0mlist\u001b[0m\u001b[0;34m(\u001b[0m\u001b[0moutput\u001b[0m\u001b[0;34m)\u001b[0m\u001b[0;34m\u001b[0m\u001b[0;34m\u001b[0m\u001b[0m\n\u001b[0m\u001b[1;32m   1919\u001b[0m \u001b[0;34m\u001b[0m\u001b[0m\n\u001b[1;32m   1920\u001b[0m         \u001b[0;31m# Let's create an ID that uniquely identifies the current call. If the\u001b[0m\u001b[0;34m\u001b[0m\u001b[0;34m\u001b[0m\u001b[0m\n",
            "\u001b[0;32m/usr/local/lib/python3.10/dist-packages/joblib/parallel.py\u001b[0m in \u001b[0;36m_get_sequential_output\u001b[0;34m(self, iterable)\u001b[0m\n\u001b[1;32m   1845\u001b[0m                 \u001b[0mself\u001b[0m\u001b[0;34m.\u001b[0m\u001b[0mn_dispatched_batches\u001b[0m \u001b[0;34m+=\u001b[0m \u001b[0;36m1\u001b[0m\u001b[0;34m\u001b[0m\u001b[0;34m\u001b[0m\u001b[0m\n\u001b[1;32m   1846\u001b[0m                 \u001b[0mself\u001b[0m\u001b[0;34m.\u001b[0m\u001b[0mn_dispatched_tasks\u001b[0m \u001b[0;34m+=\u001b[0m \u001b[0;36m1\u001b[0m\u001b[0;34m\u001b[0m\u001b[0;34m\u001b[0m\u001b[0m\n\u001b[0;32m-> 1847\u001b[0;31m                 \u001b[0mres\u001b[0m \u001b[0;34m=\u001b[0m \u001b[0mfunc\u001b[0m\u001b[0;34m(\u001b[0m\u001b[0;34m*\u001b[0m\u001b[0margs\u001b[0m\u001b[0;34m,\u001b[0m \u001b[0;34m**\u001b[0m\u001b[0mkwargs\u001b[0m\u001b[0;34m)\u001b[0m\u001b[0;34m\u001b[0m\u001b[0;34m\u001b[0m\u001b[0m\n\u001b[0m\u001b[1;32m   1848\u001b[0m                 \u001b[0mself\u001b[0m\u001b[0;34m.\u001b[0m\u001b[0mn_completed_tasks\u001b[0m \u001b[0;34m+=\u001b[0m \u001b[0;36m1\u001b[0m\u001b[0;34m\u001b[0m\u001b[0;34m\u001b[0m\u001b[0m\n\u001b[1;32m   1849\u001b[0m                 \u001b[0mself\u001b[0m\u001b[0;34m.\u001b[0m\u001b[0mprint_progress\u001b[0m\u001b[0;34m(\u001b[0m\u001b[0;34m)\u001b[0m\u001b[0;34m\u001b[0m\u001b[0;34m\u001b[0m\u001b[0m\n",
            "\u001b[0;32m/usr/local/lib/python3.10/dist-packages/sklearn/utils/parallel.py\u001b[0m in \u001b[0;36m__call__\u001b[0;34m(self, *args, **kwargs)\u001b[0m\n\u001b[1;32m    134\u001b[0m             \u001b[0mconfig\u001b[0m \u001b[0;34m=\u001b[0m \u001b[0;34m{\u001b[0m\u001b[0;34m}\u001b[0m\u001b[0;34m\u001b[0m\u001b[0;34m\u001b[0m\u001b[0m\n\u001b[1;32m    135\u001b[0m         \u001b[0;32mwith\u001b[0m \u001b[0mconfig_context\u001b[0m\u001b[0;34m(\u001b[0m\u001b[0;34m**\u001b[0m\u001b[0mconfig\u001b[0m\u001b[0;34m)\u001b[0m\u001b[0;34m:\u001b[0m\u001b[0;34m\u001b[0m\u001b[0;34m\u001b[0m\u001b[0m\n\u001b[0;32m--> 136\u001b[0;31m             \u001b[0;32mreturn\u001b[0m \u001b[0mself\u001b[0m\u001b[0;34m.\u001b[0m\u001b[0mfunction\u001b[0m\u001b[0;34m(\u001b[0m\u001b[0;34m*\u001b[0m\u001b[0margs\u001b[0m\u001b[0;34m,\u001b[0m \u001b[0;34m**\u001b[0m\u001b[0mkwargs\u001b[0m\u001b[0;34m)\u001b[0m\u001b[0;34m\u001b[0m\u001b[0;34m\u001b[0m\u001b[0m\n\u001b[0m\u001b[1;32m    137\u001b[0m \u001b[0;34m\u001b[0m\u001b[0m\n\u001b[1;32m    138\u001b[0m \u001b[0;34m\u001b[0m\u001b[0m\n",
            "\u001b[0;32m/usr/local/lib/python3.10/dist-packages/sklearn/ensemble/_forest.py\u001b[0m in \u001b[0;36m_parallel_build_trees\u001b[0;34m(tree, bootstrap, X, y, sample_weight, tree_idx, n_trees, verbose, class_weight, n_samples_bootstrap, missing_values_in_feature_mask)\u001b[0m\n\u001b[1;32m    198\u001b[0m         )\n\u001b[1;32m    199\u001b[0m     \u001b[0;32melse\u001b[0m\u001b[0;34m:\u001b[0m\u001b[0;34m\u001b[0m\u001b[0;34m\u001b[0m\u001b[0m\n\u001b[0;32m--> 200\u001b[0;31m         tree._fit(\n\u001b[0m\u001b[1;32m    201\u001b[0m             \u001b[0mX\u001b[0m\u001b[0;34m,\u001b[0m\u001b[0;34m\u001b[0m\u001b[0;34m\u001b[0m\u001b[0m\n\u001b[1;32m    202\u001b[0m             \u001b[0my\u001b[0m\u001b[0;34m,\u001b[0m\u001b[0;34m\u001b[0m\u001b[0;34m\u001b[0m\u001b[0m\n",
            "\u001b[0;32m/usr/local/lib/python3.10/dist-packages/sklearn/tree/_classes.py\u001b[0m in \u001b[0;36m_fit\u001b[0;34m(self, X, y, sample_weight, check_input, missing_values_in_feature_mask)\u001b[0m\n\u001b[1;32m    470\u001b[0m             )\n\u001b[1;32m    471\u001b[0m \u001b[0;34m\u001b[0m\u001b[0m\n\u001b[0;32m--> 472\u001b[0;31m         \u001b[0mbuilder\u001b[0m\u001b[0;34m.\u001b[0m\u001b[0mbuild\u001b[0m\u001b[0;34m(\u001b[0m\u001b[0mself\u001b[0m\u001b[0;34m.\u001b[0m\u001b[0mtree_\u001b[0m\u001b[0;34m,\u001b[0m \u001b[0mX\u001b[0m\u001b[0;34m,\u001b[0m \u001b[0my\u001b[0m\u001b[0;34m,\u001b[0m \u001b[0msample_weight\u001b[0m\u001b[0;34m,\u001b[0m \u001b[0mmissing_values_in_feature_mask\u001b[0m\u001b[0;34m)\u001b[0m\u001b[0;34m\u001b[0m\u001b[0;34m\u001b[0m\u001b[0m\n\u001b[0m\u001b[1;32m    473\u001b[0m \u001b[0;34m\u001b[0m\u001b[0m\n\u001b[1;32m    474\u001b[0m         \u001b[0;32mif\u001b[0m \u001b[0mself\u001b[0m\u001b[0;34m.\u001b[0m\u001b[0mn_outputs_\u001b[0m \u001b[0;34m==\u001b[0m \u001b[0;36m1\u001b[0m \u001b[0;32mand\u001b[0m \u001b[0mis_classifier\u001b[0m\u001b[0;34m(\u001b[0m\u001b[0mself\u001b[0m\u001b[0;34m)\u001b[0m\u001b[0;34m:\u001b[0m\u001b[0;34m\u001b[0m\u001b[0;34m\u001b[0m\u001b[0m\n",
            "\u001b[0;31mKeyboardInterrupt\u001b[0m: "
          ]
        }
      ]
    },
    {
      "cell_type": "markdown",
      "source": [
        "# This part we will use dropout."
      ],
      "metadata": {
        "id": "wln2b9Ht9qWJ"
      }
    },
    {
      "cell_type": "code",
      "source": [
        "from tensorflow.keras.models import Sequential, Model\n",
        "from tensorflow.keras.layers import Dense, Dropout, Activation, Input, BatchNormalization\n",
        "from tensorflow.keras.activations import swish, elu\n",
        "from tensorflow.keras.optimizers import Adam\n",
        "\n",
        "pca = PCA(n_components=41)\n",
        "X_pca_train = pca.fit_transform(X_train_data_partial)\n",
        "X_pca_val = pca.transform(X_val)\n",
        "# Resplit the training data for drop out model before resample\n",
        "X_train_dp, X_val_dp, y_train_dp, y_val_dp = train_test_split(X_pca_train, y_train_partial, test_size=0.2, stratify=y_train_partial)\n",
        "# Validation data for epoch training\n",
        "y_val_dp_one_hot = pd.get_dummies(y_val_dp, dtype=int)\n",
        "validation_set_dp = (X_val_dp, y_val_dp_one_hot)\n",
        "\n",
        "# Dropout with ADASYN and PCA\n",
        "X_resampled_dp, y_resampled_dp = ADASYN().fit_resample(X_train_dp, y_train_dp)\n",
        "# One hot encode y for loss='categorical_crossentropy'\n",
        "y_resampled_one_hot = pd.get_dummies(y_resampled_dp, dtype=int)\n",
        "def build_model(input_shape):\n",
        "    x = Input(shape=input_shape)\n",
        "    d1 = Dropout(rate=0.1)(x)\n",
        "    h1 = Dense(8)(d1)\n",
        "    a1 = Activation(swish)(h1)\n",
        "    b1 = BatchNormalization()(a1)\n",
        "    d2 = Dropout(rate=0.5)(b1)\n",
        "    h2 = Dense(4)(d2)\n",
        "    a2 = Activation(elu)(h2)\n",
        "    b2 = BatchNormalization()(a2)\n",
        "    d3 = Dropout(rate=0.5)(b2)\n",
        "    h3 = Dense(2)(d3)\n",
        "    a3 = Activation(swish)(h3)\n",
        "    b3 = BatchNormalization()(a3)\n",
        "    d4 = Dropout(rate=0.5)(b3)\n",
        "    h4 = Dense(2)(d4)\n",
        "    p = Activation('softmax')(h4)\n",
        "    model = Model(inputs=x, outputs=p)\n",
        "    model.compile(optimizer=Adam(learning_rate=0.001), loss='categorical_crossentropy', metrics=['accuracy'])\n",
        "    return model\n",
        "\n",
        "model6 = build_model((X_resampled_dp.shape[1],))"
      ],
      "metadata": {
        "id": "ih_RNOjNiV3e"
      },
      "execution_count": null,
      "outputs": []
    },
    {
      "cell_type": "code",
      "source": [
        "y_resampled_one_hot.head()"
      ],
      "metadata": {
        "colab": {
          "base_uri": "https://localhost:8080/",
          "height": 206
        },
        "id": "kgn7XoHLY05o",
        "outputId": "ef04c1ee-d892-45da-d43c-411aa52e40a8"
      },
      "execution_count": null,
      "outputs": [
        {
          "output_type": "execute_result",
          "data": {
            "text/plain": [
              "   0  1\n",
              "0  1  0\n",
              "1  1  0\n",
              "2  1  0\n",
              "3  1  0\n",
              "4  1  0"
            ],
            "text/html": [
              "\n",
              "  <div id=\"df-f19f2b2e-8269-4cc6-8b54-3d074cfff0bb\" class=\"colab-df-container\">\n",
              "    <div>\n",
              "<style scoped>\n",
              "    .dataframe tbody tr th:only-of-type {\n",
              "        vertical-align: middle;\n",
              "    }\n",
              "\n",
              "    .dataframe tbody tr th {\n",
              "        vertical-align: top;\n",
              "    }\n",
              "\n",
              "    .dataframe thead th {\n",
              "        text-align: right;\n",
              "    }\n",
              "</style>\n",
              "<table border=\"1\" class=\"dataframe\">\n",
              "  <thead>\n",
              "    <tr style=\"text-align: right;\">\n",
              "      <th></th>\n",
              "      <th>0</th>\n",
              "      <th>1</th>\n",
              "    </tr>\n",
              "  </thead>\n",
              "  <tbody>\n",
              "    <tr>\n",
              "      <th>0</th>\n",
              "      <td>1</td>\n",
              "      <td>0</td>\n",
              "    </tr>\n",
              "    <tr>\n",
              "      <th>1</th>\n",
              "      <td>1</td>\n",
              "      <td>0</td>\n",
              "    </tr>\n",
              "    <tr>\n",
              "      <th>2</th>\n",
              "      <td>1</td>\n",
              "      <td>0</td>\n",
              "    </tr>\n",
              "    <tr>\n",
              "      <th>3</th>\n",
              "      <td>1</td>\n",
              "      <td>0</td>\n",
              "    </tr>\n",
              "    <tr>\n",
              "      <th>4</th>\n",
              "      <td>1</td>\n",
              "      <td>0</td>\n",
              "    </tr>\n",
              "  </tbody>\n",
              "</table>\n",
              "</div>\n",
              "    <div class=\"colab-df-buttons\">\n",
              "\n",
              "  <div class=\"colab-df-container\">\n",
              "    <button class=\"colab-df-convert\" onclick=\"convertToInteractive('df-f19f2b2e-8269-4cc6-8b54-3d074cfff0bb')\"\n",
              "            title=\"Convert this dataframe to an interactive table.\"\n",
              "            style=\"display:none;\">\n",
              "\n",
              "  <svg xmlns=\"http://www.w3.org/2000/svg\" height=\"24px\" viewBox=\"0 -960 960 960\">\n",
              "    <path d=\"M120-120v-720h720v720H120Zm60-500h600v-160H180v160Zm220 220h160v-160H400v160Zm0 220h160v-160H400v160ZM180-400h160v-160H180v160Zm440 0h160v-160H620v160ZM180-180h160v-160H180v160Zm440 0h160v-160H620v160Z\"/>\n",
              "  </svg>\n",
              "    </button>\n",
              "\n",
              "  <style>\n",
              "    .colab-df-container {\n",
              "      display:flex;\n",
              "      gap: 12px;\n",
              "    }\n",
              "\n",
              "    .colab-df-convert {\n",
              "      background-color: #E8F0FE;\n",
              "      border: none;\n",
              "      border-radius: 50%;\n",
              "      cursor: pointer;\n",
              "      display: none;\n",
              "      fill: #1967D2;\n",
              "      height: 32px;\n",
              "      padding: 0 0 0 0;\n",
              "      width: 32px;\n",
              "    }\n",
              "\n",
              "    .colab-df-convert:hover {\n",
              "      background-color: #E2EBFA;\n",
              "      box-shadow: 0px 1px 2px rgba(60, 64, 67, 0.3), 0px 1px 3px 1px rgba(60, 64, 67, 0.15);\n",
              "      fill: #174EA6;\n",
              "    }\n",
              "\n",
              "    .colab-df-buttons div {\n",
              "      margin-bottom: 4px;\n",
              "    }\n",
              "\n",
              "    [theme=dark] .colab-df-convert {\n",
              "      background-color: #3B4455;\n",
              "      fill: #D2E3FC;\n",
              "    }\n",
              "\n",
              "    [theme=dark] .colab-df-convert:hover {\n",
              "      background-color: #434B5C;\n",
              "      box-shadow: 0px 1px 3px 1px rgba(0, 0, 0, 0.15);\n",
              "      filter: drop-shadow(0px 1px 2px rgba(0, 0, 0, 0.3));\n",
              "      fill: #FFFFFF;\n",
              "    }\n",
              "  </style>\n",
              "\n",
              "    <script>\n",
              "      const buttonEl =\n",
              "        document.querySelector('#df-f19f2b2e-8269-4cc6-8b54-3d074cfff0bb button.colab-df-convert');\n",
              "      buttonEl.style.display =\n",
              "        google.colab.kernel.accessAllowed ? 'block' : 'none';\n",
              "\n",
              "      async function convertToInteractive(key) {\n",
              "        const element = document.querySelector('#df-f19f2b2e-8269-4cc6-8b54-3d074cfff0bb');\n",
              "        const dataTable =\n",
              "          await google.colab.kernel.invokeFunction('convertToInteractive',\n",
              "                                                    [key], {});\n",
              "        if (!dataTable) return;\n",
              "\n",
              "        const docLinkHtml = 'Like what you see? Visit the ' +\n",
              "          '<a target=\"_blank\" href=https://colab.research.google.com/notebooks/data_table.ipynb>data table notebook</a>'\n",
              "          + ' to learn more about interactive tables.';\n",
              "        element.innerHTML = '';\n",
              "        dataTable['output_type'] = 'display_data';\n",
              "        await google.colab.output.renderOutput(dataTable, element);\n",
              "        const docLink = document.createElement('div');\n",
              "        docLink.innerHTML = docLinkHtml;\n",
              "        element.appendChild(docLink);\n",
              "      }\n",
              "    </script>\n",
              "  </div>\n",
              "\n",
              "\n",
              "<div id=\"df-4d0cf97f-591d-4f00-82d3-6585c9c6e00d\">\n",
              "  <button class=\"colab-df-quickchart\" onclick=\"quickchart('df-4d0cf97f-591d-4f00-82d3-6585c9c6e00d')\"\n",
              "            title=\"Suggest charts\"\n",
              "            style=\"display:none;\">\n",
              "\n",
              "<svg xmlns=\"http://www.w3.org/2000/svg\" height=\"24px\"viewBox=\"0 0 24 24\"\n",
              "     width=\"24px\">\n",
              "    <g>\n",
              "        <path d=\"M19 3H5c-1.1 0-2 .9-2 2v14c0 1.1.9 2 2 2h14c1.1 0 2-.9 2-2V5c0-1.1-.9-2-2-2zM9 17H7v-7h2v7zm4 0h-2V7h2v10zm4 0h-2v-4h2v4z\"/>\n",
              "    </g>\n",
              "</svg>\n",
              "  </button>\n",
              "\n",
              "<style>\n",
              "  .colab-df-quickchart {\n",
              "      --bg-color: #E8F0FE;\n",
              "      --fill-color: #1967D2;\n",
              "      --hover-bg-color: #E2EBFA;\n",
              "      --hover-fill-color: #174EA6;\n",
              "      --disabled-fill-color: #AAA;\n",
              "      --disabled-bg-color: #DDD;\n",
              "  }\n",
              "\n",
              "  [theme=dark] .colab-df-quickchart {\n",
              "      --bg-color: #3B4455;\n",
              "      --fill-color: #D2E3FC;\n",
              "      --hover-bg-color: #434B5C;\n",
              "      --hover-fill-color: #FFFFFF;\n",
              "      --disabled-bg-color: #3B4455;\n",
              "      --disabled-fill-color: #666;\n",
              "  }\n",
              "\n",
              "  .colab-df-quickchart {\n",
              "    background-color: var(--bg-color);\n",
              "    border: none;\n",
              "    border-radius: 50%;\n",
              "    cursor: pointer;\n",
              "    display: none;\n",
              "    fill: var(--fill-color);\n",
              "    height: 32px;\n",
              "    padding: 0;\n",
              "    width: 32px;\n",
              "  }\n",
              "\n",
              "  .colab-df-quickchart:hover {\n",
              "    background-color: var(--hover-bg-color);\n",
              "    box-shadow: 0 1px 2px rgba(60, 64, 67, 0.3), 0 1px 3px 1px rgba(60, 64, 67, 0.15);\n",
              "    fill: var(--button-hover-fill-color);\n",
              "  }\n",
              "\n",
              "  .colab-df-quickchart-complete:disabled,\n",
              "  .colab-df-quickchart-complete:disabled:hover {\n",
              "    background-color: var(--disabled-bg-color);\n",
              "    fill: var(--disabled-fill-color);\n",
              "    box-shadow: none;\n",
              "  }\n",
              "\n",
              "  .colab-df-spinner {\n",
              "    border: 2px solid var(--fill-color);\n",
              "    border-color: transparent;\n",
              "    border-bottom-color: var(--fill-color);\n",
              "    animation:\n",
              "      spin 1s steps(1) infinite;\n",
              "  }\n",
              "\n",
              "  @keyframes spin {\n",
              "    0% {\n",
              "      border-color: transparent;\n",
              "      border-bottom-color: var(--fill-color);\n",
              "      border-left-color: var(--fill-color);\n",
              "    }\n",
              "    20% {\n",
              "      border-color: transparent;\n",
              "      border-left-color: var(--fill-color);\n",
              "      border-top-color: var(--fill-color);\n",
              "    }\n",
              "    30% {\n",
              "      border-color: transparent;\n",
              "      border-left-color: var(--fill-color);\n",
              "      border-top-color: var(--fill-color);\n",
              "      border-right-color: var(--fill-color);\n",
              "    }\n",
              "    40% {\n",
              "      border-color: transparent;\n",
              "      border-right-color: var(--fill-color);\n",
              "      border-top-color: var(--fill-color);\n",
              "    }\n",
              "    60% {\n",
              "      border-color: transparent;\n",
              "      border-right-color: var(--fill-color);\n",
              "    }\n",
              "    80% {\n",
              "      border-color: transparent;\n",
              "      border-right-color: var(--fill-color);\n",
              "      border-bottom-color: var(--fill-color);\n",
              "    }\n",
              "    90% {\n",
              "      border-color: transparent;\n",
              "      border-bottom-color: var(--fill-color);\n",
              "    }\n",
              "  }\n",
              "</style>\n",
              "\n",
              "  <script>\n",
              "    async function quickchart(key) {\n",
              "      const quickchartButtonEl =\n",
              "        document.querySelector('#' + key + ' button');\n",
              "      quickchartButtonEl.disabled = true;  // To prevent multiple clicks.\n",
              "      quickchartButtonEl.classList.add('colab-df-spinner');\n",
              "      try {\n",
              "        const charts = await google.colab.kernel.invokeFunction(\n",
              "            'suggestCharts', [key], {});\n",
              "      } catch (error) {\n",
              "        console.error('Error during call to suggestCharts:', error);\n",
              "      }\n",
              "      quickchartButtonEl.classList.remove('colab-df-spinner');\n",
              "      quickchartButtonEl.classList.add('colab-df-quickchart-complete');\n",
              "    }\n",
              "    (() => {\n",
              "      let quickchartButtonEl =\n",
              "        document.querySelector('#df-4d0cf97f-591d-4f00-82d3-6585c9c6e00d button');\n",
              "      quickchartButtonEl.style.display =\n",
              "        google.colab.kernel.accessAllowed ? 'block' : 'none';\n",
              "    })();\n",
              "  </script>\n",
              "</div>\n",
              "\n",
              "    </div>\n",
              "  </div>\n"
            ],
            "application/vnd.google.colaboratory.intrinsic+json": {
              "type": "dataframe",
              "variable_name": "y_clresampled_one_hot"
            }
          },
          "metadata": {},
          "execution_count": 50
        }
      ]
    },
    {
      "cell_type": "code",
      "source": [
        "# Train the model\n",
        "model6.fit(X_resampled_dp, y_resampled_one_hot, epochs=20, batch_size=64, validation_data=validation_set_dp)"
      ],
      "metadata": {
        "colab": {
          "base_uri": "https://localhost:8080/"
        },
        "id": "7l8mEQiWpitK",
        "outputId": "9be2947c-82b6-48ed-a6e7-696d147f58fa"
      },
      "execution_count": null,
      "outputs": [
        {
          "output_type": "stream",
          "name": "stdout",
          "text": [
            "Epoch 1/20\n",
            "\u001b[1m8013/8013\u001b[0m \u001b[32m━━━━━━━━━━━━━━━━━━━━\u001b[0m\u001b[37m\u001b[0m \u001b[1m46s\u001b[0m 4ms/step - accuracy: 0.6845 - loss: 0.5682 - val_accuracy: 0.8795 - val_loss: 0.2994\n",
            "Epoch 2/20\n",
            "\u001b[1m8013/8013\u001b[0m \u001b[32m━━━━━━━━━━━━━━━━━━━━\u001b[0m\u001b[37m\u001b[0m \u001b[1m36s\u001b[0m 3ms/step - accuracy: 0.7510 - loss: 0.4724 - val_accuracy: 0.8633 - val_loss: 0.3202\n",
            "Epoch 3/20\n",
            "\u001b[1m8013/8013\u001b[0m \u001b[32m━━━━━━━━━━━━━━━━━━━━\u001b[0m\u001b[37m\u001b[0m \u001b[1m39s\u001b[0m 3ms/step - accuracy: 0.7525 - loss: 0.4689 - val_accuracy: 0.8745 - val_loss: 0.3056\n",
            "Epoch 4/20\n",
            "\u001b[1m8013/8013\u001b[0m \u001b[32m━━━━━━━━━━━━━━━━━━━━\u001b[0m\u001b[37m\u001b[0m \u001b[1m26s\u001b[0m 3ms/step - accuracy: 0.7516 - loss: 0.4669 - val_accuracy: 0.8685 - val_loss: 0.3151\n",
            "Epoch 5/20\n",
            "\u001b[1m8013/8013\u001b[0m \u001b[32m━━━━━━━━━━━━━━━━━━━━\u001b[0m\u001b[37m\u001b[0m \u001b[1m42s\u001b[0m 3ms/step - accuracy: 0.7526 - loss: 0.4667 - val_accuracy: 0.8796 - val_loss: 0.2947\n",
            "Epoch 6/20\n",
            "\u001b[1m8013/8013\u001b[0m \u001b[32m━━━━━━━━━━━━━━━━━━━━\u001b[0m\u001b[37m\u001b[0m \u001b[1m40s\u001b[0m 5ms/step - accuracy: 0.7536 - loss: 0.4640 - val_accuracy: 0.8971 - val_loss: 0.2683\n",
            "Epoch 7/20\n",
            "\u001b[1m8013/8013\u001b[0m \u001b[32m━━━━━━━━━━━━━━━━━━━━\u001b[0m\u001b[37m\u001b[0m \u001b[1m47s\u001b[0m 6ms/step - accuracy: 0.7543 - loss: 0.4636 - val_accuracy: 0.8862 - val_loss: 0.2854\n",
            "Epoch 8/20\n",
            "\u001b[1m8013/8013\u001b[0m \u001b[32m━━━━━━━━━━━━━━━━━━━━\u001b[0m\u001b[37m\u001b[0m \u001b[1m61s\u001b[0m 3ms/step - accuracy: 0.7565 - loss: 0.4613 - val_accuracy: 0.8866 - val_loss: 0.2882\n",
            "Epoch 9/20\n",
            "\u001b[1m8013/8013\u001b[0m \u001b[32m━━━━━━━━━━━━━━━━━━━━\u001b[0m\u001b[37m\u001b[0m \u001b[1m32s\u001b[0m 4ms/step - accuracy: 0.7551 - loss: 0.4615 - val_accuracy: 0.8802 - val_loss: 0.2948\n",
            "Epoch 10/20\n",
            "\u001b[1m8013/8013\u001b[0m \u001b[32m━━━━━━━━━━━━━━━━━━━━\u001b[0m\u001b[37m\u001b[0m \u001b[1m49s\u001b[0m 5ms/step - accuracy: 0.7556 - loss: 0.4609 - val_accuracy: 0.8921 - val_loss: 0.2725\n",
            "Epoch 11/20\n",
            "\u001b[1m8013/8013\u001b[0m \u001b[32m━━━━━━━━━━━━━━━━━━━━\u001b[0m\u001b[37m\u001b[0m \u001b[1m52s\u001b[0m 7ms/step - accuracy: 0.7562 - loss: 0.4585 - val_accuracy: 0.8934 - val_loss: 0.2734\n",
            "Epoch 12/20\n",
            "\u001b[1m8013/8013\u001b[0m \u001b[32m━━━━━━━━━━━━━━━━━━━━\u001b[0m\u001b[37m\u001b[0m \u001b[1m53s\u001b[0m 3ms/step - accuracy: 0.7558 - loss: 0.4600 - val_accuracy: 0.8859 - val_loss: 0.2786\n",
            "Epoch 13/20\n",
            "\u001b[1m8013/8013\u001b[0m \u001b[32m━━━━━━━━━━━━━━━━━━━━\u001b[0m\u001b[37m\u001b[0m \u001b[1m41s\u001b[0m 3ms/step - accuracy: 0.7574 - loss: 0.4588 - val_accuracy: 0.9019 - val_loss: 0.2527\n",
            "Epoch 14/20\n",
            "\u001b[1m8013/8013\u001b[0m \u001b[32m━━━━━━━━━━━━━━━━━━━━\u001b[0m\u001b[37m\u001b[0m \u001b[1m50s\u001b[0m 4ms/step - accuracy: 0.7569 - loss: 0.4594 - val_accuracy: 0.8817 - val_loss: 0.2879\n",
            "Epoch 15/20\n",
            "\u001b[1m8013/8013\u001b[0m \u001b[32m━━━━━━━━━━━━━━━━━━━━\u001b[0m\u001b[37m\u001b[0m \u001b[1m34s\u001b[0m 3ms/step - accuracy: 0.7572 - loss: 0.4574 - val_accuracy: 0.8912 - val_loss: 0.2740\n",
            "Epoch 16/20\n",
            "\u001b[1m8013/8013\u001b[0m \u001b[32m━━━━━━━━━━━━━━━━━━━━\u001b[0m\u001b[37m\u001b[0m \u001b[1m25s\u001b[0m 3ms/step - accuracy: 0.7585 - loss: 0.4561 - val_accuracy: 0.8921 - val_loss: 0.2737\n",
            "Epoch 17/20\n",
            "\u001b[1m8013/8013\u001b[0m \u001b[32m━━━━━━━━━━━━━━━━━━━━\u001b[0m\u001b[37m\u001b[0m \u001b[1m23s\u001b[0m 3ms/step - accuracy: 0.7561 - loss: 0.4590 - val_accuracy: 0.8946 - val_loss: 0.2707\n",
            "Epoch 18/20\n",
            "\u001b[1m8013/8013\u001b[0m \u001b[32m━━━━━━━━━━━━━━━━━━━━\u001b[0m\u001b[37m\u001b[0m \u001b[1m43s\u001b[0m 3ms/step - accuracy: 0.7562 - loss: 0.4589 - val_accuracy: 0.8933 - val_loss: 0.2712\n",
            "Epoch 19/20\n",
            "\u001b[1m8013/8013\u001b[0m \u001b[32m━━━━━━━━━━━━━━━━━━━━\u001b[0m\u001b[37m\u001b[0m \u001b[1m41s\u001b[0m 3ms/step - accuracy: 0.7567 - loss: 0.4598 - val_accuracy: 0.8892 - val_loss: 0.2762\n",
            "Epoch 20/20\n",
            "\u001b[1m8013/8013\u001b[0m \u001b[32m━━━━━━━━━━━━━━━━━━━━\u001b[0m\u001b[37m\u001b[0m \u001b[1m26s\u001b[0m 3ms/step - accuracy: 0.7563 - loss: 0.4585 - val_accuracy: 0.8969 - val_loss: 0.2606\n"
          ]
        },
        {
          "output_type": "execute_result",
          "data": {
            "text/plain": [
              "<keras.src.callbacks.history.History at 0x7ab0d060be80>"
            ]
          },
          "metadata": {},
          "execution_count": 25
        }
      ]
    },
    {
      "cell_type": "code",
      "source": [
        "predictions6 = model6.predict(X_pca_val)[:,1]\n",
        "score(pd.DataFrame(y_val), pd.DataFrame(predictions6),'isic_id')"
      ],
      "metadata": {
        "colab": {
          "base_uri": "https://localhost:8080/"
        },
        "id": "E0ofV5yhptke",
        "outputId": "8cf75090-da7c-4630-d9dc-ab996ff47421"
      },
      "execution_count": null,
      "outputs": [
        {
          "output_type": "stream",
          "name": "stdout",
          "text": [
            "\u001b[1m2507/2507\u001b[0m \u001b[32m━━━━━━━━━━━━━━━━━━━━\u001b[0m\u001b[37m\u001b[0m \u001b[1m4s\u001b[0m 1ms/step\n"
          ]
        },
        {
          "output_type": "execute_result",
          "data": {
            "text/plain": [
              "0.12576060653593776"
            ]
          },
          "metadata": {},
          "execution_count": 26
        }
      ]
    },
    {
      "cell_type": "markdown",
      "source": [
        "# Models using RBMs"
      ],
      "metadata": {
        "id": "3TyPrq9oCXAb"
      }
    },
    {
      "cell_type": "code",
      "source": [
        "import torch\n",
        "import torch.nn as nn\n",
        "import torch.optim as optim\n",
        "from sklearn.base import BaseEstimator, ClassifierMixin\n",
        "from sklearn.metrics import accuracy_score\n",
        "\n",
        "class RBM(nn.Module):\n",
        "    def __init__(self, n_visible, n_hidden):\n",
        "        super(RBM, self).__init__()\n",
        "        self.W = nn.Parameter(torch.randn(n_visible, n_hidden) * 0.1)\n",
        "        self.hidden_bias = nn.Parameter(torch.zeros(n_hidden))\n",
        "        self.visible_bias = nn.Parameter(torch.zeros(n_visible))\n",
        "\n",
        "    def sample_hidden(self, visible):\n",
        "        hidden_activations = torch.mm(visible, self.W) + self.hidden_bias\n",
        "        hidden_probs = torch.sigmoid(hidden_activations)\n",
        "        return hidden_probs\n",
        "\n",
        "    def sample_visible(self, hidden):\n",
        "        visible_activations = torch.mm(hidden, self.W.t()) + self.visible_bias\n",
        "        visible_probs = torch.sigmoid(visible_activations)\n",
        "        return visible_probs\n",
        "\n",
        "class OptimizedRBMClassifier(BaseEstimator, ClassifierMixin):\n",
        "    def __init__(self,\n",
        "                 reduction_ratio=0.5,\n",
        "                 enhancement_ratio=0.3,\n",
        "                 n_epochs=10,\n",
        "                 batch_size=32,\n",
        "                 learning_rate=0.01,\n",
        "                 n_estimators=100):\n",
        "        \"\"\"\n",
        "        Parameters:\n",
        "        reduction_ratio: float, percentage of original features to keep in reduction\n",
        "        enhancement_ratio: float, percentage of new features to add\n",
        "        n_epochs: int, number of epochs for RBM training\n",
        "        batch_size: int, batch size for RBM training\n",
        "        learning_rate: float, learning rate for RBM\n",
        "        n_estimators: int, number of trees in Extra Trees Classifier\n",
        "        \"\"\"\n",
        "        self.reduction_ratio = reduction_ratio\n",
        "        self.enhancement_ratio = enhancement_ratio\n",
        "        self.n_epochs = n_epochs\n",
        "        self.batch_size = batch_size\n",
        "        self.learning_rate = learning_rate\n",
        "        self.n_estimators = n_estimators\n",
        "\n",
        "    def _train_rbm(self, rbm, data_tensor):\n",
        "        \"\"\"Train the RBM model\"\"\"\n",
        "        optimizer = optim.Adam(rbm.parameters(), lr=self.learning_rate)\n",
        "\n",
        "        for epoch in range(self.n_epochs):\n",
        "            epoch_error = 0\n",
        "            for i in range(0, len(data_tensor), self.batch_size):\n",
        "                batch = data_tensor[i:i + self.batch_size]\n",
        "\n",
        "                # Positive phase\n",
        "                positive_hidden = rbm.sample_hidden(batch)\n",
        "\n",
        "                # Negative phase\n",
        "                negative_visible = rbm.sample_visible(positive_hidden)\n",
        "                negative_hidden = rbm.sample_hidden(negative_visible)\n",
        "\n",
        "                # Update weights\n",
        "                optimizer.zero_grad()\n",
        "                loss = torch.mean((batch - negative_visible) ** 2)\n",
        "                loss.backward()\n",
        "                optimizer.step()\n",
        "\n",
        "                epoch_error += loss.item()\n",
        "\n",
        "            if (epoch + 1) % 5 == 0:\n",
        "                print(f\"Epoch {epoch + 1}/{self.n_epochs}, Error: {epoch_error/len(data_tensor):.4f}\")\n",
        "\n",
        "    def _get_important_features(self, X, y, n_features):\n",
        "        \"\"\"Get indices of most important features\"\"\"\n",
        "        clf = ExtraTreesClassifier(n_estimators=50, random_state=42)\n",
        "        clf.fit(X, y)\n",
        "        importance_indices = np.argsort(clf.feature_importances_)[-n_features:]\n",
        "        return importance_indices\n",
        "\n",
        "    def fit(self, X, y):\n",
        "        \"\"\"Fit the classifier\"\"\"\n",
        "        X_scaled = X\n",
        "\n",
        "        # Convert to tensor\n",
        "        X_tensor = torch.FloatTensor(X_scaled)\n",
        "\n",
        "        # Calculate dimensions for reduction and enhancement\n",
        "        n_samples, n_features = X.shape\n",
        "        n_reduced = max(1, int(n_features * self.reduction_ratio))\n",
        "        n_enhanced = max(1, int(n_features * self.enhancement_ratio))\n",
        "\n",
        "        # First RBM for reduction\n",
        "        print(\"Training reduction RBM...\")\n",
        "        self.reduction_rbm = RBM(n_features, n_reduced)\n",
        "        self._train_rbm(self.reduction_rbm, X_tensor)\n",
        "\n",
        "        # Get reduced features\n",
        "        with torch.no_grad():\n",
        "            reduced_features = self.reduction_rbm.sample_hidden(X_tensor).numpy()\n",
        "\n",
        "        # Train classifier on reduced features to check importance\n",
        "        temp_clf = ExtraTreesClassifier(n_estimators=50, random_state=42)\n",
        "        temp_clf.fit(reduced_features, y)\n",
        "\n",
        "        # Keep only important reduced features\n",
        "        importance_threshold = np.percentile(temp_clf.feature_importances_, 50)\n",
        "        important_indices = temp_clf.feature_importances_ > importance_threshold\n",
        "        self.important_reduced_indices = important_indices\n",
        "\n",
        "        reduced_important = reduced_features[:, important_indices]\n",
        "\n",
        "        # Second RBM for enhancement\n",
        "        print(\"\\nTraining enhancement RBM...\")\n",
        "        self.enhancement_rbm = RBM(reduced_important.shape[1], n_enhanced)\n",
        "        self._train_rbm(self.enhancement_rbm, torch.FloatTensor(reduced_important))\n",
        "\n",
        "        # Get enhanced features\n",
        "        with torch.no_grad():\n",
        "            enhanced_features = self.enhancement_rbm.sample_hidden(\n",
        "                torch.FloatTensor(reduced_important)\n",
        "            ).numpy()\n",
        "\n",
        "        # Combine important reduced and enhanced features\n",
        "        self.final_features = np.hstack([reduced_important, enhanced_features])\n",
        "\n",
        "        # Train final classifier\n",
        "        self.classifier = ExtraTreesClassifier(\n",
        "            n_estimators=self.n_estimators,\n",
        "            random_state=42\n",
        "        )\n",
        "        self.classifier.fit(self.final_features, y)\n",
        "\n",
        "        return self\n",
        "\n",
        "    def predict_proba(self, X):\n",
        "        \"\"\"Predict class probabilities\"\"\"\n",
        "        # Transform input data\n",
        "        X_scaled = X\n",
        "        X_tensor = torch.FloatTensor(X_scaled)\n",
        "\n",
        "        # Get reduced features\n",
        "        with torch.no_grad():\n",
        "            reduced_features = self.reduction_rbm.sample_hidden(X_tensor).numpy()\n",
        "            reduced_important = reduced_features[:, self.important_reduced_indices]\n",
        "\n",
        "            # Get enhanced features\n",
        "            enhanced_features = self.enhancement_rbm.sample_hidden(\n",
        "                torch.FloatTensor(reduced_important)\n",
        "            ).numpy()\n",
        "\n",
        "        # Combine features\n",
        "        final_features = np.hstack([reduced_important, enhanced_features])\n",
        "\n",
        "        return self.classifier.predict_proba(final_features)\n",
        "\n",
        "    def predict(self, X):\n",
        "        \"\"\"Predict classes\"\"\"\n",
        "        return np.argmax(self.predict_proba(X), axis=1)\n"
      ],
      "metadata": {
        "id": "iAix_uQW0hw2"
      },
      "execution_count": null,
      "outputs": []
    },
    {
      "cell_type": "code",
      "source": [
        "rbm_clf = OptimizedRBMClassifier(\n",
        "        reduction_ratio=0.5,\n",
        "        enhancement_ratio=0.3,\n",
        "        n_epochs=10\n",
        "    )\n",
        "X_clresampled, y_clresampled = ADASYN().fit_resample(X_train_data_partial, y_train_partial)\n",
        "rbm_clf.fit(np.array(X_clresampled), y_clresampled)"
      ],
      "metadata": {
        "colab": {
          "base_uri": "https://localhost:8080/"
        },
        "id": "W80eQ0gaCWHx",
        "outputId": "e43a312b-ad83-46e1-be25-59ddb760d37d"
      },
      "execution_count": null,
      "outputs": [
        {
          "output_type": "stream",
          "name": "stdout",
          "text": [
            "Training reduction RBM...\n",
            "Epoch 5/10, Error: 0.0148\n",
            "Epoch 10/10, Error: 0.0148\n",
            "\n",
            "Training enhancement RBM...\n",
            "Epoch 5/10, Error: 0.0000\n",
            "Epoch 10/10, Error: 0.0000\n"
          ]
        }
      ]
    },
    {
      "cell_type": "code",
      "source": [
        "rbm_preds = rbm_clf.predict_proba(X_val)\n",
        "score(pd.DataFrame(y_val), pd.DataFrame(rbm_preds[:,1]),'isic_id')"
      ],
      "metadata": {
        "colab": {
          "base_uri": "https://localhost:8080/"
        },
        "id": "SLApjDBJClvX",
        "outputId": "9cd81793-d3fa-4e14-eea7-d81daec18f5d"
      },
      "execution_count": null,
      "outputs": [
        {
          "output_type": "execute_result",
          "data": {
            "text/plain": [
              "0.10766384746119066"
            ]
          },
          "metadata": {},
          "execution_count": 26
        }
      ]
    }
  ]
}